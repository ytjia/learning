{
 "metadata": {
  "name": "Draft"
 }, 
 "nbformat": 2, 
 "worksheets": [
  {
   "cells": [
    {
     "cell_type": "code", 
     "collapsed": false, 
     "input": [
      "import urllib ", 
      "import json ", 
      "url = 'http://10.64.15.160:8099/data-api/v1/uuid/9E54876A5756ECB1C00D0D03E23C249E488B4F1F99755430D4EB98D0C80B8094/aggregeo/seven' ", 
      "def get_data(): ", 
      "    response = urllib.urlopen(url).read() ", 
      "    json_array = json.loads(response) ", 
      "    channel = {} ", 
      "    i = 0", 
      "    for json_map in json_array: ", 
      "        i += 1", 
      "        channel[i] = json_map", 
      "    return channel; ", 
      "if __name__ == '__main__': ", 
      "    clist = get_data() ", 
      "    for key in clist.keys(): ", 
      "        print(\"%s %s\") % (key, clist[key])"
     ], 
     "language": "python", 
     "outputs": [], 
     "prompt_number": 5
    }, 
    {
     "cell_type": "code", 
     "collapsed": false, 
     "input": [
      "import xlrd", 
      "import openpyxl", 
      "import pandas as pd", 
      "xls_file = pd.ExcelFile('/Users/ytjia/Downloads/noteexcel.xls')", 
      "table = xls_file.parse('noteexcel.xls')", 
      "table"
     ], 
     "language": "python", 
     "outputs": [], 
     "prompt_number": 13
    }, 
    {
     "cell_type": "code", 
     "collapsed": false, 
     "input": [
      "\"\"\"", 
      "Decision Tree.", 
      "\"\"\"", 
      "", 
      "my_data = [['slashdot', 'USA', 'yes', 18, 'None'], ", 
      "             ['google', 'France', 'yes', 23, 'Premium'], ", 
      "             ['digg', 'USA', 'yes', 24, 'Basic'], ", 
      "             ['kiwitobes', 'France', 'yes', 23, 'Basic'], ", 
      "             ['google', 'UK', 'no', 21, 'Premium'], ", 
      "             ['(direct)', 'New Zealand', 'no', 12, 'None'], ", 
      "             ['(direct)', 'UK', 'no', 21, 'Basic'], ", 
      "             ['google', 'USA', 'no', 24, 'Premium'], ", 
      "             ['slashdot', 'France', 'yes', 19, 'None'], ", 
      "             ['digg', 'USA', 'no', 18, 'None'], ", 
      "             ['google', 'UK', 'no', 18, 'None'], ", 
      "             ['kiwitobes', 'UK', 'no', 19, 'None'], ", 
      "             ['digg', 'New Zealand', 'yes', 12, 'Basic'], ", 
      "             ['slashdot', 'UK', 'no', 21, 'None'], ", 
      "             ['google', 'UK', 'yes', 18, 'Basic'], ", 
      "             ['kiwitobes', 'France', 'yes', 19, 'Basic']]", 
      "", 
      "class decisionnode:", 
      "    def __init__(self, col=-1, value=None, results=None, tb=None, fb=None):", 
      "        self.col = col", 
      "        self.value = value", 
      "        self.results = results", 
      "        self.tb = tb", 
      "        self.fb = fb", 
      "", 
      "def divideset(rows, column, value):", 
      "    # Make a function that tells us if a row is in", 
      "    # the first group (true) or the second group (false)", 
      "    split_function = None", 
      "    if isinstance(value, int) or isinstance(value, float):", 
      "        split_function = lambda row: row[column] >= value", 
      "    else:", 
      "        split_function = lambda row: row[column] == value", 
      "    # Divide the rows into two sets and return them", 
      "    set1 = [row for row in rows if split_function(row)]", 
      "    set2 = [row for row in rows if not split_function(row)]", 
      "    return (set1, set2)", 
      "", 
      "divideset(my_data,2,'yes')"
     ], 
     "language": "python", 
     "outputs": [], 
     "prompt_number": 18
    }, 
    {
     "cell_type": "code", 
     "collapsed": false, 
     "input": [
      "\"\"\"", 
      "Analyse users' loction. ", 
      "\"\"\"", 
      "", 
      "import pandas as pd ", 
      "from pandas import DataFrame", 
      "", 
      "def load_data(path):", 
      "    data_loaded = pd.read_table(path, index_col='userid')", 
      "    data_formated = DataFrame(data_loaded)", 
      "    # print data_loaded[:10]   # For test", 
      "    print len(data_loaded)   # For test", 
      "    print data_formated[:10]", 
      "    print data_formated.ix[10000751]", 
      "    print len(data_formated.ix[10000751])", 
      "    count = 0", 
      "    print len(data_formated.index)", 
      "", 
      "if __name__ == '__main__':", 
      "    pure_path = '/Users/ytjia/Downloads/20131101_1201_user_day_loc'", 
      "    load_data(pure_path)"
     ], 
     "language": "python", 
     "outputs": [], 
     "prompt_number": 5
    }, 
    {
     "cell_type": "code", 
     "collapsed": false, 
     "input": [
      "from pandas import DataFrame", 
      "import pandas as pd", 
      "import matplotlib.pyplot as plt", 
      "", 
      "data_dict = {'Quatities': {1: 7808585, 2: 1315999, 3: 289590, 4: 85549, 5: 31742, 6: 13687, 7: 6516, 8: 3323, 9: 1811, 10: 959, 11: 524, 12: 251, 13: 157, 14: 112, 15: 238, 16: 651, 17: 1319, 18: 1984, 19: 2205, 20: 2156, 21: 1721, 22: 1075, 23: 418, 24: 107, 25: 14}}", 
      "data_formated = DataFrame(data_dict)", 
      "print data_formated", 
      "plt.figure()", 
      "data_formated.plot(kind='bar', logy=True)", 
      "plt.show()"
     ], 
     "language": "python", 
     "outputs": [
      {
       "output_type": "stream", 
       "stream": "stdout", 
       "text": [
        "    Quatities", 
        "1     7808585", 
        "2     1315999", 
        "3      289590", 
        "4       85549", 
        "5       31742", 
        "6       13687", 
        "7        6516", 
        "8        3323", 
        "9        1811", 
        "10        959", 
        "11        524", 
        "12        251", 
        "13        157", 
        "14        112", 
        "15        238", 
        "16        651", 
        "17       1319", 
        "18       1984", 
        "19       2205", 
        "20       2156", 
        "21       1721", 
        "22       1075", 
        "23        418", 
        "24        107", 
        "25         14"
       ]
      }
     ], 
     "prompt_number": 49
    }, 
    {
     "cell_type": "code", 
     "collapsed": true, 
     "input": [], 
     "language": "python", 
     "outputs": []
    }, 
    {
     "cell_type": "code", 
     "collapsed": true, 
     "input": [], 
     "language": "python", 
     "outputs": []
    }
   ]
  }
 ]
}