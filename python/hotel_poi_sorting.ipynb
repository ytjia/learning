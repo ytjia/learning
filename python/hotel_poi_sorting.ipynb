{
 "metadata": {
  "name": "hotel_poi_sorting"
 }, 
 "nbformat": 2, 
 "worksheets": [
  {
   "cells": [
    {
     "cell_type": "markdown", 
     "source": [
      "# BaseScore"
     ]
    }, 
    {
     "cell_type": "markdown", 
     "source": [
      "## POI Price Score"
     ]
    }, 
    {
     "cell_type": "code", 
     "collapsed": false, 
     "input": [
      "import pandas as pd", 
      "import numpy as np", 
      "from scipy import stats", 
      "", 
      "price_file_path = '/Users/ytjia/Downloads/Hotel/sort_data/poi_deal_price' ", 
      "", 
      "price_file = pd.read_table(price_file_path, sep = '\\t')", 
      "#price_file = price_file[price_file.dealid > 0]", 
      "price_file.describe()"
     ], 
     "language": "python", 
     "outputs": [
      {
       "html": [
        "<div style=\"max-height:1000px;max-width:1500px;overflow:auto;\">", 
        "<table border=\"1\" class=\"dataframe\">", 
        "  <thead>", 
        "    <tr style=\"text-align: right;\">", 
        "      <th></th>", 
        "      <th>dp.cityid</th>", 
        "      <th>ddp.main_poi_id</th>", 
        "      <th>dd.dealid</th>", 
        "      <th>dd.price</th>", 
        "      <th>hourroom</th>", 
        "    </tr>", 
        "  </thead>", 
        "  <tbody>", 
        "    <tr>", 
        "      <th>count</th>", 
        "      <td> 441514.000000</td>", 
        "      <td>  441514.000000</td>", 
        "      <td>   441514.000000</td>", 
        "      <td> 441514.000000</td>", 
        "      <td> 441514.000000</td>", 
        "    </tr>", 
        "    <tr>", 
        "      <th>mean</th>", 
        "      <td>    157.159827</td>", 
        "      <td> 3696249.823290</td>", 
        "      <td> 17215466.212424</td>", 
        "      <td>    190.016815</td>", 
        "      <td>      1.186671</td>", 
        "    </tr>", 
        "    <tr>", 
        "      <th>std</th>", 
        "      <td>    142.000819</td>", 
        "      <td> 2006154.626626</td>", 
        "      <td>  9845598.189902</td>", 
        "      <td>    390.382380</td>", 
        "      <td>      0.534599</td>", 
        "    </tr>", 
        "    <tr>", 
        "      <th>min</th>", 
        "      <td>      1.000000</td>", 
        "      <td>    1548.000000</td>", 
        "      <td>   100111.000000</td>", 
        "      <td>      0.010000</td>", 
        "      <td>      1.000000</td>", 
        "    </tr>", 
        "    <tr>", 
        "      <th>25%</th>", 
        "      <td>     57.000000</td>", 
        "      <td> 2211363.000000</td>", 
        "      <td>  6784575.500000</td>", 
        "      <td>     79.000000</td>", 
        "      <td>      1.000000</td>", 
        "    </tr>", 
        "    <tr>", 
        "      <th>50%</th>", 
        "      <td>    102.000000</td>", 
        "      <td> 4050816.000000</td>", 
        "      <td> 24970873.500000</td>", 
        "      <td>    109.000000</td>", 
        "      <td>      1.000000</td>", 
        "    </tr>", 
        "    <tr>", 
        "      <th>75%</th>", 
        "      <td>    233.000000</td>", 
        "      <td> 5486387.000000</td>", 
        "      <td> 25746614.000000</td>", 
        "      <td>    168.000000</td>", 
        "      <td>      1.000000</td>", 
        "    </tr>", 
        "    <tr>", 
        "      <th>max</th>", 
        "      <td>    620.000000</td>", 
        "      <td> 6999700.000000</td>", 
        "      <td> 26619555.000000</td>", 
        "      <td>  57800.000000</td>", 
        "      <td>      4.000000</td>", 
        "    </tr>", 
        "  </tbody>", 
        "</table>", 
        "</div>"
       ], 
       "output_type": "pyout", 
       "prompt_number": 120, 
       "text": [
        "           dp.cityid  ddp.main_poi_id        dd.dealid       dd.price       hourroom", 
        "count  441514.000000    441514.000000    441514.000000  441514.000000  441514.000000", 
        "mean      157.159827   3696249.823290  17215466.212424     190.016815       1.186671", 
        "std       142.000819   2006154.626626   9845598.189902     390.382380       0.534599", 
        "min         1.000000      1548.000000    100111.000000       0.010000       1.000000", 
        "25%        57.000000   2211363.000000   6784575.500000      79.000000       1.000000", 
        "50%       102.000000   4050816.000000  24970873.500000     109.000000       1.000000", 
        "75%       233.000000   5486387.000000  25746614.000000     168.000000       1.000000", 
        "max       620.000000   6999700.000000  26619555.000000   57800.000000       4.000000"
       ]
      }
     ], 
     "prompt_number": 120
    }, 
    {
     "cell_type": "code", 
     "collapsed": false, 
     "input": [
      "hour_deal = price_file[price_file.hourroom == 2] ", 
      "hour_deal.describe()"
     ], 
     "language": "python", 
     "outputs": [
      {
       "html": [
        "<div style=\"max-height:1000px;max-width:1500px;overflow:auto;\">", 
        "<table border=\"1\" class=\"dataframe\">", 
        "  <thead>", 
        "    <tr style=\"text-align: right;\">", 
        "      <th></th>", 
        "      <th>dp.cityid</th>", 
        "      <th>ddp.main_poi_id</th>", 
        "      <th>dd.dealid</th>", 
        "      <th>dd.price</th>", 
        "      <th>hourroom</th>", 
        "    </tr>", 
        "  </thead>", 
        "  <tbody>", 
        "    <tr>", 
        "      <th>count</th>", 
        "      <td> 51630.000000</td>", 
        "      <td>   51630.000000</td>", 
        "      <td>    51630.000000</td>", 
        "      <td> 51630.000000</td>", 
        "      <td> 51630</td>", 
        "    </tr>", 
        "    <tr>", 
        "      <th>mean</th>", 
        "      <td>   151.342456</td>", 
        "      <td> 3728281.944083</td>", 
        "      <td> 17420225.039512</td>", 
        "      <td>    63.073079</td>", 
        "      <td>     2</td>", 
        "    </tr>", 
        "    <tr>", 
        "      <th>std</th>", 
        "      <td>   138.593681</td>", 
        "      <td> 2016596.159859</td>", 
        "      <td>  9722723.345521</td>", 
        "      <td>   105.971233</td>", 
        "      <td>     0</td>", 
        "    </tr>", 
        "    <tr>", 
        "      <th>min</th>", 
        "      <td>     1.000000</td>", 
        "      <td>    2621.000000</td>", 
        "      <td>   101261.000000</td>", 
        "      <td>     0.010000</td>", 
        "      <td>     2</td>", 
        "    </tr>", 
        "    <tr>", 
        "      <th>25%</th>", 
        "      <td>    56.000000</td>", 
        "      <td> 2210693.000000</td>", 
        "      <td>  7164857.250000</td>", 
        "      <td>    45.000000</td>", 
        "      <td>     2</td>", 
        "    </tr>", 
        "    <tr>", 
        "      <th>50%</th>", 
        "      <td>   101.000000</td>", 
        "      <td> 4103081.000000</td>", 
        "      <td> 24971993.500000</td>", 
        "      <td>    55.000000</td>", 
        "      <td>     2</td>", 
        "    </tr>", 
        "    <tr>", 
        "      <th>75%</th>", 
        "      <td>   224.000000</td>", 
        "      <td> 5522268.250000</td>", 
        "      <td> 25815361.000000</td>", 
        "      <td>    68.000000</td>", 
        "      <td>     2</td>", 
        "    </tr>", 
        "    <tr>", 
        "      <th>max</th>", 
        "      <td>   620.000000</td>", 
        "      <td> 6999684.000000</td>", 
        "      <td> 26619058.000000</td>", 
        "      <td>  6349.000000</td>", 
        "      <td>     2</td>", 
        "    </tr>", 
        "  </tbody>", 
        "</table>", 
        "</div>"
       ], 
       "output_type": "pyout", 
       "prompt_number": 9, 
       "text": [
        "          dp.cityid  ddp.main_poi_id        dd.dealid      dd.price  hourroom", 
        "count  51630.000000     51630.000000     51630.000000  51630.000000     51630", 
        "mean     151.342456   3728281.944083  17420225.039512     63.073079         2", 
        "std      138.593681   2016596.159859   9722723.345521    105.971233         0", 
        "min        1.000000      2621.000000    101261.000000      0.010000         2", 
        "25%       56.000000   2210693.000000   7164857.250000     45.000000         2", 
        "50%      101.000000   4103081.000000  24971993.500000     55.000000         2", 
        "75%      224.000000   5522268.250000  25815361.000000     68.000000         2", 
        "max      620.000000   6999684.000000  26619058.000000   6349.000000         2"
       ]
      }
     ], 
     "prompt_number": 9
    }, 
    {
     "cell_type": "code", 
     "collapsed": false, 
     "input": [
      "full_deal = price_file[price_file.hourroom == 1] ", 
      "full_deal.describe()"
     ], 
     "language": "python", 
     "outputs": [
      {
       "html": [
        "<div style=\"max-height:1000px;max-width:1500px;overflow:auto;\">", 
        "<table border=\"1\" class=\"dataframe\">", 
        "  <thead>", 
        "    <tr style=\"text-align: right;\">", 
        "      <th></th>", 
        "      <th>dp.cityid</th>", 
        "      <th>ddp.main_poi_id</th>", 
        "      <th>dd.dealid</th>", 
        "      <th>dd.price</th>", 
        "      <th>hourroom</th>", 
        "    </tr>", 
        "  </thead>", 
        "  <tbody>", 
        "    <tr>", 
        "      <th>count</th>", 
        "      <td> 379217.000000</td>", 
        "      <td>  379217.000000</td>", 
        "      <td>   379217.000000</td>", 
        "      <td> 379217.000000</td>", 
        "      <td> 379217</td>", 
        "    </tr>", 
        "    <tr>", 
        "      <th>mean</th>", 
        "      <td>    159.122241</td>", 
        "      <td> 3728517.968150</td>", 
        "      <td> 17039901.673543</td>", 
        "      <td>    204.475140</td>", 
        "      <td>      1</td>", 
        "    </tr>", 
        "    <tr>", 
        "      <th>std</th>", 
        "      <td>    142.613766</td>", 
        "      <td> 1998016.970831</td>", 
        "      <td>  9875834.158512</td>", 
        "      <td>    410.007196</td>", 
        "      <td>      0</td>", 
        "    </tr>", 
        "    <tr>", 
        "      <th>min</th>", 
        "      <td>      1.000000</td>", 
        "      <td>    1548.000000</td>", 
        "      <td>   100111.000000</td>", 
        "      <td>      0.010000</td>", 
        "      <td>      1</td>", 
        "    </tr>", 
        "    <tr>", 
        "      <th>25%</th>", 
        "      <td>     57.000000</td>", 
        "      <td> 2248322.000000</td>", 
        "      <td>  6618123.000000</td>", 
        "      <td>     89.000000</td>", 
        "      <td>      1</td>", 
        "    </tr>", 
        "    <tr>", 
        "      <th>50%</th>", 
        "      <td>    104.000000</td>", 
        "      <td> 4091189.000000</td>", 
        "      <td> 24950109.000000</td>", 
        "      <td>    120.000000</td>", 
        "      <td>      1</td>", 
        "    </tr>", 
        "    <tr>", 
        "      <th>75%</th>", 
        "      <td>    236.000000</td>", 
        "      <td> 5506268.000000</td>", 
        "      <td> 25714654.000000</td>", 
        "      <td>    185.000000</td>", 
        "      <td>      1</td>", 
        "    </tr>", 
        "    <tr>", 
        "      <th>max</th>", 
        "      <td>    620.000000</td>", 
        "      <td> 6999700.000000</td>", 
        "      <td> 26619555.000000</td>", 
        "      <td>  57800.000000</td>", 
        "      <td>      1</td>", 
        "    </tr>", 
        "  </tbody>", 
        "</table>", 
        "</div>"
       ], 
       "output_type": "pyout", 
       "prompt_number": 11, 
       "text": [
        "           dp.cityid  ddp.main_poi_id        dd.dealid       dd.price  hourroom", 
        "count  379217.000000    379217.000000    379217.000000  379217.000000    379217", 
        "mean      159.122241   3728517.968150  17039901.673543     204.475140         1", 
        "std       142.613766   1998016.970831   9875834.158512     410.007196         0", 
        "min         1.000000      1548.000000    100111.000000       0.010000         1", 
        "25%        57.000000   2248322.000000   6618123.000000      89.000000         1", 
        "50%       104.000000   4091189.000000  24950109.000000     120.000000         1", 
        "75%       236.000000   5506268.000000  25714654.000000     185.000000         1", 
        "max       620.000000   6999700.000000  26619555.000000   57800.000000         1"
       ]
      }
     ], 
     "prompt_number": 11
    }, 
    {
     "cell_type": "code", 
     "collapsed": false, 
     "input": [
      "fig = plt.figure()", 
      "ax = fig.add_subplot(111)", 
      "for cityid in range(1, 2):", 
      "    tpd = full_deal[full_deal[\"dp.cityid\"] == cityid]", 
      "    if np.mean(tpd[\"dd.price\"]) is not nan :", 
      "            print(np.mean(tpd[\"dd.price\"]), np.std(tpd[\"dd.price\"]))", 
      "            print(array(tpd['dd.price']))", 
      "            #(tpd.ix[:, 'dd.price']).hist(bins=50)", 
      "            stats.boxcox_normplot(array(tpd['dd.price'] / np.mean(tpd['dd.price'])), -3, 5, ax)"
     ], 
     "language": "python", 
     "outputs": [
      {
       "ename": "TypeError", 
       "evalue": "'Text' object is not callable", 
       "output_type": "pyerr", 
       "traceback": [
        "\u001b[0;31m---------------------------------------------------------------------------\u001b[0m\n\u001b[0;31mTypeError\u001b[0m                                 Traceback (most recent call last)", 
        "\u001b[0;32m/Users/ytjia/Workspace/learning/python/<ipython-input-163-7ec657cee43b>\u001b[0m in \u001b[0;36m<module>\u001b[0;34m()\u001b[0m\n\u001b[1;32m      7\u001b[0m             \u001b[0;32mprint\u001b[0m\u001b[0;34m(\u001b[0m\u001b[0marray\u001b[0m\u001b[0;34m(\u001b[0m\u001b[0mtpd\u001b[0m\u001b[0;34m[\u001b[0m\u001b[0;34m'dd.price'\u001b[0m\u001b[0;34m]\u001b[0m\u001b[0;34m)\u001b[0m\u001b[0;34m)\u001b[0m\u001b[0;34m\u001b[0m\u001b[0m\n\u001b[1;32m      8\u001b[0m             \u001b[0;31m#(tpd.ix[:, 'dd.price']).hist(bins=50)\u001b[0m\n\u001b[0;34m\u001b[0m\u001b[0m\n\u001b[0;32m----> 9\u001b[0;31m             \u001b[0mstats\u001b[0m\u001b[0;34m.\u001b[0m\u001b[0mboxcox_normplot\u001b[0m\u001b[0;34m(\u001b[0m\u001b[0marray\u001b[0m\u001b[0;34m(\u001b[0m\u001b[0mtpd\u001b[0m\u001b[0;34m[\u001b[0m\u001b[0;34m'dd.price'\u001b[0m\u001b[0;34m]\u001b[0m \u001b[0;34m/\u001b[0m \u001b[0mnp\u001b[0m\u001b[0;34m.\u001b[0m\u001b[0mmean\u001b[0m\u001b[0;34m(\u001b[0m\u001b[0mtpd\u001b[0m\u001b[0;34m[\u001b[0m\u001b[0;34m'dd.price'\u001b[0m\u001b[0;34m]\u001b[0m\u001b[0;34m)\u001b[0m\u001b[0;34m)\u001b[0m\u001b[0;34m,\u001b[0m \u001b[0;34m-\u001b[0m\u001b[0;36m3\u001b[0m\u001b[0;34m,\u001b[0m \u001b[0;36m5\u001b[0m\u001b[0;34m,\u001b[0m \u001b[0max\u001b[0m\u001b[0;34m)\u001b[0m\u001b[0;34m\u001b[0m\u001b[0m\n\u001b[0m", 
        "\u001b[0;32m/System/Library/Frameworks/Python.framework/Versions/2.7/Extras/lib/python/scipy/stats/morestats.pyc\u001b[0m in \u001b[0;36mboxcox_normplot\u001b[0;34m(x, la, lb, plot, N)\u001b[0m\n\u001b[1;32m    563\u001b[0m     \u001b[0;32mif\u001b[0m \u001b[0mplot\u001b[0m \u001b[0;32mis\u001b[0m \u001b[0;32mnot\u001b[0m \u001b[0mNone\u001b[0m\u001b[0;34m:\u001b[0m\u001b[0;34m\u001b[0m\u001b[0m\n\u001b[1;32m    564\u001b[0m         \u001b[0mplot\u001b[0m\u001b[0;34m.\u001b[0m\u001b[0mplot\u001b[0m\u001b[0;34m(\u001b[0m\u001b[0msvals\u001b[0m\u001b[0;34m,\u001b[0m \u001b[0mppcc\u001b[0m\u001b[0;34m,\u001b[0m \u001b[0;34m'x'\u001b[0m\u001b[0;34m)\u001b[0m\u001b[0;34m\u001b[0m\u001b[0m\n\u001b[0;32m--> 565\u001b[0;31m         \u001b[0mplot\u001b[0m\u001b[0;34m.\u001b[0m\u001b[0mtitle\u001b[0m\u001b[0;34m(\u001b[0m\u001b[0;34m'Box-Cox Normality Plot'\u001b[0m\u001b[0;34m)\u001b[0m\u001b[0;34m\u001b[0m\u001b[0m\n\u001b[0m\u001b[1;32m    566\u001b[0m         \u001b[0mplot\u001b[0m\u001b[0;34m.\u001b[0m\u001b[0mxlabel\u001b[0m\u001b[0;34m(\u001b[0m\u001b[0;34m'Prob Plot Corr. Coef.'\u001b[0m\u001b[0;34m)\u001b[0m\u001b[0;34m\u001b[0m\u001b[0m\n\u001b[1;32m    567\u001b[0m         \u001b[0mplot\u001b[0m\u001b[0;34m.\u001b[0m\u001b[0mylabel\u001b[0m\u001b[0;34m(\u001b[0m\u001b[0;34m'Transformation parameter'\u001b[0m\u001b[0;34m)\u001b[0m\u001b[0;34m\u001b[0m\u001b[0m\n", 
        "\u001b[0;31mTypeError\u001b[0m: 'Text' object is not callable"
       ]
      }, 
      {
       "output_type": "stream", 
       "stream": "stdout", 
       "text": [
        "(282.2073881731086, 531.18276628633885)", 
        "[ 159.  129.  129. ...,   78.  349.  150.]"
       ]
      }, 
      {
       "output_type": "display_data", 
       "png": "[encoded data removed]"
      }
     ], 
     "prompt_number": 163
    }, 
    {
     "cell_type": "code", 
     "collapsed": false, 
     "input": [
      "tpd = full_deal[full_deal[\"dp.cityid\"] == 1]", 
      "tpd = tpd[\"dd.price\"]", 
      "", 
      "print(pd.stats.moments.expanding_quantile(tpd, 0.98).tail(1))", 
      "", 
      "pd.stats.moments.expanding_quantile(tpd, 0.98).tail(1)", 
      " = pd.stats.moments.expanding_quantile(tpd, 0.98).tail(1) "
     ], 
     "language": "python", 
     "outputs": [
      {
       "ename": "ValueError", 
       "evalue": "need more than 1 value to unpack", 
       "output_type": "pyerr", 
       "traceback": [
        "\u001b[0;31m---------------------------------------------------------------------------\u001b[0m\n\u001b[0;31mValueError\u001b[0m                                Traceback (most recent call last)", 
        "\u001b[0;32m/Users/ytjia/Workspace/learning/python/<ipython-input-193-70c25e001928>\u001b[0m in \u001b[0;36m<module>\u001b[0;34m()\u001b[0m\n\u001b[1;32m      5\u001b[0m \u001b[0;34m\u001b[0m\u001b[0m\n\u001b[1;32m      6\u001b[0m \u001b[0mpd\u001b[0m\u001b[0;34m.\u001b[0m\u001b[0mstats\u001b[0m\u001b[0;34m.\u001b[0m\u001b[0mmoments\u001b[0m\u001b[0;34m.\u001b[0m\u001b[0mexpanding_quantile\u001b[0m\u001b[0;34m(\u001b[0m\u001b[0mtpd\u001b[0m\u001b[0;34m,\u001b[0m \u001b[0;36m0.98\u001b[0m\u001b[0;34m)\u001b[0m\u001b[0;34m.\u001b[0m\u001b[0mtail\u001b[0m\u001b[0;34m(\u001b[0m\u001b[0;36m1\u001b[0m\u001b[0;34m)\u001b[0m\u001b[0;34m\u001b[0m\u001b[0m\n\u001b[0;32m----> 7\u001b[0;31m \u001b[0;34m[\u001b[0m\u001b[0mx\u001b[0m\u001b[0;34m,\u001b[0m \u001b[0my\u001b[0m\u001b[0;34m]\u001b[0m \u001b[0;34m=\u001b[0m \u001b[0mpd\u001b[0m\u001b[0;34m.\u001b[0m\u001b[0mstats\u001b[0m\u001b[0;34m.\u001b[0m\u001b[0mmoments\u001b[0m\u001b[0;34m.\u001b[0m\u001b[0mexpanding_quantile\u001b[0m\u001b[0;34m(\u001b[0m\u001b[0mtpd\u001b[0m\u001b[0;34m,\u001b[0m \u001b[0;36m0.98\u001b[0m\u001b[0;34m)\u001b[0m\u001b[0;34m.\u001b[0m\u001b[0mtail\u001b[0m\u001b[0;34m(\u001b[0m\u001b[0;36m1\u001b[0m\u001b[0;34m)\u001b[0m\u001b[0;34m\u001b[0m\u001b[0m\n\u001b[0m\u001b[1;32m      8\u001b[0m \u001b[0;34m\u001b[0m\u001b[0m\n", 
        "\u001b[0;31mValueError\u001b[0m: need more than 1 value to unpack"
       ]
      }, 
      {
       "output_type": "stream", 
       "stream": "stdout", 
       "text": [
        "441435    1380", 
        "dtype: float64"
       ]
      }
     ], 
     "prompt_number": 193
    }, 
    {
     "cell_type": "code", 
     "collapsed": false, 
     "input": [
      "for cityid in range(1, 620):", 
      "    tpd = full_deal[full_deal[\"dp.cityid\"] == cityid]", 
      "    tpd = tpd[tpd[\"dd.price\"] < 1000]", 
      "    tpd = tpd[tpd[\"dd.price\"] > 10]", 
      "    if np.mean(tpd[\"dd.price\"]) is not nan :", 
      "            print(np.mean(tpd[\"dd.price\"]), np.std(tpd[\"dd.price\"]))", 
      "            tpd.ix[:, 'dd.price'].plot(kind='kde')"
     ], 
     "language": "python", 
     "outputs": [
      {
       "output_type": "stream", 
       "stream": "stdout", 
       "text": [
        "(224.90309865092749, 163.25780139727064)", 
        "(220.37682504078313, 203.68894536608661)"
       ]
      }, 
      {
       "output_type": "stream", 
       "stream": "stdout", 
       "text": [
        "", 
        "(189.01441081919958, 154.1169099187772)"
       ]
      }, 
      {
       "output_type": "stream", 
       "stream": "stdout", 
       "text": [
        "", 
        "(202.58646420824289, 147.74494473689205)"
       ]
      }, 
      {
       "output_type": "stream", 
       "stream": "stdout", 
       "text": [
        "", 
        "(160.10043459365508, 142.25588899189705)"
       ]
      }, 
      {
       "output_type": "stream", 
       "stream": "stdout", 
       "text": [
        "", 
        "(148.2890583910646, 125.56898770352046)"
       ]
      }, 
      {
       "output_type": "stream", 
       "stream": "stdout", 
       "text": [
        "", 
        "(255.83320675105483, 227.48672130453141)"
       ]
      }, 
      {
       "output_type": "stream", 
       "stream": "stdout", 
       "text": [
        "", 
        "(148.29840057636889, 95.0415313224497)"
       ]
      }, 
      {
       "output_type": "stream", 
       "stream": "stdout", 
       "text": [
        "", 
        "(202.8797536284913, 176.6647601948587)"
       ]
      }, 
      {
       "output_type": "stream", 
       "stream": "stdout", 
       "text": [
        "", 
        "(230.3848461830612, 214.13611225332701)"
       ]
      }, 
      {
       "output_type": "stream", 
       "stream": "stdout", 
       "text": [
        "", 
        "(185.59061805246773, 185.68302505774074)"
       ]
      }, 
      {
       "output_type": "stream", 
       "stream": "stdout", 
       "text": [
        "", 
        "(173.08389965792477, 165.57198692998858)"
       ]
      }, 
      {
       "output_type": "stream", 
       "stream": "stdout", 
       "text": [
        "", 
        "(129.43807298620382, 110.00482290648111)"
       ]
      }, 
      {
       "output_type": "stream", 
       "stream": "stdout", 
       "text": [
        "", 
        "(152.70942483228856, 122.13167354844865)"
       ]
      }, 
      {
       "output_type": "stream", 
       "stream": "stdout", 
       "text": [
        "", 
        "(179.55821668687315, 132.64476341876832)"
       ]
      }, 
      {
       "output_type": "stream", 
       "stream": "stdout", 
       "text": [
        "", 
        "(165.1228362183756, 146.34580421702969)"
       ]
      }, 
      {
       "output_type": "stream", 
       "stream": "stdout", 
       "text": [
        "", 
        "(184.58120561519405, 167.44327283798279)"
       ]
      }, 
      {
       "output_type": "stream", 
       "stream": "stdout", 
       "text": [
        "", 
        "(175.03853626228059, 131.99791812500516)"
       ]
      }, 
      {
       "output_type": "stream", 
       "stream": "stdout", 
       "text": [
        "", 
        "(123.45436436073899, 102.03019812386775)"
       ]
      }, 
      {
       "output_type": "stream", 
       "stream": "stdout", 
       "text": [
        "", 
        "(129.55148089171979, 97.092279818504139)"
       ]
      }, 
      {
       "output_type": "stream", 
       "stream": "stdout", 
       "text": [
        "", 
        "(138.40570032573294, 108.49289871572614)"
       ]
      }, 
      {
       "output_type": "stream", 
       "stream": "stdout", 
       "text": [
        "", 
        "(136.27248814144025, 124.96262959232442)"
       ]
      }, 
      {
       "output_type": "stream", 
       "stream": "stdout", 
       "text": [
        "", 
        "(173.34427844882393, 171.0234693169898)"
       ]
      }, 
      {
       "output_type": "stream", 
       "stream": "stdout", 
       "text": [
        "", 
        "(109.71705716963446, 108.60384873578151)"
       ]
      }, 
      {
       "output_type": "stream", 
       "stream": "stdout", 
       "text": [
        "", 
        "(158.20464177598382, 151.31937682555298)"
       ]
      }, 
      {
       "output_type": "stream", 
       "stream": "stdout", 
       "text": [
        "", 
        "(145.514012450481, 120.76129860363689)"
       ]
      }, 
      {
       "output_type": "stream", 
       "stream": "stdout", 
       "text": [
        "", 
        "(128.67567204301076, 117.63592680992517)"
       ]
      }, 
      {
       "output_type": "stream", 
       "stream": "stdout", 
       "text": [
        "", 
        "(155.89972144846797, 160.19690521365831)"
       ]
      }, 
      {
       "output_type": "stream", 
       "stream": "stdout", 
       "text": [
        "", 
        "(198.42026708562457, 188.24727110960046)", 
        "(141.97692307692307, 112.3482725488293)"
       ]
      }, 
      {
       "output_type": "stream", 
       "stream": "stdout", 
       "text": [
        "", 
        "(186.8529453262787, 161.93983704726489)", 
        "(166.26186666666666, 120.38415332806704)"
       ]
      }, 
      {
       "output_type": "stream", 
       "stream": "stdout", 
       "text": [
        "", 
        "(181.4520933679141, 153.35040866700464)"
       ]
      }, 
      {
       "output_type": "stream", 
       "stream": "stdout", 
       "text": [
        "", 
        "(157.57182006204744, 133.6119556474286)"
       ]
      }, 
      {
       "output_type": "stream", 
       "stream": "stdout", 
       "text": [
        "", 
        "(146.38581314878894, 109.0204895691971)"
       ]
      }, 
      {
       "output_type": "stream", 
       "stream": "stdout", 
       "text": [
        "", 
        "(121.35897001934235, 101.87706576943715)", 
        "(113.62149425287356, 76.060722022268592)"
       ]
      }, 
      {
       "output_type": "stream", 
       "stream": "stdout", 
       "text": [
        "", 
        "(109.87547393364929, 89.246430373942857)", 
        "(133.78118542686241, 95.898748402090305)"
       ]
      }, 
      {
       "output_type": "stream", 
       "stream": "stdout", 
       "text": [
        "", 
        "(176.55251165199377, 126.31233221445744)"
       ]
      }, 
      {
       "output_type": "stream", 
       "stream": "stdout", 
       "text": [
        "", 
        "(149.49692197566208, 127.61714642114559)"
       ]
      }, 
      {
       "output_type": "stream", 
       "stream": "stdout", 
       "text": [
        "", 
        "(127.5494966442953, 88.562106993051188)"
       ]
      }, 
      {
       "output_type": "stream", 
       "stream": "stdout", 
       "text": [
        "", 
        "(156.27306149732618, 145.47550785365777)", 
        "(134.12093081761006, 112.23979652585365)"
       ]
      }, 
      {
       "output_type": "stream", 
       "stream": "stdout", 
       "text": [
        "", 
        "(144.52376237623767, 126.41010262162757)"
       ]
      }, 
      {
       "output_type": "stream", 
       "stream": "stdout", 
       "text": [
        "", 
        "(184.54382657869931, 129.20182949417165)", 
        "(249.21535135135127, 212.20466933755333)"
       ]
      }, 
      {
       "output_type": "stream", 
       "stream": "stdout", 
       "text": [
        "", 
        "(112.50162297128593, 100.29596618917617)"
       ]
      }, 
      {
       "output_type": "stream", 
       "stream": "stdout", 
       "text": [
        "", 
        "(172.01727861771059, 112.18289469110958)", 
        "(312.80465072133637, 251.09719013654447)"
       ]
      }, 
      {
       "output_type": "stream", 
       "stream": "stdout", 
       "text": [
        "", 
        "(188.16402737047898, 139.92853823476929)"
       ]
      }, 
      {
       "output_type": "stream", 
       "stream": "stdout", 
       "text": [
        "", 
        "(178.98627450980391, 133.31994751867467)"
       ]
      }, 
      {
       "output_type": "stream", 
       "stream": "stdout", 
       "text": [
        "", 
        "(153.91310432569975, 107.35966794638988)", 
        "(176.17465388711395, 156.71361097395726)"
       ]
      }, 
      {
       "output_type": "stream", 
       "stream": "stdout", 
       "text": [
        "", 
        "(132.15475658776236, 107.75742580821105)"
       ]
      }, 
      {
       "output_type": "stream", 
       "stream": "stdout", 
       "text": [
        "", 
        "(184.52893982808024, 163.41990351389904)"
       ]
      }, 
      {
       "output_type": "stream", 
       "stream": "stdout", 
       "text": [
        "", 
        "(492.14553014553013, 201.88684698933935)", 
        "(174.53945803040307, 164.32862910620017)"
       ]
      }, 
      {
       "output_type": "stream", 
       "stream": "stdout", 
       "text": [
        "", 
        "(150.16030303030306, 141.77130926679524)"
       ]
      }, 
      {
       "output_type": "stream", 
       "stream": "stdout", 
       "text": [
        "", 
        "(143.3617440225035, 123.86215104111035)"
       ]
      }, 
      {
       "output_type": "stream", 
       "stream": "stdout", 
       "text": [
        "", 
        "(119.7914857142856, 119.42242111366613)", 
        "(121.63455377574368, 99.40176846975767)"
       ]
      }, 
      {
       "output_type": "stream", 
       "stream": "stdout", 
       "text": [
        "", 
        "(131.77610619469027, 98.11105706076988)"
       ]
      }, 
      {
       "output_type": "stream", 
       "stream": "stdout", 
       "text": [
        "", 
        "(141.55872093023257, 120.96378671016879)", 
        "(183.07621951219511, 139.63288205706266)"
       ]
      }, 
      {
       "output_type": "stream", 
       "stream": "stdout", 
       "text": [
        "", 
        "(114.86350148367953, 92.02682683744608)"
       ]
      }, 
      {
       "output_type": "stream", 
       "stream": "stdout", 
       "text": [
        "", 
        "(136.15519480519481, 92.529409183908029)", 
        "(125.1772237196765, 94.209313360350222)", 
        "(185.57436974789914, 153.76517502013434)"
       ]
      }, 
      {
       "output_type": "stream", 
       "stream": "stdout", 
       "text": [
        "", 
        "(159.93736263736264, 142.17928911196938)", 
        "(157.95727699530516, 112.05938694689475)", 
        "(104.34502369668247, 93.617085932824978)"
       ]
      }, 
      {
       "output_type": "stream", 
       "stream": "stdout", 
       "text": [
        "", 
        "(123.48478647686835, 99.139397483126714)", 
        "(128.03034257748783, 109.56671610643983)"
       ]
      }, 
      {
       "output_type": "stream", 
       "stream": "stdout", 
       "text": [
        "", 
        "(142.39546925566344, 142.43498685747988)", 
        "(135.22228443449049, 93.768841639526201)"
       ]
      }, 
      {
       "output_type": "stream", 
       "stream": "stdout", 
       "text": [
        "", 
        "(127.36, 90.9364485381262)"
       ]
      }, 
      {
       "output_type": "stream", 
       "stream": "stdout", 
       "text": [
        "", 
        "(124.70941176470575, 102.30673714061994)", 
        "(100.03068297655454, 73.089334460425178)"
       ]
      }, 
      {
       "output_type": "stream", 
       "stream": "stdout", 
       "text": [
        "", 
        "(145.64532019704433, 90.018292149147101)"
       ]
      }, 
      {
       "output_type": "stream", 
       "stream": "stdout", 
       "text": [
        "", 
        "(176.42839506172839, 136.12092888362253)", 
        "(163.79415204678364, 145.2880086685665)", 
        "(127.82433628318584, 67.911667189730238)"
       ]
      }, 
      {
       "output_type": "stream", 
       "stream": "stdout", 
       "text": [
        "", 
        "(214.38176197836168, 160.0219879829277)", 
        "(113.02222222222223, 62.160987725918012)"
       ]
      }, 
      {
       "output_type": "stream", 
       "stream": "stdout", 
       "text": [
        "", 
        "(113.93625498007968, 83.247889318676826)", 
        "(147.47674418604652, 94.538748884055295)"
       ]
      }, 
      {
       "output_type": "stream", 
       "stream": "stdout", 
       "text": [
        "", 
        "(155.953216374269, 101.04899007950394)", 
        "(256.9830508474576, 218.79802554847853)", 
        "(131.04084720121028, 97.483400946515999)", 
        "(98.574509803921529, 69.816402559587999)"
       ]
      }, 
      {
       "output_type": "stream", 
       "stream": "stdout", 
       "text": [
        "", 
        "(128.02189473684211, 110.30063484375911)"
       ]
      }, 
      {
       "output_type": "stream", 
       "stream": "stdout", 
       "text": [
        "", 
        "(158.82569192751217, 155.22500227129194)", 
        "(157.08952941176469, 124.63194056105301)"
       ]
      }, 
      {
       "output_type": "stream", 
       "stream": "stdout", 
       "text": [
        "", 
        "(126.83410138248848, 115.7138937057375)", 
        "(124.69445544554459, 99.593135320268274)"
       ]
      }, 
      {
       "output_type": "stream", 
       "stream": "stdout", 
       "text": [
        "", 
        "(155.17741935483872, 114.07818119867767)", 
        "(100.07376146788992, 78.947839647034826)"
       ]
      }, 
      {
       "output_type": "stream", 
       "stream": "stdout", 
       "text": [
        "", 
        "(97.990476190476201, 94.720190498391787)", 
        "(119.9513939393939, 118.65315524490745)", 
        "(131.99036697247706, 142.50925110435477)"
       ]
      }, 
      {
       "output_type": "stream", 
       "stream": "stdout", 
       "text": [
        "", 
        "(106.73679245283017, 55.87018195084994)", 
        "(147.41141304347826, 112.74056949938999)", 
        "(249.68398268398269, 204.43676115255093)", 
        "(107.0958549222798, 82.040697492125801)"
       ]
      }, 
      {
       "output_type": "stream", 
       "stream": "stdout", 
       "text": [
        "", 
        "(96.439393939393952, 34.108819968340882)", 
        "(173.96444444444444, 141.72743557639686)", 
        "(127.51825396825396, 101.00273562285619)"
       ]
      }, 
      {
       "output_type": "stream", 
       "stream": "stdout", 
       "text": [
        "", 
        "(130.24666666666664, 134.64664801703094)", 
        "(131.9375, 97.978612940529018)", 
        "(175.53424657534248, 138.44311251382115)", 
        "(122.56875000000001, 119.59827103328786)", 
        "(133.41935483870967, 112.49308916222891)"
       ]
      }, 
      {
       "output_type": "stream", 
       "stream": "stdout", 
       "text": [
        "", 
        "(126.16971830985916, 86.40260955248597)", 
        "(154.95876288659792, 138.04540695718458)", 
        "(118.81259259259258, 145.04648421167386)"
       ]
      }, 
      {
       "output_type": "stream", 
       "stream": "stdout", 
       "text": [
        "", 
        "(114.0091743119266, 64.698523927527191)", 
        "(138.71652236652236, 115.83967048483838)", 
        "(121.38263279445727, 97.540688095670845)"
       ]
      }, 
      {
       "output_type": "stream", 
       "stream": "stdout", 
       "text": [
        "", 
        "(132.69388888888892, 133.33414256583129)"
       ]
      }, 
      {
       "output_type": "stream", 
       "stream": "stdout", 
       "text": [
        "", 
        "(134.36655172413788, 126.78990666822416)", 
        "(141.2488245931284, 126.43141935692869)"
       ]
      }, 
      {
       "output_type": "stream", 
       "stream": "stdout", 
       "text": [
        "", 
        "(142.61622911694514, 152.81913600233835)", 
        "(184.96753246753244, 181.40150265418302)"
       ]
      }, 
      {
       "output_type": "stream", 
       "stream": "stdout", 
       "text": [
        "", 
        "(172.74278922345482, 128.16156221590467)", 
        "(171.81580611169645, 136.70933556286633)"
       ]
      }, 
      {
       "output_type": "stream", 
       "stream": "stdout", 
       "text": [
        "", 
        "(126.29941792782304, 105.31952938988499)"
       ]
      }, 
      {
       "output_type": "stream", 
       "stream": "stdout", 
       "text": [
        "", 
        "(136.01472693032034, 93.542434779077965)", 
        "(190.25133635905195, 117.5503550730092)"
       ]
      }, 
      {
       "output_type": "stream", 
       "stream": "stdout", 
       "text": [
        "", 
        "(151.68138686131388, 112.24733565470619)"
       ]
      }, 
      {
       "output_type": "stream", 
       "stream": "stdout", 
       "text": [
        "", 
        "(161.60433161953731, 100.85731832912759)", 
        "(113.10653266331659, 114.40502592685475)"
       ]
      }, 
      {
       "output_type": "stream", 
       "stream": "stdout", 
       "text": [
        "", 
        "(120.10805604203155, 104.58731261304389)", 
        "(129.62658227848098, 137.91425763110726)", 
        "(131.56478873239436, 124.071237032433)"
       ]
      }, 
      {
       "output_type": "stream", 
       "stream": "stdout", 
       "text": [
        "", 
        "(140.70600858369099, 103.68442881815747)", 
        "(187.04980964466995, 179.48524256026775)", 
        "(124.09415384615386, 74.318502073426274)"
       ]
      }, 
      {
       "output_type": "stream", 
       "stream": "stdout", 
       "text": [
        "", 
        "(111.87643678160921, 89.285139686919138)", 
        "(113.45, 81.151810070865182)"
       ]
      }, 
      {
       "output_type": "stream", 
       "stream": "stdout", 
       "text": [
        "", 
        "(172.27210884353741, 161.49872297143133)", 
        "(135.33226837060704, 87.088355194649566)", 
        "(141.60680272108843, 135.4335033559791)"
       ]
      }, 
      {
       "output_type": "stream", 
       "stream": "stdout", 
       "text": [
        "", 
        "(162.38880407124682, 146.54310806367388)", 
        "(144.53567164179103, 103.01455887142492)", 
        "(202.44426877470357, 151.09375899968549)"
       ]
      }, 
      {
       "output_type": "stream", 
       "stream": "stdout", 
       "text": [
        "", 
        "(148.27245179063362, 107.91890211605021)", 
        "(158.60462074978199, 117.49513954409576)"
       ]
      }, 
      {
       "output_type": "stream", 
       "stream": "stdout", 
       "text": [
        "", 
        "(167.46124031007753, 137.73633828907799)"
       ]
      }, 
      {
       "output_type": "stream", 
       "stream": "stdout", 
       "text": [
        "", 
        "(183.95057034220531, 138.6116707760934)", 
        "(156.92820512820512, 90.788285556091068)", 
        "(169.82524271844659, 161.70267736701064)"
       ]
      }, 
      {
       "output_type": "stream", 
       "stream": "stdout", 
       "text": [
        "", 
        "(129.55882352941177, 94.890150476429568)", 
        "(133.16666666666666, 121.39143145061611)", 
        "(132.31634615384615, 62.575723528465439)", 
        "(146.15469613259671, 99.985185601791898)", 
        "(173.51219512195121, 133.88839945945873)"
       ]
      }, 
      {
       "output_type": "stream", 
       "stream": "stdout", 
       "text": [
        "", 
        "(185.02048192771085, 158.7010915147105)", 
        "(146.48214285714286, 93.320618173909153)", 
        "(145.45996275605214, 120.83776763865811)"
       ]
      }, 
      {
       "output_type": "stream", 
       "stream": "stdout", 
       "text": [
        "", 
        "(97.376233183856527, 87.490005682542204)"
       ]
      }, 
      {
       "output_type": "stream", 
       "stream": "stdout", 
       "text": [
        "", 
        "(117.12484472049685, 75.169971949887795)", 
        "(103.93623762376237, 95.999057306133537)"
       ]
      }, 
      {
       "output_type": "stream", 
       "stream": "stdout", 
       "text": [
        "", 
        "(112.61018276762401, 89.603674368185963)"
       ]
      }, 
      {
       "output_type": "stream", 
       "stream": "stdout", 
       "text": [
        "", 
        "(118.0449255751014, 106.80725826186475)", 
        "(145.22410917361631, 112.60836234556626)"
       ]
      }, 
      {
       "output_type": "stream", 
       "stream": "stdout", 
       "text": [
        "", 
        "(127.09545782263878, 123.3083450567038)"
       ]
      }, 
      {
       "output_type": "stream", 
       "stream": "stdout", 
       "text": [
        "", 
        "(112.72953586497891, 109.58268776018683)"
       ]
      }, 
      {
       "output_type": "stream", 
       "stream": "stdout", 
       "text": [
        "", 
        "(115.45249042145586, 99.660327206571893)", 
        "(151.13826714801445, 169.37599613378305)"
       ]
      }, 
      {
       "output_type": "stream", 
       "stream": "stdout", 
       "text": [
        "", 
        "(115.61529790660224, 103.28595348775268)", 
        "(101.25050100200403, 91.285917271689613)", 
        "(100.91519274376421, 77.41590402161809)"
       ]
      }, 
      {
       "output_type": "stream", 
       "stream": "stdout", 
       "text": [
        "", 
        "(122.02162162162162, 96.18506692867166)", 
        "(131.67149877149882, 116.90675073339925)", 
        "(218.99629629629629, 244.78977372352773)"
       ]
      }, 
      {
       "output_type": "stream", 
       "stream": "stdout", 
       "text": [
        "", 
        "(135.74803149606299, 103.24288833710524)", 
        "(100.99102564102563, 66.20867494074777)", 
        "(129.2335740072202, 97.655508453285918)", 
        "(121.16602316602317, 87.730762689165246)"
       ]
      }, 
      {
       "output_type": "stream", 
       "stream": "stdout", 
       "text": [
        "", 
        "(110.85361445783131, 76.08534653147882)", 
        "(130.93157894736839, 69.922638439967741)", 
        "(135.71937581274381, 86.424994889285315)", 
        "(134.23805668016195, 110.14162105825805)"
       ]
      }, 
      {
       "output_type": "stream", 
       "stream": "stdout", 
       "text": [
        "", 
        "(127.81261261261263, 88.819405412662704)", 
        "(118.71476510067114, 110.18707239477506)", 
        "(110.50581395348837, 36.650850602937922)"
       ]
      }, 
      {
       "output_type": "stream", 
       "stream": "stdout", 
       "text": [
        "", 
        "(127.32704918032786, 56.867141736906824)", 
        "(147.31909547738695, 108.81342100189941)", 
        "(138.11678832116789, 111.17810172014036)", 
        "(140.36277139208173, 117.02544875988934)"
       ]
      }, 
      {
       "output_type": "stream", 
       "stream": "stdout", 
       "text": [
        "", 
        "(136.30940465918877, 95.70547305838825)"
       ]
      }, 
      {
       "output_type": "stream", 
       "stream": "stdout", 
       "text": [
        "", 
        "(133.52378640776701, 85.423277717226327)"
       ]
      }, 
      {
       "output_type": "stream", 
       "stream": "stdout", 
       "text": [
        "", 
        "(125.34388489208639, 76.464690788792026)", 
        "(131.81134020618558, 95.604938702921672)", 
        "(119.14631336405526, 74.222172229489587)"
       ]
      }, 
      {
       "output_type": "stream", 
       "stream": "stdout", 
       "text": [
        "", 
        "(122.15707964601769, 82.093221176616922)", 
        "(148.79861111111111, 98.940486451109066)"
       ]
      }, 
      {
       "output_type": "stream", 
       "stream": "stdout", 
       "text": [
        "", 
        "(119.2508982035928, 65.961674472326976)", 
        "(157.07142857142858, 141.87995930935492)", 
        "(156.76975015234609, 110.01500598769519)"
       ]
      }, 
      {
       "output_type": "stream", 
       "stream": "stdout", 
       "text": [
        "", 
        "(173.30406779661018, 152.14543193283617)"
       ]
      }, 
      {
       "output_type": "stream", 
       "stream": "stdout", 
       "text": [
        "", 
        "(133.95397727272729, 94.975946752080418)", 
        "(176.60526315789474, 93.118356908569851)"
       ]
      }, 
      {
       "output_type": "stream", 
       "stream": "stdout", 
       "text": [
        "", 
        "(143.43169164882221, 90.824776720359921)", 
        "(148.6829268292683, 75.961836823689339)"
       ]
      }, 
      {
       "output_type": "stream", 
       "stream": "stdout", 
       "text": [
        "", 
        "(135.432302045097, 105.62130141765391)", 
        "(128.41569416498996, 77.010458899100982)"
       ]
      }, 
      {
       "output_type": "stream", 
       "stream": "stdout", 
       "text": [
        "", 
        "(139.81140350877192, 63.171407393418512)", 
        "(149.15000000000001, 71.214004637583344)", 
        "(162.24021276595744, 89.960751370743779)"
       ]
      }, 
      {
       "output_type": "stream", 
       "stream": "stdout", 
       "text": [
        "", 
        "(155.61462365591399, 88.654576270351484)", 
        "(119.02787633046121, 80.164215665659313)"
       ]
      }, 
      {
       "output_type": "stream", 
       "stream": "stdout", 
       "text": [
        "", 
        "(150.87354330708644, 129.51547924103755)"
       ]
      }, 
      {
       "output_type": "stream", 
       "stream": "stdout", 
       "text": [
        "", 
        "(164.91772727272732, 130.47516745383939)", 
        "(178.18036529680364, 120.90460739510415)"
       ]
      }, 
      {
       "output_type": "stream", 
       "stream": "stdout", 
       "text": [
        "", 
        "(220.10091743119267, 180.33042785444584)", 
        "(182.90459770114941, 185.06474462468285)", 
        "(226.69926470588234, 195.98038011793574)"
       ]
      }, 
      {
       "output_type": "stream", 
       "stream": "stdout", 
       "text": [
        "", 
        "(228.65000000000001, 159.10857927842861)"
       ]
      }, 
      {
       "output_type": "stream", 
       "stream": "stdout", 
       "text": [
        "", 
        "(210.68333333333334, 127.51333154702775)", 
        "(191.56666666666658, 167.643576358421)", 
        "(244.94647058823531, 163.25664607464913)", 
        "(232.73759590792838, 188.29844758797486)"
       ]
      }, 
      {
       "output_type": "stream", 
       "stream": "stdout", 
       "text": [
        "", 
        "(169.17241379310346, 129.94600619625641)", 
        "(156.11214953271028, 122.92299292173719)"
       ]
      }, 
      {
       "output_type": "stream", 
       "stream": "stdout", 
       "text": [
        "", 
        "(455.69999999999999, 201.76126982153932)", 
        "(135.09836223506744, 83.520246107406805)", 
        "(134.93589743589743, 60.435882477724071)"
       ]
      }, 
      {
       "output_type": "stream", 
       "stream": "stdout", 
       "text": [
        "", 
        "(192.80349702380951, 140.06786384930174)", 
        "(132.0774193548387, 50.256828839006275)"
       ]
      }, 
      {
       "output_type": "stream", 
       "stream": "stdout", 
       "text": [
        "", 
        "(142.27564102564102, 78.683443483589613)", 
        "(162.26666666666665, 76.093924275549853)", 
        "(129.80061349693253, 97.330189388980358)", 
        "(214.08333333333329, 149.6602131125334)"
       ]
      }, 
      {
       "output_type": "stream", 
       "stream": "stdout", 
       "text": [
        "", 
        "(150.17708333333334, 69.980638908548201)", 
        "(135.44303797468353, 49.631489298742757)", 
        "(134.85174825174823, 115.51242772308996)", 
        "(142.55813953488371, 78.484127361533808)", 
        "(166.30500000000001, 124.19843789275289)"
       ]
      }, 
      {
       "output_type": "stream", 
       "stream": "stdout", 
       "text": [
        "", 
        "(179.72751937984495, 126.07587992355118)", 
        "(178.02777777777777, 112.6670947011374)", 
        "(191.59210526315789, 168.28157619015087)", 
        "(173.96701030927835, 137.82079707923833)"
       ]
      }, 
      {
       "output_type": "stream", 
       "stream": "stdout", 
       "text": [
        "", 
        "(151.85344827586206, 109.67595328734875)", 
        "(175.31, 126.79636364396785)", 
        "(154.57142857142858, 131.0642465918676)", 
        "(163.55756929637528, 122.32110269908559)"
       ]
      }, 
      {
       "output_type": "stream", 
       "stream": "stdout", 
       "text": [
        "", 
        "(148.49115044247787, 81.531536932684432)", 
        "(185.59627329192546, 161.62968098382032)", 
        "(206.89298245614034, 130.75548072730169)"
       ]
      }, 
      {
       "output_type": "stream", 
       "stream": "stdout", 
       "text": [
        "", 
        "(144.26923076923077, 66.356587808311318)", 
        "(191.8450819672131, 150.09431821710928)", 
        "(171.23770491803279, 123.82616406159083)", 
        "(141.56862745098039, 62.330634806417713)", 
        "(109.06896551724138, 34.613064141660047)", 
        "(253.80234741784039, 167.34156072061529)"
       ]
      }, 
      {
       "output_type": "stream", 
       "stream": "stdout", 
       "text": [
        "", 
        "(177.90163934426229, 161.93906875101163)", 
        "(178.0207650273224, 112.34288752545403)"
       ]
      }, 
      {
       "output_type": "stream", 
       "stream": "stdout", 
       "text": [
        "", 
        "(135.28402777777779, 76.876813134168685)", 
        "(141.26290143964565, 92.165078960759274)", 
        "(181.4375, 103.9267583144495)"
       ]
      }, 
      {
       "output_type": "stream", 
       "stream": "stdout", 
       "text": [
        "", 
        "(198.50561797752809, 95.947097267485418)", 
        "(176.30000000000001, 101.47615483452257)", 
        "(168.15294117647059, 75.025565192979087)", 
        "(152.88306636155605, 124.48259631044856)", 
        "(208.0, 153.89599781045803)"
       ]
      }, 
      {
       "output_type": "stream", 
       "stream": "stdout", 
       "text": [
        "", 
        "(131.27160493827159, 96.580039389799808)", 
        "(123.52112676056338, 57.823641335719756)", 
        "(246.94871794871796, 193.75643231247551)", 
        "(365.08695652173913, 259.63618576828321)"
       ]
      }, 
      {
       "output_type": "stream", 
       "stream": "stdout", 
       "text": [
        "", 
        "(199.25909780136467, 142.17491870301183)", 
        "(150.92105263157896, 95.908503980273153)"
       ]
      }, 
      {
       "output_type": "stream", 
       "stream": "stdout", 
       "text": [
        "", 
        "(103.59999999999999, 41.832682597860412)", 
        "(143.93700787401573, 88.589360377810294)", 
        "(163.89814814814815, 96.423635090044456)", 
        "(146.04340836012861, 110.1406863267365)", 
        "(151.7017591339648, 130.77649077023528)"
       ]
      }, 
      {
       "output_type": "stream", 
       "stream": "stdout", 
       "text": [
        "", 
        "(153.37704918032787, 118.40125773789573)"
       ]
      }, 
      {
       "output_type": "stream", 
       "stream": "stdout", 
       "text": [
        "", 
        "(121.125, 72.644862458859862)", 
        "(186.01802656546491, 129.08647116360328)", 
        "(119.45554335894622, 85.45170190466655)"
       ]
      }, 
      {
       "output_type": "stream", 
       "stream": "stdout", 
       "text": [
        "", 
        "(131.875, 83.62929734847711)"
       ]
      }, 
      {
       "output_type": "stream", 
       "stream": "stdout", 
       "text": [
        "", 
        "(127.44827586206897, 75.186015852590359)", 
        "(135.28571428571428, 70.091194241531369)", 
        "(130.32142857142858, 117.94022504503486)", 
        "(167.02846975088968, 106.12290216466241)", 
        "(120.55338983050848, 60.021091889100937)"
       ]
      }, 
      {
       "output_type": "stream", 
       "stream": "stdout", 
       "text": [
        "", 
        "(136.72178770949722, 95.09864637341316)", 
        "(192.26005361930294, 119.17740594564384)"
       ]
      }, 
      {
       "output_type": "stream", 
       "stream": "stdout", 
       "text": [
        "", 
        "(159.58455882352942, 112.67186308994054)", 
        "(143.38775510204081, 129.82025506666005)", 
        "(163.67256637168143, 85.060045681211832)", 
        "(166.51538461538462, 100.65884764623254)"
       ]
      }, 
      {
       "output_type": "stream", 
       "stream": "stdout", 
       "text": [
        "", 
        "(159.62746344564525, 113.81168755791356)", 
        "(415.33333333333331, 405.67666380450771)"
       ]
      }, 
      {
       "output_type": "stream", 
       "stream": "stdout", 
       "text": [
        "", 
        "(132.005, 58.400470674473169)", 
        "(176.34980694980698, 132.69167686784778)", 
        "(183.24242424242425, 155.09596839474864)", 
        "(159.5747252747253, 101.42415354158895)", 
        "(150.86274509803923, 153.07732502105495)"
       ]
      }, 
      {
       "output_type": "stream", 
       "stream": "stdout", 
       "text": [
        "", 
        "(142.45835866261399, 132.90037312909669)", 
        "(140.30625000000001, 155.93525114682447)", 
        "(152.72972972972974, 72.733370403118428)", 
        "(153.0, 109.05503197927182)", 
        "(237.0, 46.0)"
       ]
      }, 
      {
       "output_type": "stream", 
       "stream": "stdout", 
       "text": [
        "", 
        "(236.58823529411765, 145.76857517534606)", 
        "(179.76200850159404, 104.16499101237321)", 
        "(167.10454545454544, 83.147704339413949)"
       ]
      }, 
      {
       "output_type": "stream", 
       "stream": "stdout", 
       "text": [
        "", 
        "(284.25, 137.75045371976094)", 
        "(68.0, 30.0)", 
        "(238.66025641025641, 132.33206565278974)", 
        "(196.57425742574259, 139.39702871491772)", 
        "(149.3120933087784, 109.95345120280165)"
       ]
      }, 
      {
       "output_type": "stream", 
       "stream": "stdout", 
       "text": [
        "", 
        "(126.90625, 69.683372915907995)"
       ]
      }, 
      {
       "output_type": "stream", 
       "stream": "stdout", 
       "text": [
        "", 
        "(137.73239436619718, 112.08811394895181)", 
        "(161.97209302325581, 107.22306530233389)", 
        "(148.23434343434343, 109.15519871443183)", 
        "(164.24266826923079, 127.44241636721638)", 
        "(197.609375, 134.31267359080221)"
       ]
      }, 
      {
       "output_type": "stream", 
       "stream": "stdout", 
       "text": [
        "", 
        "(200.81818181818181, 192.15799284670945)", 
        "(170.20634920634922, 144.00404080862239)", 
        "(174.33333333333334, 59.768070256803711)", 
        "(124.0, 18.316659084014201)", 
        "(207.85714285714286, 204.29863429007332)", 
        "(250.0, 36.0)"
       ]
      }, 
      {
       "output_type": "stream", 
       "stream": "stdout", 
       "text": [
        "", 
        "(144.52307692307693, 79.032049524677049)", 
        "(198.0, 48.733971724044821)", 
        "(237.0595238095238, 169.1017129246743)", 
        "(535.09090909090912, 227.73088365854298)", 
        "(734.62162162162167, 135.16443466152737)", 
        "(187.97037007240544, 166.31640915969828)", 
        "(169.40743801652897, 167.31134377963761)"
       ]
      }, 
      {
       "output_type": "stream", 
       "stream": "stdout", 
       "text": [
        "", 
        "(171.2178790534617, 154.1582352756472)", 
        "(174.8401559454191, 140.2132766499077)"
       ]
      }, 
      {
       "output_type": "stream", 
       "stream": "stdout", 
       "text": [
        "", 
        "(158.70731707317074, 116.22670108035165)", 
        "(215.0, 219.37628978934603)", 
        "(234.20945945945945, 234.2002277267795)"
       ]
      }, 
      {
       "output_type": "stream", 
       "stream": "stdout", 
       "text": [
        "", 
        "(167.62722513089005, 170.60456249966833)", 
        "(266.31870967741935, 186.06501908571457)"
       ]
      }, 
      {
       "output_type": "stream", 
       "stream": "stdout", 
       "text": [
        "", 
        "(206.81660516605166, 185.87052009631225)", 
        "(183.41747572815535, 180.76386056629775)"
       ]
      }, 
      {
       "output_type": "stream", 
       "stream": "stdout", 
       "text": [
        "", 
        "(163.15135135135134, 95.924569525822676)", 
        "(497.853681963714, 198.89782897553613)", 
        "(185.59036144578315, 171.84717826657092)"
       ]
      }, 
      {
       "output_type": "stream", 
       "stream": "stdout", 
       "text": [
        "", 
        "(200.59462365591398, 182.61253575486683)", 
        "(143.94308736217133, 92.472236354057202)", 
        "(124.15827338129496, 116.15886287475837)"
       ]
      }, 
      {
       "output_type": "stream", 
       "stream": "stdout", 
       "text": [
        "", 
        "(129.8923076923077, 121.16012161199545)", 
        "(148.67021276595744, 127.1675380344448)", 
        "(177.94505494505495, 172.00248290038746)", 
        "(181.386925795053, 166.37252393206197)"
       ]
      }, 
      {
       "output_type": "stream", 
       "stream": "stdout", 
       "text": [
        "", 
        "(127.00833333333334, 95.162448461681677)"
       ]
      }, 
      {
       "output_type": "stream", 
       "stream": "stdout", 
       "text": [
        "", 
        "(167.1829268292683, 132.71288724240068)", 
        "(112.96808510638297, 73.277736325667391)"
       ]
      }, 
      {
       "output_type": "stream", 
       "stream": "stdout", 
       "text": [
        "", 
        "(163.61524163568774, 140.72212432048042)", 
        "(194.33064935064937, 165.6102590957461)", 
        "(150.26051660516606, 95.841363539166977)"
       ]
      }, 
      {
       "output_type": "stream", 
       "stream": "stdout", 
       "text": [
        "", 
        "(108.05744125326373, 89.874122826128996)", 
        "(161.7371875, 143.8553125916448)", 
        "(194.96482142857147, 147.68532085014732)"
       ]
      }, 
      {
       "output_type": "stream", 
       "stream": "stdout", 
       "text": [
        "", 
        "(163.42433333333335, 143.30627011210785)", 
        "(158.79237288135593, 98.118287879494375)"
       ]
      }, 
      {
       "output_type": "stream", 
       "stream": "stdout", 
       "text": [
        "", 
        "(160.49771604938277, 118.79772186060279)", 
        "(272.41082802547771, 231.26448312838531)"
       ]
      }, 
      {
       "output_type": "stream", 
       "stream": "stdout", 
       "text": [
        "", 
        "(164.77536231884059, 136.49377636796325)", 
        "(140.30268817204302, 115.01669043575905)", 
        "(209.60877323420073, 145.70765577699288)", 
        "(82.111598746081526, 72.896329252213661)"
       ]
      }, 
      {
       "output_type": "stream", 
       "stream": "stdout", 
       "text": [
        "", 
        "(155.46790387955986, 118.95956833546174)", 
        "(234.89365079365081, 187.09438164260106)"
       ]
      }, 
      {
       "output_type": "stream", 
       "stream": "stdout", 
       "text": [
        "", 
        "(170.28911184210526, 166.13968480955737)", 
        "(201.5625, 70.546450295571603)", 
        "(157.10300429184548, 73.58967341884788)", 
        "(294.78614982578398, 189.10437204804353)"
       ]
      }, 
      {
       "output_type": "stream", 
       "stream": "stdout", 
       "text": [
        "", 
        "(272.20911528150134, 229.30215668197016)"
       ]
      }, 
      {
       "output_type": "stream", 
       "stream": "stdout", 
       "text": [
        "", 
        "(178.45783132530121, 141.71992583412319)", 
        "(127.09159663865546, 62.889633325403381)", 
        "(211.45121951219511, 207.34819027594116)", 
        "(124.32075471698113, 125.48859582627128)", 
        "(139.52550607287449, 82.376498320362529)"
       ]
      }, 
      {
       "output_type": "stream", 
       "stream": "stdout", 
       "text": [
        "", 
        "(169.01067961165052, 118.67020159579785)"
       ]
      }, 
      {
       "output_type": "stream", 
       "stream": "stdout", 
       "text": [
        "", 
        "(154.9702380952381, 101.43502644757136)", 
        "(116.51386861313867, 136.21372492798389)", 
        "(89.990588235294098, 18.991800853367796)", 
        "(115.03024054982819, 126.2465116238583)"
       ]
      }, 
      {
       "output_type": "stream", 
       "stream": "stdout", 
       "text": [
        "", 
        "(107.68056680161946, 58.721197667870932)", 
        "(162.12327868852464, 150.69701798175851)", 
        "(159.16578947368421, 150.18452616636418)"
       ]
      }, 
      {
       "output_type": "stream", 
       "stream": "stdout", 
       "text": [
        "", 
        "(134.63040000000004, 121.16275372066006)", 
        "(243.92280130293162, 169.15976354877978)", 
        "(128.71666666666667, 55.522755595241236)"
       ]
      }, 
      {
       "output_type": "stream", 
       "stream": "stdout", 
       "text": [
        "", 
        "(106.2, 102.93624779984508)", 
        "(113.97891566265061, 58.953814688229393)", 
        "(250.98843930635837, 208.77160650188824)", 
        "(191.20833333333334, 156.87600707954746)"
       ]
      }, 
      {
       "output_type": "stream", 
       "stream": "stdout", 
       "text": [
        "", 
        "(200.78971962616822, 145.38250446527013)", 
        "(165.37714285714284, 142.2728542237752)", 
        "(154.70224719101122, 117.77042080854616)", 
        "(129.55811518324606, 91.213475654368551)"
       ]
      }, 
      {
       "output_type": "stream", 
       "stream": "stdout", 
       "text": [
        "", 
        "(104.18396946564886, 86.358259475647088)", 
        "(117.71142857142856, 52.411532381057249)", 
        "(200.52020202020202, 181.0789690334629)", 
        "(109.06081081081081, 57.938367341109952)"
       ]
      }, 
      {
       "output_type": "stream", 
       "stream": "stdout", 
       "text": [
        "", 
        "(147.14413793103449, 114.370884814372)", 
        "(98.413861386138606, 47.744775318753078)", 
        "(177.3360655737705, 151.6682969701703)", 
        "(149.0084745762712, 91.883261949533775)"
       ]
      }, 
      {
       "output_type": "stream", 
       "stream": "stdout", 
       "text": [
        "", 
        "(102.98629032258064, 44.27772383686608)", 
        "(114.60232558139533, 42.866263030728263)", 
        "(118.72277227722772, 83.950612404005412)", 
        "(145.983, 85.770022799344076)", 
        "(125.1140350877193, 56.217584620474149)"
       ]
      }, 
      {
       "output_type": "stream", 
       "stream": "stdout", 
       "text": [
        "", 
        "(123.33333333333333, 101.85474406668001)", 
        "(118.11839080459769, 84.957982892607617)", 
        "(142.31515151515151, 134.44326531520056)"
       ]
      }, 
      {
       "output_type": "stream", 
       "stream": "stdout", 
       "text": [
        "", 
        "(92.35849056603773, 24.693666088521987)", 
        "(131.20076923076923, 98.951275497010187)", 
        "(93.520155038759668, 51.502772379423099)", 
        "(180.27734375, 137.90309251135139)"
       ]
      }, 
      {
       "output_type": "stream", 
       "stream": "stdout", 
       "text": [
        "", 
        "(119.80206185567009, 79.384930637014449)", 
        "(167.67411764705884, 143.04275418972551)", 
        "(95.192857142857136, 19.899980771193665)", 
        "(114.3109756097561, 87.773275012188407)"
       ]
      }, 
      {
       "output_type": "stream", 
       "stream": "stdout", 
       "text": [
        "", 
        "(190.73239436619718, 123.19307618948224)", 
        "(286.75999999999999, 166.97383747162309)", 
        "(150.70238095238096, 108.71164126583692)", 
        "(105.80525252525256, 77.934509496055512)", 
        "(149.41658536585368, 99.395482637935189)"
       ]
      }, 
      {
       "output_type": "stream", 
       "stream": "stdout", 
       "text": [
        "", 
        "(132.62131147540984, 76.839397371686672)", 
        "(116.24468085106383, 44.009828730615894)", 
        "(135.05555555555554, 71.889296753093376)", 
        "(157.67419354838708, 148.29159584596556)"
       ]
      }, 
      {
       "output_type": "stream", 
       "stream": "stdout", 
       "text": [
        "", 
        "(143.15384615384616, 52.951132992666935)", 
        "(178.95234899328861, 182.29627135016639)", 
        "(151.2560975609756, 115.92689148828595)", 
        "(122.459, 48.944186774324884)", 
        "(239.27777777777777, 131.48967241048737)"
       ]
      }, 
      {
       "output_type": "stream", 
       "stream": "stdout", 
       "text": [
        "", 
        "(126.26666666666667, 47.441847443885315)", 
        "(150.89285714285714, 76.96710303096765)", 
        "(223.25641025641025, 193.15861928088623)", 
        "(145.84444444444443, 129.81188193442856)"
       ]
      }, 
      {
       "output_type": "stream", 
       "stream": "stdout", 
       "text": [
        "", 
        "(147.59322033898306, 106.96762042058791)", 
        "(227.5981651376147, 188.34183412034008)", 
        "(125.25961538461539, 57.252941676575041)"
       ]
      }, 
      {
       "output_type": "stream", 
       "stream": "stdout", 
       "text": [
        "", 
        "(117.66499999999999, 106.72159079430304)", 
        "(169.52968750000002, 119.89701659091577)", 
        "(96.519999999999996, 26.608449785735353)", 
        "(118.19354838709677, 85.498318925121865)", 
        "(118.57303370786516, 57.306957367380178)", 
        "(119.12764227642276, 74.462870980131726)"
       ]
      }, 
      {
       "output_type": "stream", 
       "stream": "stdout", 
       "text": [
        "", 
        "(92.5, 36.943876353192827)", 
        "(191.30909090909091, 146.35161554250377)", 
        "(135.20344827586206, 64.021362182443482)", 
        "(147.77392405063293, 95.043356414458927)", 
        "(104.32653061224489, 41.705178925258636)"
       ]
      }, 
      {
       "output_type": "stream", 
       "stream": "stdout", 
       "text": [
        "", 
        "(85.006756756756758, 32.697649849761234)", 
        "(120.47499999999999, 35.374416956325931)", 
        "(121.08695652173913, 49.864959417347997)", 
        "(142.69811320754718, 75.093799182657534)", 
        "(142.84615384615384, 58.306677482542725)", 
        "(374.28981348637018, 221.88528793268273)", 
        "(150.0, 199.03504055422263)"
       ]
      }, 
      {
       "output_type": "stream", 
       "stream": "stdout", 
       "text": [
        "", 
        "(120.70370370370371, 28.588802281876163)", 
        "(118.41384615384615, 58.616022689844229)", 
        "(102.81584158415843, 44.78877761816409)", 
        "(192.30645161290323, 173.38030069201665)", 
        "(182.00373831775701, 131.8303780778763)", 
        "(94.780000000000001, 35.456361911510335)"
       ]
      }, 
      {
       "output_type": "stream", 
       "stream": "stdout", 
       "text": [
        "", 
        "(181.73076923076923, 111.28326907640411)", 
        "(160.63333333333333, 53.18300689338863)", 
        "(170.768115942029, 139.6391981145463)", 
        "(108.0, 18.973665961010276)", 
        "(182.23333333333332, 67.714933524461387)", 
        "(178.77551020408163, 136.47923745900968)", 
        "(83.386956521739137, 20.300102898600354)"
       ]
      }, 
      {
       "output_type": "stream", 
       "stream": "stdout", 
       "text": [
        "", 
        "(116.22222222222223, 43.091705254357201)", 
        "(183.0, 234.84593968092227)", 
        "(115.66190476190476, 53.441026474587801)", 
        "(101.20689655172414, 43.369605843934806)", 
        "(150.3294117647059, 73.842639507657765)", 
        "(128.05882352941177, 21.721419594588035)", 
        "(128.9375, 87.239231964466541)"
       ]
      }, 
      {
       "output_type": "stream", 
       "stream": "stdout", 
       "text": [
        "", 
        "(137.63749999999999, 64.0729552443931)", 
        "(155.86666666666667, 88.596900587158203)", 
        "(145.58139534883722, 91.458271729901199)"
       ]
      }, 
      {
       "output_type": "display_data", 
       "png": "[encoded data removed]"
      }
     ], 
     "prompt_number": 82
    }, 
    {
     "cell_type": "code", 
     "collapsed": false, 
     "input": [
      "for cityid in range(1, 620):", 
      "    tpd = hour_deal[hour_deal[\"dp.cityid\"] == cityid]", 
      "    tpd = tpd[tpd[\"dd.price\"]", 
      "    if mean(tpd[\"dd.price\"]) is not nan :", 
      "            print(mean(tpd[\"dd.price\"]), np.std(tpd[\"dd.price\"]))", 
      "            tpd.ix[:, 'dd.price'].plot(kind='kde')"
     ], 
     "language": "python", 
     "outputs": [
      {
       "output_type": "stream", 
       "stream": "stdout", 
       "text": [
        "(109.35762237762236, 383.13951448627756)", 
        "(80.297636511817402, 163.00231017369296)"
       ]
      }, 
      {
       "output_type": "stream", 
       "stream": "stdout", 
       "text": [
        "", 
        "(75.679834801762127, 33.508467844165203)"
       ]
      }, 
      {
       "output_type": "stream", 
       "stream": "stdout", 
       "text": [
        "", 
        "(86.413274336283166, 137.72913728554434)"
       ]
      }, 
      {
       "output_type": "stream", 
       "stream": "stdout", 
       "text": [
        "", 
        "(65.135329861111146, 84.391757142957459)"
       ]
      }, 
      {
       "output_type": "stream", 
       "stream": "stdout", 
       "text": [
        "", 
        "(54.300911290322581, 21.246801111602675)"
       ]
      }, 
      {
       "output_type": "stream", 
       "stream": "stdout", 
       "text": [
        "", 
        "(57.092883895131067, 27.717455963551011)"
       ]
      }, 
      {
       "output_type": "stream", 
       "stream": "stdout", 
       "text": [
        "", 
        "(60.694324324324327, 24.680151127547767)", 
        "(66.539646464646523, 73.076670985337316)"
       ]
      }, 
      {
       "output_type": "stream", 
       "stream": "stdout", 
       "text": [
        "", 
        "(70.56243093922653, 44.511772887431093)", 
        "(58.219866071428562, 25.43450856366054)"
       ]
      }, 
      {
       "output_type": "stream", 
       "stream": "stdout", 
       "text": [
        "", 
        "(63.337010159651676, 87.772443995128569)", 
        "(56.164346895074956, 27.417625170127305)"
       ]
      }, 
      {
       "output_type": "stream", 
       "stream": "stdout", 
       "text": [
        "", 
        "(63.210151187904962, 33.53177046585359)", 
        "(66.860470085470126, 28.972500913464813)"
       ]
      }, 
      {
       "output_type": "stream", 
       "stream": "stdout", 
       "text": [
        "", 
        "(52.334048174048242, 39.980588532059578)"
       ]
      }, 
      {
       "output_type": "stream", 
       "stream": "stdout", 
       "text": [
        "", 
        "(59.574175824175818, 20.650392943388258)"
       ]
      }, 
      {
       "output_type": "stream", 
       "stream": "stdout", 
       "text": [
        "", 
        "(80.79429958391124, 106.93461599509502)", 
        "(51.684398216939087, 15.292003085515741)"
       ]
      }, 
      {
       "output_type": "stream", 
       "stream": "stdout", 
       "text": [
        "", 
        "(56.548200514138827, 24.961967535432752)"
       ]
      }, 
      {
       "output_type": "stream", 
       "stream": "stdout", 
       "text": [
        "", 
        "(65.761003039513682, 133.26221074129964)", 
        "(65.2661231884058, 124.96356654913654)"
       ]
      }, 
      {
       "output_type": "stream", 
       "stream": "stdout", 
       "text": [
        "", 
        "(78.37418546365916, 178.76055170924644)", 
        "(45.992682926829247, 16.032990230419749)"
       ]
      }, 
      {
       "output_type": "stream", 
       "stream": "stdout", 
       "text": [
        "", 
        "(79.892827004219399, 159.28845762753261)", 
        "(59.009189189189186, 31.13869708416432)", 
        "(61.805970149253731, 31.695490901101302)", 
        "(54.201449275362322, 22.564564323668925)", 
        "(65.392054794520575, 37.315223929030665)"
       ]
      }, 
      {
       "output_type": "stream", 
       "stream": "stdout", 
       "text": [
        "", 
        "(47.537209302325586, 19.512882128383609)", 
        "(64.792610837438417, 25.90169735163785)", 
        "(68.944090909090903, 23.882548051794682)"
       ]
      }, 
      {
       "output_type": "stream", 
       "stream": "stdout", 
       "text": [
        "", 
        "(52.331927710843374, 56.012209339385201)", 
        "(43.695378151260492, 15.12712029946487)", 
        "(54.619512195121956, 19.975951633513855)", 
        "(55.60041782729806, 22.180717298616141)", 
        "(56.847698744769879, 28.639186385026271)"
       ]
      }, 
      {
       "output_type": "stream", 
       "stream": "stdout", 
       "text": [
        "", 
        "(47.588532110091741, 29.611730282480359)", 
        "(76.842922374429222, 111.07010079265196)", 
        "(88.845471014492759, 62.128368579794838)", 
        "(54.101818181818153, 21.414663548046615)"
       ]
      }, 
      {
       "output_type": "stream", 
       "stream": "stdout", 
       "text": [
        "", 
        "(52.386776859504131, 15.957520790418975)", 
        "(61.710497237569051, 22.800318653299172)", 
        "(50.223940886699495, 20.027619817880964)", 
        "(59.409615384615385, 20.506197558631133)"
       ]
      }, 
      {
       "output_type": "stream", 
       "stream": "stdout", 
       "text": [
        "", 
        "(65.466071428571425, 58.632649597745797)", 
        "(66.200000000000003, 26.21273294452627)", 
        "(51.459090909090911, 97.293216894699327)", 
        "(56.427272727272729, 18.218601428664293)", 
        "(72.086281588447662, 107.46082063082315)", 
        "(67.724285714285713, 29.372027196512214)"
       ]
      }, 
      {
       "output_type": "stream", 
       "stream": "stdout", 
       "text": [
        "", 
        "(62.365517241379315, 16.196074645662247)", 
        "(62.114093959731541, 33.538024138360711)", 
        "(61.74285714285714, 24.785759571798888)", 
        "(53.564820846905533, 46.22932076001198)", 
        "(51.641025641025642, 15.046061209579717)", 
        "(61.024604966139975, 151.1476420941548)"
       ]
      }, 
      {
       "output_type": "stream", 
       "stream": "stdout", 
       "text": [
        "", 
        "(58.473469387755095, 29.718912933055485)", 
        "(81.236486486486442, 248.40367270771625)", 
        "(55.747643979057585, 17.212599859568162)", 
        "(45.44886877828052, 13.070005074864776)"
       ]
      }, 
      {
       "output_type": "stream", 
       "stream": "stdout", 
       "text": [
        "", 
        "(51.698, 16.781215569797073)", 
        "(53.263636363636365, 13.07919509574719)", 
        "(67.48863636363636, 28.651112273420249)", 
        "(56.549999999999997, 20.218329142966621)", 
        "(57.225000000000001, 19.661494729546892)", 
        "(45.495121951219502, 15.658862545045896)", 
        "(60.247826086956536, 55.645941057220568)"
       ]
      }, 
      {
       "output_type": "stream", 
       "stream": "stdout", 
       "text": [
        "", 
        "(69.574468085106389, 27.258217328928698)", 
        "(69.607142857142861, 34.360836599779333)", 
        "(41.61904761904762, 13.751107974324905)", 
        "(72.456666666666663, 40.753915421983976)", 
        "(51.64387096774194, 26.523100300148496)", 
        "(45.86578947368421, 25.45973370179281)", 
        "(43.871282051282058, 21.589413262592643)", 
        "(62.242424242424242, 41.046190022158818)"
       ]
      }, 
      {
       "output_type": "stream", 
       "stream": "stdout", 
       "text": [
        "", 
        "(54.578223495702005, 18.412476654635594)", 
        "(50.149907120743023, 28.917907812485964)", 
        "(51.588235294117645, 12.553690919779038)", 
        "(67.123404255319159, 31.36745306548335)", 
        "(108.10714285714286, 172.74099920436507)"
       ]
      }, 
      {
       "ename": "ValueError", 
       "evalue": "`dataset` input should have multiple elements.", 
       "output_type": "pyerr", 
       "traceback": [
        "\u001b[0;31m---------------------------------------------------------------------------\u001b[0m\n\u001b[0;31mValueError\u001b[0m                                Traceback (most recent call last)", 
        "\u001b[0;32m/Users/ytjia/Workspace/learning/python/<ipython-input-38-74f40e075bfd>\u001b[0m in \u001b[0;36m<module>\u001b[0;34m()\u001b[0m\n\u001b[1;32m      3\u001b[0m     \u001b[0;32mif\u001b[0m \u001b[0mmean\u001b[0m\u001b[0;34m(\u001b[0m\u001b[0mtpd\u001b[0m\u001b[0;34m[\u001b[0m\u001b[0;34m\"dd.price\"\u001b[0m\u001b[0;34m]\u001b[0m\u001b[0;34m)\u001b[0m \u001b[0;32mis\u001b[0m \u001b[0;32mnot\u001b[0m \u001b[0mnan\u001b[0m \u001b[0;34m:\u001b[0m\u001b[0;34m\u001b[0m\u001b[0m\n\u001b[1;32m      4\u001b[0m             \u001b[0;32mprint\u001b[0m\u001b[0;34m(\u001b[0m\u001b[0mmean\u001b[0m\u001b[0;34m(\u001b[0m\u001b[0mtpd\u001b[0m\u001b[0;34m[\u001b[0m\u001b[0;34m\"dd.price\"\u001b[0m\u001b[0;34m]\u001b[0m\u001b[0;34m)\u001b[0m\u001b[0;34m,\u001b[0m \u001b[0mnp\u001b[0m\u001b[0;34m.\u001b[0m\u001b[0mstd\u001b[0m\u001b[0;34m(\u001b[0m\u001b[0mtpd\u001b[0m\u001b[0;34m[\u001b[0m\u001b[0;34m\"dd.price\"\u001b[0m\u001b[0;34m]\u001b[0m\u001b[0;34m)\u001b[0m\u001b[0;34m)\u001b[0m\u001b[0;34m\u001b[0m\u001b[0m\n\u001b[0;32m----> 5\u001b[0;31m             \u001b[0mtpd\u001b[0m\u001b[0;34m.\u001b[0m\u001b[0mix\u001b[0m\u001b[0;34m[\u001b[0m\u001b[0;34m:\u001b[0m\u001b[0;34m,\u001b[0m \u001b[0;34m'dd.price'\u001b[0m\u001b[0;34m]\u001b[0m\u001b[0;34m.\u001b[0m\u001b[0mplot\u001b[0m\u001b[0;34m(\u001b[0m\u001b[0mkind\u001b[0m\u001b[0;34m=\u001b[0m\u001b[0;34m'kde'\u001b[0m\u001b[0;34m)\u001b[0m\u001b[0;34m\u001b[0m\u001b[0m\n\u001b[0m", 
        "\u001b[0;32m/Library/Python/2.7/site-packages/pandas-0.12.0-py2.7-macosx-10.9-intel.egg/pandas/tools/plotting.pyc\u001b[0m in \u001b[0;36mplot_series\u001b[0;34m(series, label, kind, use_index, rot, xticks, yticks, xlim, ylim, ax, style, grid, legend, logx, logy, secondary_y, **kwds)\u001b[0m\n\u001b[1;32m   1728\u001b[0m                      secondary_y=secondary_y, **kwds)\n\u001b[1;32m   1729\u001b[0m \u001b[0;34m\u001b[0m\u001b[0m\n\u001b[0;32m-> 1730\u001b[0;31m     \u001b[0mplot_obj\u001b[0m\u001b[0;34m.\u001b[0m\u001b[0mgenerate\u001b[0m\u001b[0;34m(\u001b[0m\u001b[0;34m)\u001b[0m\u001b[0;34m\u001b[0m\u001b[0m\n\u001b[0m\u001b[1;32m   1731\u001b[0m     \u001b[0mplot_obj\u001b[0m\u001b[0;34m.\u001b[0m\u001b[0mdraw\u001b[0m\u001b[0;34m(\u001b[0m\u001b[0;34m)\u001b[0m\u001b[0;34m\u001b[0m\u001b[0m\n\u001b[1;32m   1732\u001b[0m \u001b[0;34m\u001b[0m\u001b[0m\n", 
        "\u001b[0;32m/Library/Python/2.7/site-packages/pandas-0.12.0-py2.7-macosx-10.9-intel.egg/pandas/tools/plotting.pyc\u001b[0m in \u001b[0;36mgenerate\u001b[0;34m(self)\u001b[0m\n\u001b[1;32m    854\u001b[0m         \u001b[0mself\u001b[0m\u001b[0;34m.\u001b[0m\u001b[0m_compute_plot_data\u001b[0m\u001b[0;34m(\u001b[0m\u001b[0;34m)\u001b[0m\u001b[0;34m\u001b[0m\u001b[0m\n\u001b[1;32m    855\u001b[0m         \u001b[0mself\u001b[0m\u001b[0;34m.\u001b[0m\u001b[0m_setup_subplots\u001b[0m\u001b[0;34m(\u001b[0m\u001b[0;34m)\u001b[0m\u001b[0;34m\u001b[0m\u001b[0m\n\u001b[0;32m--> 856\u001b[0;31m         \u001b[0mself\u001b[0m\u001b[0;34m.\u001b[0m\u001b[0m_make_plot\u001b[0m\u001b[0;34m(\u001b[0m\u001b[0;34m)\u001b[0m\u001b[0;34m\u001b[0m\u001b[0m\n\u001b[0m\u001b[1;32m    857\u001b[0m         \u001b[0mself\u001b[0m\u001b[0;34m.\u001b[0m\u001b[0m_post_plot_logic\u001b[0m\u001b[0;34m(\u001b[0m\u001b[0;34m)\u001b[0m\u001b[0;34m\u001b[0m\u001b[0m\n\u001b[1;32m    858\u001b[0m         \u001b[0mself\u001b[0m\u001b[0;34m.\u001b[0m\u001b[0m_adorn_subplots\u001b[0m\u001b[0;34m(\u001b[0m\u001b[0;34m)\u001b[0m\u001b[0;34m\u001b[0m\u001b[0m\n", 
        "\u001b[0;32m/Library/Python/2.7/site-packages/pandas-0.12.0-py2.7-macosx-10.9-intel.egg/pandas/tools/plotting.pyc\u001b[0m in \u001b[0;36m_make_plot\u001b[0;34m(self)\u001b[0m\n\u001b[1;32m   1154\u001b[0m             \u001b[0mlabel\u001b[0m \u001b[0;34m=\u001b[0m \u001b[0mcom\u001b[0m\u001b[0;34m.\u001b[0m\u001b[0mpprint_thing\u001b[0m\u001b[0;34m(\u001b[0m\u001b[0mlabel\u001b[0m\u001b[0;34m)\u001b[0m\u001b[0;34m\u001b[0m\u001b[0m\n\u001b[1;32m   1155\u001b[0m \u001b[0;34m\u001b[0m\u001b[0m\n\u001b[0;32m-> 1156\u001b[0;31m             \u001b[0mgkde\u001b[0m \u001b[0;34m=\u001b[0m \u001b[0mgaussian_kde\u001b[0m\u001b[0;34m(\u001b[0m\u001b[0my\u001b[0m\u001b[0;34m)\u001b[0m\u001b[0;34m\u001b[0m\u001b[0m\n\u001b[0m\u001b[1;32m   1157\u001b[0m             \u001b[0msample_range\u001b[0m \u001b[0;34m=\u001b[0m \u001b[0mmax\u001b[0m\u001b[0;34m(\u001b[0m\u001b[0my\u001b[0m\u001b[0;34m)\u001b[0m \u001b[0;34m-\u001b[0m \u001b[0mmin\u001b[0m\u001b[0;34m(\u001b[0m\u001b[0my\u001b[0m\u001b[0;34m)\u001b[0m\u001b[0;34m\u001b[0m\u001b[0m\n\u001b[1;32m   1158\u001b[0m             ind = np.linspace(min(y) - 0.5 * sample_range,\n", 
        "\u001b[0;32m/System/Library/Frameworks/Python.framework/Versions/2.7/Extras/lib/python/scipy/stats/kde.pyc\u001b[0m in \u001b[0;36m__init__\u001b[0;34m(self, dataset, bw_method)\u001b[0m\n\u001b[1;32m    183\u001b[0m         \u001b[0mself\u001b[0m\u001b[0;34m.\u001b[0m\u001b[0mdataset\u001b[0m \u001b[0;34m=\u001b[0m \u001b[0matleast_2d\u001b[0m\u001b[0;34m(\u001b[0m\u001b[0mdataset\u001b[0m\u001b[0;34m)\u001b[0m\u001b[0;34m\u001b[0m\u001b[0m\n\u001b[1;32m    184\u001b[0m         \u001b[0;32mif\u001b[0m \u001b[0;32mnot\u001b[0m \u001b[0mself\u001b[0m\u001b[0;34m.\u001b[0m\u001b[0mdataset\u001b[0m\u001b[0;34m.\u001b[0m\u001b[0msize\u001b[0m \u001b[0;34m>\u001b[0m \u001b[0;36m1\u001b[0m\u001b[0;34m:\u001b[0m\u001b[0;34m\u001b[0m\u001b[0m\n\u001b[0;32m--> 185\u001b[0;31m             \u001b[0;32mraise\u001b[0m \u001b[0mValueError\u001b[0m\u001b[0;34m(\u001b[0m\u001b[0;34m\"`dataset` input should have multiple elements.\"\u001b[0m\u001b[0;34m)\u001b[0m\u001b[0;34m\u001b[0m\u001b[0m\n\u001b[0m\u001b[1;32m    186\u001b[0m \u001b[0;34m\u001b[0m\u001b[0m\n\u001b[1;32m    187\u001b[0m         \u001b[0mself\u001b[0m\u001b[0;34m.\u001b[0m\u001b[0md\u001b[0m\u001b[0;34m,\u001b[0m \u001b[0mself\u001b[0m\u001b[0;34m.\u001b[0m\u001b[0mn\u001b[0m \u001b[0;34m=\u001b[0m \u001b[0mself\u001b[0m\u001b[0;34m.\u001b[0m\u001b[0mdataset\u001b[0m\u001b[0;34m.\u001b[0m\u001b[0mshape\u001b[0m\u001b[0;34m\u001b[0m\u001b[0m\n", 
        "\u001b[0;31mValueError\u001b[0m: `dataset` input should have multiple elements."
       ]
      }, 
      {
       "output_type": "stream", 
       "stream": "stdout", 
       "text": [
        "", 
        "(55.49444444444444, 23.921880319587991)", 
        "(54.58064516129032, 17.19109708362458)", 
        "(52.149152542372882, 15.230715763602387)", 
        "(44.888750000000002, 10.925640641971503)", 
        "(51.31333333333334, 19.948529324795398)", 
        "(57.142857142857146, 12.205719636167892)", 
        "(42.0, 0.0)"
       ]
      }, 
      {
       "output_type": "display_data", 
       "png": "[encoded data removed]"
      }
     ], 
     "prompt_number": 38
    }, 
    {
     "cell_type": "markdown", 
     "source": [
      "## POI Popular Score"
     ]
    }, 
    {
     "cell_type": "code", 
     "collapsed": false, 
     "input": [
      "import pandas as pd", 
      "import numpy as np", 
      "", 
      "consume_file_path = '/Users/ytjia/Downloads/Hotel/sort_data/POI_Consume_Day_Stat' ", 
      "poi_consume = pd.read_table(consume_file_path, sep = '\\t', names=['cityid', 'mainpoiid', 'days', 'consumecnt'])", 
      "poi_consume.describe()"
     ], 
     "language": "python", 
     "outputs": [
      {
       "html": [
        "<div style=\"max-height:1000px;max-width:1500px;overflow:auto;\">", 
        "<table border=\"1\" class=\"dataframe\">", 
        "  <thead>", 
        "    <tr style=\"text-align: right;\">", 
        "      <th></th>", 
        "      <th>cityid</th>", 
        "      <th>mainpoiid</th>", 
        "      <th>days</th>", 
        "      <th>consumecnt</th>", 
        "    </tr>", 
        "  </thead>", 
        "  <tbody>", 
        "    <tr>", 
        "      <th>count</th>", 
        "      <td> 2165638.000000</td>", 
        "      <td> 2165638.000000</td>", 
        "      <td> 2165638.000000</td>", 
        "      <td> 2165638.000000</td>", 
        "    </tr>", 
        "    <tr>", 
        "      <th>mean</th>", 
        "      <td>     164.239766</td>", 
        "      <td> 3484236.567635</td>", 
        "      <td>      31.553599</td>", 
        "      <td>       5.036006</td>", 
        "    </tr>", 
        "    <tr>", 
        "      <th>std</th>", 
        "      <td>     141.553935</td>", 
        "      <td> 1985300.518463</td>", 
        "      <td>      17.926061</td>", 
        "      <td>      10.298878</td>", 
        "    </tr>", 
        "    <tr>", 
        "      <th>min</th>", 
        "      <td>       1.000000</td>", 
        "      <td>    1548.000000</td>", 
        "      <td>       1.000000</td>", 
        "      <td>       0.000000</td>", 
        "    </tr>", 
        "    <tr>", 
        "      <th>25%</th>", 
        "      <td>      59.000000</td>", 
        "      <td> 1577183.000000</td>", 
        "      <td>      16.000000</td>", 
        "      <td>       1.000000</td>", 
        "    </tr>", 
        "    <tr>", 
        "      <th>50%</th>", 
        "      <td>     109.000000</td>", 
        "      <td> 2653045.000000</td>", 
        "      <td>      32.000000</td>", 
        "      <td>       2.000000</td>", 
        "    </tr>", 
        "    <tr>", 
        "      <th>75%</th>", 
        "      <td>     236.000000</td>", 
        "      <td> 5278265.750000</td>", 
        "      <td>      47.000000</td>", 
        "      <td>       5.000000</td>", 
        "    </tr>", 
        "    <tr>", 
        "      <th>max</th>", 
        "      <td>     613.000000</td>", 
        "      <td> 6999722.000000</td>", 
        "      <td>      62.000000</td>", 
        "      <td>    1485.000000</td>", 
        "    </tr>", 
        "  </tbody>", 
        "</table>", 
        "</div>"
       ], 
       "output_type": "pyout", 
       "prompt_number": 113, 
       "text": [
        "               cityid       mainpoiid            days      consumecnt", 
        "count  2165638.000000  2165638.000000  2165638.000000  2165638.000000", 
        "mean       164.239766  3484236.567635       31.553599        5.036006", 
        "std        141.553935  1985300.518463       17.926061       10.298878", 
        "min          1.000000     1548.000000        1.000000        0.000000", 
        "25%         59.000000  1577183.000000       16.000000        1.000000", 
        "50%        109.000000  2653045.000000       32.000000        2.000000", 
        "75%        236.000000  5278265.750000       47.000000        5.000000", 
        "max        613.000000  6999722.000000       62.000000     1485.000000"
       ]
      }
     ], 
     "prompt_number": 113
    }, 
    {
     "cell_type": "code", 
     "collapsed": false, 
     "input": [
      "poi_consume.ix[:, 'consumecnt'].hist(bins=100)"
     ], 
     "language": "python", 
     "outputs": [
      {
       "output_type": "pyout", 
       "prompt_number": 119, 
       "text": [
        "<matplotlib.axes.AxesSubplot at 0x6012de30>"
       ]
      }, 
      {
       "output_type": "display_data", 
       "png": "[encoded data removed]"
      }
     ], 
     "prompt_number": 119
    }, 
    {
     "cell_type": "code", 
     "collapsed": false, 
     "input": [
      "poi_consume = poi_consume[poi_consume[\"consumecnt\"]<=50]", 
      "poi_consume.describe()"
     ], 
     "language": "python", 
     "outputs": [
      {
       "html": [
        "<div style=\"max-height:1000px;max-width:1500px;overflow:auto;\">", 
        "<table border=\"1\" class=\"dataframe\">", 
        "  <thead>", 
        "    <tr style=\"text-align: right;\">", 
        "      <th></th>", 
        "      <th>cityid</th>", 
        "      <th>mainpoiid</th>", 
        "      <th>days</th>", 
        "      <th>consumecnt</th>", 
        "    </tr>", 
        "  </thead>", 
        "  <tbody>", 
        "    <tr>", 
        "      <th>count</th>", 
        "      <td> 2148514.000000</td>", 
        "      <td> 2148514.000000</td>", 
        "      <td> 2148514.000000</td>", 
        "      <td> 2148514.000000</td>", 
        "    </tr>", 
        "    <tr>", 
        "      <th>mean</th>", 
        "      <td>     164.575526</td>", 
        "      <td> 3496634.304995</td>", 
        "      <td>      31.539180</td>", 
        "      <td>       4.420610</td>", 
        "    </tr>", 
        "    <tr>", 
        "      <th>std</th>", 
        "      <td>     141.751340</td>", 
        "      <td> 1982819.323820</td>", 
        "      <td>      17.925481</td>", 
        "      <td>       6.558487</td>", 
        "    </tr>", 
        "    <tr>", 
        "      <th>min</th>", 
        "      <td>       1.000000</td>", 
        "      <td>    1548.000000</td>", 
        "      <td>       1.000000</td>", 
        "      <td>       0.000000</td>", 
        "    </tr>", 
        "    <tr>", 
        "      <th>25%</th>", 
        "      <td>      59.000000</td>", 
        "      <td> 1865944.000000</td>", 
        "      <td>      16.000000</td>", 
        "      <td>       1.000000</td>", 
        "    </tr>", 
        "    <tr>", 
        "      <th>50%</th>", 
        "      <td>     110.000000</td>", 
        "      <td> 2677461.000000</td>", 
        "      <td>      32.000000</td>", 
        "      <td>       2.000000</td>", 
        "    </tr>", 
        "    <tr>", 
        "      <th>75%</th>", 
        "      <td>     236.000000</td>", 
        "      <td> 5287170.000000</td>", 
        "      <td>      47.000000</td>", 
        "      <td>       5.000000</td>", 
        "    </tr>", 
        "    <tr>", 
        "      <th>max</th>", 
        "      <td>     613.000000</td>", 
        "      <td> 6999722.000000</td>", 
        "      <td>      62.000000</td>", 
        "      <td>      50.000000</td>", 
        "    </tr>", 
        "  </tbody>", 
        "</table>", 
        "</div>"
       ], 
       "output_type": "pyout", 
       "prompt_number": 109, 
       "text": [
        "               cityid       mainpoiid            days      consumecnt", 
        "count  2148514.000000  2148514.000000  2148514.000000  2148514.000000", 
        "mean       164.575526  3496634.304995       31.539180        4.420610", 
        "std        141.751340  1982819.323820       17.925481        6.558487", 
        "min          1.000000     1548.000000        1.000000        0.000000", 
        "25%         59.000000  1865944.000000       16.000000        1.000000", 
        "50%        110.000000  2677461.000000       32.000000        2.000000", 
        "75%        236.000000  5287170.000000       47.000000        5.000000", 
        "max        613.000000  6999722.000000       62.000000       50.000000"
       ]
      }
     ], 
     "prompt_number": 109
    }, 
    {
     "cell_type": "code", 
     "collapsed": false, 
     "input": [
      "poi_consume['consumescore'] = poi_consume.consumecnt / pow(poi_consume.days, 1.1)", 
      "poi_consume.describe()"
     ], 
     "language": "python", 
     "outputs": [
      {
       "html": [
        "<div style=\"max-height:1000px;max-width:1500px;overflow:auto;\">", 
        "<table border=\"1\" class=\"dataframe\">", 
        "  <thead>", 
        "    <tr style=\"text-align: right;\">", 
        "      <th></th>", 
        "      <th>cityid</th>", 
        "      <th>mainpoiid</th>", 
        "      <th>days</th>", 
        "      <th>consumecnt</th>", 
        "      <th>consumescore</th>", 
        "    </tr>", 
        "  </thead>", 
        "  <tbody>", 
        "    <tr>", 
        "      <th>count</th>", 
        "      <td> 2148514.000000</td>", 
        "      <td> 2148514.000000</td>", 
        "      <td> 2148514.000000</td>", 
        "      <td> 2148514.000000</td>", 
        "      <td> 2148514.000000</td>", 
        "    </tr>", 
        "    <tr>", 
        "      <th>mean</th>", 
        "      <td>     164.575526</td>", 
        "      <td> 3496634.304995</td>", 
        "      <td>      31.539180</td>", 
        "      <td>       4.420610</td>", 
        "      <td>       0.278577</td>", 
        "    </tr>", 
        "    <tr>", 
        "      <th>std</th>", 
        "      <td>     141.751340</td>", 
        "      <td> 1982819.323820</td>", 
        "      <td>      17.925481</td>", 
        "      <td>       6.558487</td>", 
        "      <td>       1.216187</td>", 
        "    </tr>", 
        "    <tr>", 
        "      <th>min</th>", 
        "      <td>       1.000000</td>", 
        "      <td>    1548.000000</td>", 
        "      <td>       1.000000</td>", 
        "      <td>       0.000000</td>", 
        "      <td>       0.000000</td>", 
        "    </tr>", 
        "    <tr>", 
        "      <th>25%</th>", 
        "      <td>      59.000000</td>", 
        "      <td> 1865944.000000</td>", 
        "      <td>      16.000000</td>", 
        "      <td>       1.000000</td>", 
        "      <td>       0.016384</td>", 
        "    </tr>", 
        "    <tr>", 
        "      <th>50%</th>", 
        "      <td>     110.000000</td>", 
        "      <td> 2677461.000000</td>", 
        "      <td>      32.000000</td>", 
        "      <td>       2.000000</td>", 
        "      <td>       0.055534</td>", 
        "    </tr>", 
        "    <tr>", 
        "      <th>75%</th>", 
        "      <td>     236.000000</td>", 
        "      <td> 5287170.000000</td>", 
        "      <td>      47.000000</td>", 
        "      <td>       5.000000</td>", 
        "      <td>       0.170893</td>", 
        "    </tr>", 
        "    <tr>", 
        "      <th>max</th>", 
        "      <td>     613.000000</td>", 
        "      <td> 6999722.000000</td>", 
        "      <td>      62.000000</td>", 
        "      <td>      50.000000</td>", 
        "      <td>      50.000000</td>", 
        "    </tr>", 
        "  </tbody>", 
        "</table>", 
        "</div>"
       ], 
       "output_type": "pyout", 
       "prompt_number": 110, 
       "text": [
        "               cityid       mainpoiid            days      consumecnt    consumescore", 
        "count  2148514.000000  2148514.000000  2148514.000000  2148514.000000  2148514.000000", 
        "mean       164.575526  3496634.304995       31.539180        4.420610        0.278577", 
        "std        141.751340  1982819.323820       17.925481        6.558487        1.216187", 
        "min          1.000000     1548.000000        1.000000        0.000000        0.000000", 
        "25%         59.000000  1865944.000000       16.000000        1.000000        0.016384", 
        "50%        110.000000  2677461.000000       32.000000        2.000000        0.055534", 
        "75%        236.000000  5287170.000000       47.000000        5.000000        0.170893", 
        "max        613.000000  6999722.000000       62.000000       50.000000       50.000000"
       ]
      }
     ], 
     "prompt_number": 110
    }, 
    {
     "cell_type": "code", 
     "collapsed": false, 
     "input": [
      "# \u591a\u5217\u9009\u53d6", 
      "poi_cons_info = pd.DataFrame(poi_consume, columns=['cityid', 'mainpoiid', 'consumescore'])", 
      "poi_cons_info.head(5)"
     ], 
     "language": "python", 
     "outputs": [
      {
       "html": [
        "<div style=\"max-height:1000px;max-width:1500px;overflow:auto;\">", 
        "<table border=\"1\" class=\"dataframe\">", 
        "  <thead>", 
        "    <tr style=\"text-align: right;\">", 
        "      <th></th>", 
        "      <th>cityid</th>", 
        "      <th>mainpoiid</th>", 
        "      <th>consumescore</th>", 
        "    </tr>", 
        "  </thead>", 
        "  <tbody>", 
        "    <tr>", 
        "      <th>0</th>", 
        "      <td> 1</td>", 
        "      <td> 2621</td>", 
        "      <td> 18.000000</td>", 
        "    </tr>", 
        "    <tr>", 
        "      <th>1</th>", 
        "      <td> 1</td>", 
        "      <td> 2621</td>", 
        "      <td>  2.799099</td>", 
        "    </tr>", 
        "    <tr>", 
        "      <th>6</th>", 
        "      <td> 1</td>", 
        "      <td> 2621</td>", 
        "      <td>  2.822301</td>", 
        "    </tr>", 
        "    <tr>", 
        "      <th>7</th>", 
        "      <td> 1</td>", 
        "      <td> 2621</td>", 
        "      <td>  1.218379</td>", 
        "    </tr>", 
        "    <tr>", 
        "      <th>8</th>", 
        "      <td> 1</td>", 
        "      <td> 2621</td>", 
        "      <td>  0.000000</td>", 
        "    </tr>", 
        "  </tbody>", 
        "</table>", 
        "</div>"
       ], 
       "output_type": "pyout", 
       "prompt_number": 111, 
       "text": [
        "   cityid  mainpoiid  consumescore", 
        "0       1       2621     18.000000", 
        "1       1       2621      2.799099", 
        "6       1       2621      2.822301", 
        "7       1       2621      1.218379", 
        "8       1       2621      0.000000"
       ]
      }
     ], 
     "prompt_number": 111
    }, 
    {
     "cell_type": "code", 
     "collapsed": false, 
     "input": [
      "grouped = poi_cons_info.groupby(['cityid', 'mainpoiid'], as_index=False)", 
      "poi_summary = grouped.aggregate(np.sum)", 
      "poi_summary.describe()"
     ], 
     "language": "python", 
     "outputs": [
      {
       "html": [
        "<div style=\"max-height:1000px;max-width:1500px;overflow:auto;\">", 
        "<table border=\"1\" class=\"dataframe\">", 
        "  <thead>", 
        "    <tr style=\"text-align: right;\">", 
        "      <th></th>", 
        "      <th>cityid</th>", 
        "      <th>mainpoiid</th>", 
        "      <th>consumescore</th>", 
        "    </tr>", 
        "  </thead>", 
        "  <tbody>", 
        "    <tr>", 
        "      <th>count</th>", 
        "      <td> 88280.000000</td>", 
        "      <td>   88280.000000</td>", 
        "      <td> 88280.000000</td>", 
        "    </tr>", 
        "    <tr>", 
        "      <th>mean</th>", 
        "      <td>   165.911350</td>", 
        "      <td> 3745251.939103</td>", 
        "      <td>     6.779869</td>", 
        "    </tr>", 
        "    <tr>", 
        "      <th>std</th>", 
        "      <td>   143.638486</td>", 
        "      <td> 1979086.647167</td>", 
        "      <td>    13.760354</td>", 
        "    </tr>", 
        "    <tr>", 
        "      <th>min</th>", 
        "      <td>     1.000000</td>", 
        "      <td>    1548.000000</td>", 
        "      <td>     0.000000</td>", 
        "    </tr>", 
        "    <tr>", 
        "      <th>25%</th>", 
        "      <td>    59.000000</td>", 
        "      <td> 2250081.750000</td>", 
        "      <td>     0.201334</td>", 
        "    </tr>", 
        "    <tr>", 
        "      <th>50%</th>", 
        "      <td>   110.000000</td>", 
        "      <td> 4101499.000000</td>", 
        "      <td>     1.489452</td>", 
        "    </tr>", 
        "    <tr>", 
        "      <th>75%</th>", 
        "      <td>   245.000000</td>", 
        "      <td> 5502460.750000</td>", 
        "      <td>     6.344004</td>", 
        "    </tr>", 
        "    <tr>", 
        "      <th>max</th>", 
        "      <td>   613.000000</td>", 
        "      <td> 6999722.000000</td>", 
        "      <td>   151.085259</td>", 
        "    </tr>", 
        "  </tbody>", 
        "</table>", 
        "</div>"
       ], 
       "output_type": "pyout", 
       "prompt_number": 112, 
       "text": [
        "             cityid       mainpoiid  consumescore", 
        "count  88280.000000    88280.000000  88280.000000", 
        "mean     165.911350  3745251.939103      6.779869", 
        "std      143.638486  1979086.647167     13.760354", 
        "min        1.000000     1548.000000      0.000000", 
        "25%       59.000000  2250081.750000      0.201334", 
        "50%      110.000000  4101499.000000      1.489452", 
        "75%      245.000000  5502460.750000      6.344004", 
        "max      613.000000  6999722.000000    151.085259"
       ]
      }
     ], 
     "prompt_number": 112
    }, 
    {
     "cell_type": "code", 
     "collapsed": false, 
     "input": [
      "for cityid in range(1, 620):", 
      "    tpd = poi_summary[poi_summary[\"cityid\"] == cityid]", 
      "    ", 
      "    if mean(tpd[\"consumescore\"]) is not nan :", 
      "            print(mean(tpd[\"consumescore\"]), np.std(tpd[\"consumescore\"]))", 
      "            tpd.ix[:, 'consumescore'].plot(kind='kde')"
     ], 
     "language": "python", 
     "outputs": [
      {
       "output_type": "stream", 
       "stream": "stdout", 
       "text": [
        "(1.239919801525025, 4.2718385519814124)", 
        "(0.90281429575570082, 2.4720005968123124)"
       ]
      }, 
      {
       "output_type": "stream", 
       "stream": "stdout", 
       "text": [
        "", 
        "(1.28058199749771, 3.6253461396283031)"
       ]
      }, 
      {
       "output_type": "stream", 
       "stream": "stdout", 
       "text": [
        "", 
        "(1.1260755039040935, 3.4740723445161499)"
       ]
      }, 
      {
       "output_type": "stream", 
       "stream": "stdout", 
       "text": [
        "", 
        "(1.1131242328970106, 2.6202613021554)"
       ]
      }, 
      {
       "output_type": "stream", 
       "stream": "stdout", 
       "text": [
        "", 
        "(1.2215091660516328, 3.1259021156324485)"
       ]
      }, 
      {
       "output_type": "stream", 
       "stream": "stdout", 
       "text": [
        "", 
        "(0.89325514412756557, 2.844696455642155)"
       ]
      }, 
      {
       "output_type": "stream", 
       "stream": "stdout", 
       "text": [
        "", 
        "(0.49324789936952729, 1.1416215914024697)", 
        "(1.0012326999375292, 2.3544947096095101)"
       ]
      }, 
      {
       "output_type": "stream", 
       "stream": "stdout", 
       "text": [
        "", 
        "(1.4754442290956646, 3.3082533868518404)"
       ]
      }, 
      {
       "output_type": "stream", 
       "stream": "stdout", 
       "text": [
        "", 
        "(1.4152320764545099, 4.5061413242499935)", 
        "(1.115197786133284, 3.2921135119818152)"
       ]
      }, 
      {
       "output_type": "stream", 
       "stream": "stdout", 
       "text": [
        "", 
        "(1.588022278384783, 3.4181785061085166)"
       ]
      }, 
      {
       "output_type": "stream", 
       "stream": "stdout", 
       "text": [
        "", 
        "(1.1414160816778378, 2.4168768985878382)"
       ]
      }, 
      {
       "output_type": "stream", 
       "stream": "stdout", 
       "text": [
        "", 
        "(0.63611240540419234, 1.4206023030753758)"
       ]
      }, 
      {
       "output_type": "stream", 
       "stream": "stdout", 
       "text": [
        "", 
        "(0.90060110990768671, 2.4935184646570603)"
       ]
      }, 
      {
       "output_type": "stream", 
       "stream": "stdout", 
       "text": [
        "", 
        "(0.79354724432217882, 2.695566233216701)"
       ]
      }, 
      {
       "output_type": "stream", 
       "stream": "stdout", 
       "text": [
        "", 
        "(1.1522458274076102, 5.0140570704604253)"
       ]
      }, 
      {
       "output_type": "stream", 
       "stream": "stdout", 
       "text": [
        "", 
        "(1.2519543889802138, 3.9025247558306799)"
       ]
      }, 
      {
       "output_type": "stream", 
       "stream": "stdout", 
       "text": [
        "", 
        "(0.81429246091857821, 2.1017657591161814)"
       ]
      }, 
      {
       "output_type": "stream", 
       "stream": "stdout", 
       "text": [
        "", 
        "(1.5680208376283997, 3.9978733213617148)"
       ]
      }, 
      {
       "output_type": "stream", 
       "stream": "stdout", 
       "text": [
        "", 
        "(2.3634536158063404, 5.9315092939578138)"
       ]
      }, 
      {
       "output_type": "stream", 
       "stream": "stdout", 
       "text": [
        "", 
        "(0.93525928102884615, 2.4575348035974423)", 
        "(2.5428124620769585, 6.187766172083184)"
       ]
      }, 
      {
       "output_type": "stream", 
       "stream": "stdout", 
       "text": [
        "", 
        "(2.1694335008542422, 4.7471015783848118)", 
        "(1.2411649031257015, 3.6701346578462162)", 
        "(1.3036300748208129, 3.5799546507917368)"
       ]
      }, 
      {
       "output_type": "stream", 
       "stream": "stdout", 
       "text": [
        "", 
        "(0.60014201196102757, 0.97557775018185866)", 
        "(2.0465467796414036, 3.8737607030506727)", 
        "(0.56626426005328478, 1.3639619213345415)"
       ]
      }, 
      {
       "output_type": "stream", 
       "stream": "stdout", 
       "text": [
        "", 
        "(1.6892537674696275, 3.7255439937618968)", 
        "(1.49727282587045, 3.8730091539895644)"
       ]
      }, 
      {
       "output_type": "stream", 
       "stream": "stdout", 
       "text": [
        "", 
        "(0.83688300183499953, 4.1764877205795043)", 
        "(1.6148689179395661, 3.843026000344099)"
       ]
      }, 
      {
       "output_type": "stream", 
       "stream": "stdout", 
       "text": [
        "", 
        "(0.41645475054449477, 1.0531798985244174)", 
        "(1.0141405735672564, 2.6130953615072667)", 
        "(1.0242812251137314, 1.9288217449566483)"
       ]
      }, 
      {
       "output_type": "stream", 
       "stream": "stdout", 
       "text": [
        "", 
        "(0.90206747085027661, 2.8785787071443805)", 
        "(1.562707296869146, 3.0242533833762963)", 
        "(3.4707381531447212, 9.3676963834408582)"
       ]
      }, 
      {
       "output_type": "stream", 
       "stream": "stdout", 
       "text": [
        "", 
        "(1.8686397455387878, 5.0460879766044355)", 
        "(1.7446922257312474, 3.1493414520050567)", 
        "(1.3876589900911027, 2.5801726586632836)"
       ]
      }, 
      {
       "output_type": "stream", 
       "stream": "stdout", 
       "text": [
        "", 
        "(1.0902472121702382, 2.7042727886663078)", 
        "(1.1340650761175928, 2.1073383752855936)"
       ]
      }, 
      {
       "output_type": "stream", 
       "stream": "stdout", 
       "text": [
        "", 
        "(1.2078666939659644, 2.7333555157940546)", 
        "(0.76719348939799703, 1.4400578287605115)", 
        "(0.90562213305400174, 2.0242907222558704)"
       ]
      }, 
      {
       "output_type": "stream", 
       "stream": "stdout", 
       "text": [
        "", 
        "(1.0562142253575413, 2.7330880491374834)", 
        "(1.0426394719733969, 3.2479400052073775)", 
        "(1.659235227990278, 2.6701858043148681)"
       ]
      }, 
      {
       "output_type": "stream", 
       "stream": "stdout", 
       "text": [
        "", 
        "(1.3355596627120165, 2.8480066333972229)", 
        "(1.2403290227357733, 2.4533491574978257)", 
        "(0.48352918662931793, 1.0532567490554479)"
       ]
      }, 
      {
       "output_type": "stream", 
       "stream": "stdout", 
       "text": [
        "", 
        "(1.5867979253179652, 3.3109222512118488)", 
        "(0.82480399389341863, 1.142898096465468)", 
        "(0.20428034331577943, 0.52194437885553691)", 
        "(2.2372007139807324, 5.1980680280313045)"
       ]
      }, 
      {
       "output_type": "stream", 
       "stream": "stdout", 
       "text": [
        "", 
        "(0.89422880671292271, 1.913969968343896)", 
        "(1.5121923745398513, 2.8536444480192089)", 
        "(1.320086329927783, 4.1337168772907074)"
       ]
      }, 
      {
       "output_type": "stream", 
       "stream": "stdout", 
       "text": [
        "", 
        "(2.8676345947703243, 4.9602810084296092)", 
        "(1.4353153789008546, 2.8510687728569182)"
       ]
      }, 
      {
       "output_type": "stream", 
       "stream": "stdout", 
       "text": [
        "", 
        "(0.54825995283200657, 0.93091000682915581)", 
        "(0.1887534920711792, 0.54762672259015888)", 
        "(0.71114111384636636, 1.4294730963885265)", 
        "(0.38528716121674106, 0.64102789481776445)", 
        "(1.1017688500573879, 2.0629418191777775)"
       ]
      }, 
      {
       "output_type": "stream", 
       "stream": "stdout", 
       "text": [
        "", 
        "(1.1150377463987218, 1.8089444930990555)", 
        "(1.2954580318885429, 1.4865289097724586)", 
        "(1.3643301179420055, 2.2170277669298568)", 
        "(1.9827262600102431, 3.8248335774931972)", 
        "(0.61779263645230253, 1.3461865879142878)", 
        "(2.5021791141468204, 5.8415023678874647)"
       ]
      }, 
      {
       "output_type": "stream", 
       "stream": "stdout", 
       "text": [
        "", 
        "(0.75291321050639426, 1.1816714522240515)", 
        "(0.86892363664700434, 1.9039296691648082)", 
        "(0.78646207000077706, 1.2703993615990103)", 
        "(3.669055974193502, 10.59531934772029)", 
        "(2.9010010885802058, 6.0115638426993518)"
       ]
      }, 
      {
       "output_type": "stream", 
       "stream": "stdout", 
       "text": [
        "", 
        "(1.1806124239009297, 2.3223195904521896)", 
        "(0.46852301271055191, 0.92832012013048981)", 
        "(0.902908501628088, 1.7197182635362012)", 
        "(1.2683861633365707, 2.3282106410271721)", 
        "(0.23613701443117355, 0.53076686522739214)"
       ]
      }, 
      {
       "output_type": "stream", 
       "stream": "stdout", 
       "text": [
        "", 
        "(0.68322760314120989, 1.0913383212973793)", 
        "(0.73630961425019104, 1.2697231031790654)", 
        "(0.29290467848124352, 0.42973114724502209)", 
        "(0.20292612805120921, 0.61758927721334933)", 
        "(0.055336065584175274, 0.078981790648980643)", 
        "(2.489865244000236, 7.8652114938113602)", 
        "(0.60525664912103161, 1.3755206882477276)", 
        "(0.64367803555009961, 2.0889129603405756)"
       ]
      }, 
      {
       "output_type": "stream", 
       "stream": "stdout", 
       "text": [
        "", 
        "(0.60744229799966754, 2.4523973912430956)", 
        "(0.54480369272285856, 1.0892969779245654)", 
        "(1.099121049225007, 3.3073207745034479)", 
        "(0.76756419916444352, 1.9099099807331517)", 
        "(0.86002982940041206, 1.3482889334711947)", 
        "(0.4029148179723594, 0.99306679062958936)"
       ]
      }, 
      {
       "output_type": "stream", 
       "stream": "stdout", 
       "text": [
        "", 
        "(0.99623392072447536, 2.3145146008865751)", 
        "(1.5983846939617776, 4.4293834851067118)", 
        "(1.0896265227324158, 1.7340550239000339)", 
        "(1.2045958353623731, 2.0506048782464403)", 
        "(0.44759844743858335, 0.80198497137248026)", 
        "(0.35998347837078049, 0.63033211251329679)"
       ]
      }, 
      {
       "output_type": "stream", 
       "stream": "stdout", 
       "text": [
        "", 
        "(0.90077135741999248, 1.6508791069829591)", 
        "(0.63847517666938514, 1.2795813178711497)", 
        "(0.49101018785162986, 2.1588851608033837)", 
        "(0.34408663290427582, 0.5422099197539032)", 
        "(0.053863522372957939, 0.057272556076829503)", 
        "(0.5751697743305465, 0.81875887564166361)", 
        "(0.067673927077577301, 0.098202514092455589)", 
        "(0.47343387163482259, 1.38933308076996)", 
        "(0.26470765923672457, 0.22720480962635992)", 
        "(0.28840015643662376, 0.61410205630625836)"
       ]
      }, 
      {
       "output_type": "stream", 
       "stream": "stdout", 
       "text": [
        "", 
        "(0.21491951174099433, 0.30827621837988384)", 
        "(1.2863362205748068, 1.6758328169070666)", 
        "(0.20141105959951516, 0.40529233870379094)", 
        "(0.72959797532392523, 1.7730860015678374)", 
        "(0.54067529150899862, 1.0975010150900872)", 
        "(2.0194538933605495, 3.7764142647249206)"
       ]
      }, 
      {
       "output_type": "stream", 
       "stream": "stdout", 
       "text": [
        "", 
        "(0.97635370327935733, 2.1488820140930791)", 
        "(1.4378690427700493, 3.4476700623218322)", 
        "(0.62869556668879056, 1.0041373664663591)", 
        "(1.8199921596673854, 4.3615327276159679)"
       ]
      }, 
      {
       "output_type": "stream", 
       "stream": "stdout", 
       "text": [
        "", 
        "(0.71215986130252218, 1.5033637855250974)", 
        "(2.0214724555566241, 4.2111389886069608)", 
        "(1.4372950808778961, 4.64751402170348)"
       ]
      }, 
      {
       "output_type": "stream", 
       "stream": "stdout", 
       "text": [
        "", 
        "(1.3013358836395543, 2.1772947525083239)", 
        "(0.32271719285837286, 1.1718876687326469)", 
        "(1.4262767328408106, 3.2930890489209412)"
       ]
      }, 
      {
       "output_type": "stream", 
       "stream": "stdout", 
       "text": [
        "", 
        "(0.31148419082444856, 0.58883676461426815)", 
        "(1.7358911321546717, 4.3651085355075621)", 
        "(0.94573974232233493, 1.90159290786062)", 
        "(0.28282243088848164, 0.45402587110399811)", 
        "(0.84451645361634231, 1.5069750096760739)"
       ]
      }, 
      {
       "output_type": "stream", 
       "stream": "stdout", 
       "text": [
        "", 
        "(0.46769632226776681, 0.62758598404276233)", 
        "(0.78777192907425764, 2.361610402052404)", 
        "(0.35233867788904499, 0.60302707295322799)", 
        "(0.59544442974723999, 1.1462894876848395)", 
        "(0.61814850940996291, 0.84263119527964703)"
       ]
      }, 
      {
       "output_type": "stream", 
       "stream": "stdout", 
       "text": [
        "", 
        "(1.3596247719333583, 2.3542266973693065)", 
        "(1.0967236923749379, 3.2783104263539058)", 
        "(0.5997345728921899, 0.67065505247338442)", 
        "(0.34156048314802523, 0.72157590142431549)", 
        "(0.44611956134053715, 0.71517704270993698)", 
        "(0.76937128377713626, 1.880343455735517)", 
        "(0.24614659169583197, 0.38679500149417134)"
       ]
      }, 
      {
       "output_type": "stream", 
       "stream": "stdout", 
       "text": [
        "", 
        "(0.2888421854993562, 0.69896590283139437)", 
        "(0.2497419772327894, 0.5491864954816007)", 
        "(0.23008673930973841, 0.35783027791026761)", 
        "(0.32095078365552404, 0.47707733350923992)", 
        "(0.32284272287352761, 0.46549774008875711)", 
        "(0.65789774679188084, 1.2106690541049798)"
       ]
      }, 
      {
       "output_type": "stream", 
       "stream": "stdout", 
       "text": [
        "", 
        "(0.87062657675068678, 0.91629251684274238)", 
        "(0.17523516456544974, 0.19961927113872105)", 
        "(0.3862110828740194, 0.61450763287519783)", 
        "(0.60134834025797801, 1.2740187207734153)", 
        "(0.40001653834071993, 0.65335172475921555)", 
        "(0.51366127899255254, 0.7724446606305212)", 
        "(0.25660433503472357, 0.42719871821108962)", 
        "(1.6218181783272705, 3.0356190792074402)"
       ]
      }, 
      {
       "output_type": "stream", 
       "stream": "stdout", 
       "text": [
        "", 
        "(1.6734136804121906, 2.752894783454332)", 
        "(2.0840569946904921, 4.8830309060181953)", 
        "(2.448788817410485, 4.2600217674526135)"
       ]
      }, 
      {
       "output_type": "stream", 
       "stream": "stdout", 
       "text": [
        "", 
        "(0.86608062607713143, 1.9925092625731697)", 
        "(1.0468859843390221, 2.3546907515853253)", 
        "(0.38380553849842569, 0.9277947219323267)"
       ]
      }, 
      {
       "output_type": "stream", 
       "stream": "stdout", 
       "text": [
        "", 
        "(1.0314045522888766, 2.0562440833028193)", 
        "(1.8001796033157207, 4.1635116417979878)", 
        "(0.64288045183475551, 1.2224024022148685)"
       ]
      }, 
      {
       "output_type": "stream", 
       "stream": "stdout", 
       "text": [
        "", 
        "(2.3053983430483611, 5.2217483584844988)", 
        "(1.6575998600075352, 2.948869991234853)", 
        "(0.88323946542727949, 1.4701169591955112)", 
        "(0.47721039803805759, 0.81042095827040506)", 
        "(1.5477617188451716, 4.4197468128713204)"
       ]
      }, 
      {
       "output_type": "stream", 
       "stream": "stdout", 
       "text": [
        "", 
        "(0.4290306592791322, 0.6995993579873252)", 
        "(1.2996539770202893, 3.1815646513893334)", 
        "(1.1337834605731008, 1.4906787113995694)", 
        "(1.3731158593294479, 1.6928012031721136)"
       ]
      }, 
      {
       "output_type": "stream", 
       "stream": "stdout", 
       "text": [
        "", 
        "(0.84039943387037164, 1.3255517886930555)", 
        "(1.0652728952279091, 1.3059533342897358)", 
        "(1.6277444342367058, 2.6712580407611113)", 
        "(1.2185399128149195, 2.1790275298899462)", 
        "(0.76313045058118822, 0.96104741818448514)"
       ]
      }, 
      {
       "output_type": "stream", 
       "stream": "stdout", 
       "text": [
        "", 
        "(1.1015788505767545, 1.6851995220489466)", 
        "(2.3894415315404993, 2.3309367677164938)", 
        "(1.4064035146658418, 1.3283841500407911)", 
        "(1.6251660011171589, 1.9197923288905532)", 
        "(0.70607918271134373, 1.0931346637393033)", 
        "(0.52658791695416307, 0.79981970096182298)", 
        "(0.93942753407319923, 3.2598354413436295)", 
        "(0.91313422859359827, 2.1068441982306108)"
       ]
      }, 
      {
       "output_type": "stream", 
       "stream": "stdout", 
       "text": [
        "", 
        "(0.75575561471793229, 1.000275176652011)", 
        "(0.86380624108603499, 2.1229169848774148)", 
        "(0.61446933929517067, 1.0410596627275444)", 
        "(0.58062794115542937, 0.99509616628485298)", 
        "(0.88748303265262352, 1.7922831739206628)"
       ]
      }, 
      {
       "output_type": "stream", 
       "stream": "stdout", 
       "text": [
        "", 
        "(0.56435477221652464, 1.1359595572647632)", 
        "(1.0411315663720866, 1.9357653089687561)", 
        "(0.3232846136051008, 0.69805396205142678)", 
        "(0.7271344888821486, 1.376574205069532)", 
        "(0.73819535363931399, 2.290850536714478)"
       ]
      }, 
      {
       "output_type": "stream", 
       "stream": "stdout", 
       "text": [
        "", 
        "(1.0271977741273079, 2.4588851094807267)", 
        "(0.88423605740472999, 0.90040598589407761)", 
        "(1.4371444203248711, 3.4900943565792573)", 
        "(0.41940423990016507, 0.66146001054635573)", 
        "(0.36861628257409634, 0.88720428213382019)"
       ]
      }, 
      {
       "output_type": "stream", 
       "stream": "stdout", 
       "text": [
        "", 
        "(0.66014833038423026, 1.4004778138108593)", 
        "(0.5451249694871293, 1.0007925311717349)", 
        "(0.39611092194038944, 0.39875198633845765)", 
        "(1.2775369834624313, 1.2654934118586407)", 
        "(0.79321183501347892, 1.1825390522675279)", 
        "(0.42273930598533438, 1.0628969423918324)"
       ]
      }, 
      {
       "output_type": "stream", 
       "stream": "stdout", 
       "text": [
        "", 
        "(0.75695651500501848, 1.6533222546723927)", 
        "(1.0635461043857053, 2.1695903653988728)", 
        "(0.39237052069718131, 0.59423191404970988)", 
        "(0.80991548441393135, 0.96534043687175264)"
       ]
      }, 
      {
       "output_type": "stream", 
       "stream": "stdout", 
       "text": [
        "", 
        "(0.57603753797716883, 1.6500283768383577)", 
        "(1.6243008445323968, 3.520722862011294)", 
        "(0.41981929948731395, 0.55241880097941665)", 
        "(0.42520675350401033, 0.4269358555291009)", 
        "(0.30558258439352259, 0.50415968068058048)", 
        "(0.39912951456816687, 0.99062821446661664)"
       ]
      }, 
      {
       "output_type": "stream", 
       "stream": "stdout", 
       "text": [
        "", 
        "(0.5252772341560491, 1.1787837461230264)", 
        "(0.44704863523539207, 0.57492649441636456)", 
        "(0.66734114941185885, 1.0756016110065201)", 
        "(2.5826037906044292, 2.4547574036862647)", 
        "(1.5805051675866404, 3.6337938941251018)", 
        "(0.68272183476656434, 1.2237734931080204)", 
        "(0.49213151087553808, 1.1675077196791843)"
       ]
      }, 
      {
       "output_type": "stream", 
       "stream": "stdout", 
       "text": [
        "", 
        "(0.45364228458558054, 0.50972587953833404)", 
        "(0.74749653141826089, 1.7362432989405865)", 
        "(2.179151451800097, 2.4542159855198782)", 
        "(0.72123692886167223, 0.95243122431941107)", 
        "(0.56084357422058306, 0.56997322217899637)", 
        "(0.57828259189982056, 1.3418540238644938)", 
        "(0.5046221078089197, 0.62487822878198118)"
       ]
      }, 
      {
       "output_type": "stream", 
       "stream": "stdout", 
       "text": [
        "", 
        "(0.89153784127541125, 1.3476087398735064)", 
        "(0.35964694762499094, 0.49820809266946181)", 
        "(0.53656847759507753, 0.85683653291478235)", 
        "(0.55997959822718979, 0.69643133279382774)", 
        "(0.35642157320958445, 0.47825145989013607)", 
        "(0.40128209537890669, 0.62123228131769692)", 
        "(0.55460678797629615, 1.2026810127256682)", 
        "(0.19549151327523925, 0.24546646604862626)", 
        "(0.30223339986008668, 0.36026668819447033)"
       ]
      }, 
      {
       "output_type": "stream", 
       "stream": "stdout", 
       "text": [
        "", 
        "(0.38314948654967868, 0.51422413676722578)", 
        "(0.31529490272120164, 0.67199877790248297)", 
        "(0.26372962886346857, 0.41934662533475414)", 
        "(0.55437465071299641, 0.62263206465704324)", 
        "(0.6588924354392266, 0.92793893512332548)", 
        "(0.53669866423857038, 0.43734564082944438)", 
        "(0.47072945763554019, 0.63536445712251877)", 
        "(0.13229870611124786, 0.23842486416338041)", 
        "(0.27888446857174842, 0.40533714498275603)"
       ]
      }, 
      {
       "output_type": "stream", 
       "stream": "stdout", 
       "text": [
        "", 
        "(1.2382109728370125, 1.4925961512805965)", 
        "(0.19915887120646822, 0.60322490100916126)", 
        "(0.056120190520297084, 0.083662095736487974)", 
        "(0.3217447715495656, 0.37482551683332638)", 
        "(1.4410390013027881, 2.6525494974114538)", 
        "(0.94740342188486004, 2.1073470865156625)", 
        "(0.68624860181954705, 0.6452955030199049)"
       ]
      }, 
      {
       "output_type": "stream", 
       "stream": "stdout", 
       "text": [
        "", 
        "(0.62465910022830073, 0.94682751298895651)", 
        "(0.34840603691915639, 0.24567392922011455)", 
        "(0.52425604904001144, 0.6822753694506225)", 
        "(0.63873417261959131, 1.24748707130823)", 
        "(0.11825498740628521, 0.23652287130106803)", 
        "(1.374665001758113, 1.5514794330227799)", 
        "(0.55649238257197742, 0.8676885315222409)", 
        "(0.20504223316335404, 0.36393388609926203)", 
        "(0.44529875047791867, 1.0582455060142124)"
       ]
      }, 
      {
       "output_type": "stream", 
       "stream": "stdout", 
       "text": [
        "", 
        "(0.46095543833794111, 1.5308808100895761)", 
        "(0.5275173158143176, 0.70645539635678323)", 
        "(0.92695909873226812, 1.0735975959755943)", 
        "(0.41009515581723743, 0.53494795186216193)"
       ]
      }, 
      {
       "ename": "ValueError", 
       "evalue": "`dataset` input should have multiple elements.", 
       "output_type": "pyerr", 
       "traceback": [
        "\u001b[0;31m---------------------------------------------------------------------------\u001b[0m\n\u001b[0;31mValueError\u001b[0m                                Traceback (most recent call last)", 
        "\u001b[0;32m/Users/ytjia/Workspace/learning/python/<ipython-input-58-3b07a0d0b2d2>\u001b[0m in \u001b[0;36m<module>\u001b[0;34m()\u001b[0m\n\u001b[1;32m      4\u001b[0m     \u001b[0;32mif\u001b[0m \u001b[0mmean\u001b[0m\u001b[0;34m(\u001b[0m\u001b[0mtpd\u001b[0m\u001b[0;34m[\u001b[0m\u001b[0;34m\"consumescore\"\u001b[0m\u001b[0;34m]\u001b[0m\u001b[0;34m)\u001b[0m \u001b[0;32mis\u001b[0m \u001b[0;32mnot\u001b[0m \u001b[0mnan\u001b[0m \u001b[0;34m:\u001b[0m\u001b[0;34m\u001b[0m\u001b[0m\n\u001b[1;32m      5\u001b[0m             \u001b[0;32mprint\u001b[0m\u001b[0;34m(\u001b[0m\u001b[0mmean\u001b[0m\u001b[0;34m(\u001b[0m\u001b[0mtpd\u001b[0m\u001b[0;34m[\u001b[0m\u001b[0;34m\"consumescore\"\u001b[0m\u001b[0;34m]\u001b[0m\u001b[0;34m)\u001b[0m\u001b[0;34m,\u001b[0m \u001b[0mnp\u001b[0m\u001b[0;34m.\u001b[0m\u001b[0mstd\u001b[0m\u001b[0;34m(\u001b[0m\u001b[0mtpd\u001b[0m\u001b[0;34m[\u001b[0m\u001b[0;34m\"consumescore\"\u001b[0m\u001b[0;34m]\u001b[0m\u001b[0;34m)\u001b[0m\u001b[0;34m)\u001b[0m\u001b[0;34m\u001b[0m\u001b[0m\n\u001b[0;32m----> 6\u001b[0;31m             \u001b[0;34m(\u001b[0m\u001b[0mtpd\u001b[0m\u001b[0;34m.\u001b[0m\u001b[0mix\u001b[0m\u001b[0;34m[\u001b[0m\u001b[0;34m:\u001b[0m\u001b[0;34m,\u001b[0m \u001b[0;34m'consumescore'\u001b[0m\u001b[0;34m]\u001b[0m \u001b[0;34m*\u001b[0m \u001b[0;36m100\u001b[0m\u001b[0;34m)\u001b[0m\u001b[0;34m.\u001b[0m\u001b[0mplot\u001b[0m\u001b[0;34m(\u001b[0m\u001b[0mkind\u001b[0m\u001b[0;34m=\u001b[0m\u001b[0;34m'kde'\u001b[0m\u001b[0;34m)\u001b[0m\u001b[0;34m\u001b[0m\u001b[0m\n\u001b[0m", 
        "\u001b[0;32m/Library/Python/2.7/site-packages/pandas-0.12.0-py2.7-macosx-10.9-intel.egg/pandas/tools/plotting.pyc\u001b[0m in \u001b[0;36mplot_series\u001b[0;34m(series, label, kind, use_index, rot, xticks, yticks, xlim, ylim, ax, style, grid, legend, logx, logy, secondary_y, **kwds)\u001b[0m\n\u001b[1;32m   1728\u001b[0m                      secondary_y=secondary_y, **kwds)\n\u001b[1;32m   1729\u001b[0m \u001b[0;34m\u001b[0m\u001b[0m\n\u001b[0;32m-> 1730\u001b[0;31m     \u001b[0mplot_obj\u001b[0m\u001b[0;34m.\u001b[0m\u001b[0mgenerate\u001b[0m\u001b[0;34m(\u001b[0m\u001b[0;34m)\u001b[0m\u001b[0;34m\u001b[0m\u001b[0m\n\u001b[0m\u001b[1;32m   1731\u001b[0m     \u001b[0mplot_obj\u001b[0m\u001b[0;34m.\u001b[0m\u001b[0mdraw\u001b[0m\u001b[0;34m(\u001b[0m\u001b[0;34m)\u001b[0m\u001b[0;34m\u001b[0m\u001b[0m\n\u001b[1;32m   1732\u001b[0m \u001b[0;34m\u001b[0m\u001b[0m\n", 
        "\u001b[0;32m/Library/Python/2.7/site-packages/pandas-0.12.0-py2.7-macosx-10.9-intel.egg/pandas/tools/plotting.pyc\u001b[0m in \u001b[0;36mgenerate\u001b[0;34m(self)\u001b[0m\n\u001b[1;32m    854\u001b[0m         \u001b[0mself\u001b[0m\u001b[0;34m.\u001b[0m\u001b[0m_compute_plot_data\u001b[0m\u001b[0;34m(\u001b[0m\u001b[0;34m)\u001b[0m\u001b[0;34m\u001b[0m\u001b[0m\n\u001b[1;32m    855\u001b[0m         \u001b[0mself\u001b[0m\u001b[0;34m.\u001b[0m\u001b[0m_setup_subplots\u001b[0m\u001b[0;34m(\u001b[0m\u001b[0;34m)\u001b[0m\u001b[0;34m\u001b[0m\u001b[0m\n\u001b[0;32m--> 856\u001b[0;31m         \u001b[0mself\u001b[0m\u001b[0;34m.\u001b[0m\u001b[0m_make_plot\u001b[0m\u001b[0;34m(\u001b[0m\u001b[0;34m)\u001b[0m\u001b[0;34m\u001b[0m\u001b[0m\n\u001b[0m\u001b[1;32m    857\u001b[0m         \u001b[0mself\u001b[0m\u001b[0;34m.\u001b[0m\u001b[0m_post_plot_logic\u001b[0m\u001b[0;34m(\u001b[0m\u001b[0;34m)\u001b[0m\u001b[0;34m\u001b[0m\u001b[0m\n\u001b[1;32m    858\u001b[0m         \u001b[0mself\u001b[0m\u001b[0;34m.\u001b[0m\u001b[0m_adorn_subplots\u001b[0m\u001b[0;34m(\u001b[0m\u001b[0;34m)\u001b[0m\u001b[0;34m\u001b[0m\u001b[0m\n", 
        "\u001b[0;32m/Library/Python/2.7/site-packages/pandas-0.12.0-py2.7-macosx-10.9-intel.egg/pandas/tools/plotting.pyc\u001b[0m in \u001b[0;36m_make_plot\u001b[0;34m(self)\u001b[0m\n\u001b[1;32m   1154\u001b[0m             \u001b[0mlabel\u001b[0m \u001b[0;34m=\u001b[0m \u001b[0mcom\u001b[0m\u001b[0;34m.\u001b[0m\u001b[0mpprint_thing\u001b[0m\u001b[0;34m(\u001b[0m\u001b[0mlabel\u001b[0m\u001b[0;34m)\u001b[0m\u001b[0;34m\u001b[0m\u001b[0m\n\u001b[1;32m   1155\u001b[0m \u001b[0;34m\u001b[0m\u001b[0m\n\u001b[0;32m-> 1156\u001b[0;31m             \u001b[0mgkde\u001b[0m \u001b[0;34m=\u001b[0m \u001b[0mgaussian_kde\u001b[0m\u001b[0;34m(\u001b[0m\u001b[0my\u001b[0m\u001b[0;34m)\u001b[0m\u001b[0;34m\u001b[0m\u001b[0m\n\u001b[0m\u001b[1;32m   1157\u001b[0m             \u001b[0msample_range\u001b[0m \u001b[0;34m=\u001b[0m \u001b[0mmax\u001b[0m\u001b[0;34m(\u001b[0m\u001b[0my\u001b[0m\u001b[0;34m)\u001b[0m \u001b[0;34m-\u001b[0m \u001b[0mmin\u001b[0m\u001b[0;34m(\u001b[0m\u001b[0my\u001b[0m\u001b[0;34m)\u001b[0m\u001b[0;34m\u001b[0m\u001b[0m\n\u001b[1;32m   1158\u001b[0m             ind = np.linspace(min(y) - 0.5 * sample_range,\n", 
        "\u001b[0;32m/System/Library/Frameworks/Python.framework/Versions/2.7/Extras/lib/python/scipy/stats/kde.pyc\u001b[0m in \u001b[0;36m__init__\u001b[0;34m(self, dataset, bw_method)\u001b[0m\n\u001b[1;32m    183\u001b[0m         \u001b[0mself\u001b[0m\u001b[0;34m.\u001b[0m\u001b[0mdataset\u001b[0m \u001b[0;34m=\u001b[0m \u001b[0matleast_2d\u001b[0m\u001b[0;34m(\u001b[0m\u001b[0mdataset\u001b[0m\u001b[0;34m)\u001b[0m\u001b[0;34m\u001b[0m\u001b[0m\n\u001b[1;32m    184\u001b[0m         \u001b[0;32mif\u001b[0m \u001b[0;32mnot\u001b[0m \u001b[0mself\u001b[0m\u001b[0;34m.\u001b[0m\u001b[0mdataset\u001b[0m\u001b[0;34m.\u001b[0m\u001b[0msize\u001b[0m \u001b[0;34m>\u001b[0m \u001b[0;36m1\u001b[0m\u001b[0;34m:\u001b[0m\u001b[0;34m\u001b[0m\u001b[0m\n\u001b[0;32m--> 185\u001b[0;31m             \u001b[0;32mraise\u001b[0m \u001b[0mValueError\u001b[0m\u001b[0;34m(\u001b[0m\u001b[0;34m\"`dataset` input should have multiple elements.\"\u001b[0m\u001b[0;34m)\u001b[0m\u001b[0;34m\u001b[0m\u001b[0m\n\u001b[0m\u001b[1;32m    186\u001b[0m \u001b[0;34m\u001b[0m\u001b[0m\n\u001b[1;32m    187\u001b[0m         \u001b[0mself\u001b[0m\u001b[0;34m.\u001b[0m\u001b[0md\u001b[0m\u001b[0;34m,\u001b[0m \u001b[0mself\u001b[0m\u001b[0;34m.\u001b[0m\u001b[0mn\u001b[0m \u001b[0;34m=\u001b[0m \u001b[0mself\u001b[0m\u001b[0;34m.\u001b[0m\u001b[0mdataset\u001b[0m\u001b[0;34m.\u001b[0m\u001b[0mshape\u001b[0m\u001b[0;34m\u001b[0m\u001b[0m\n", 
        "\u001b[0;31mValueError\u001b[0m: `dataset` input should have multiple elements."
       ]
      }, 
      {
       "output_type": "stream", 
       "stream": "stdout", 
       "text": [
        "", 
        "(0.4562694300855572, 0.74035290129539866)", 
        "(0.45350173187460041, 0.94232707848013697)", 
        "(0.30290558047664956, 0.77944003006526708)", 
        "(0.20050478778879677, 0.22000886654866603)", 
        "(0.10326185718889654, 0.0)"
       ]
      }, 
      {
       "output_type": "display_data", 
       "png": "[encoded data removed]"
      }
     ], 
     "prompt_number": 58
    }, 
    {
     "cell_type": "code", 
     "collapsed": false, 
     "input": [
      "mean = 0", 
      "variance = 1", 
      "sigma = np.sqrt(variance)", 
      "x = np.linspace(-10,10,100)", 
      "plt.plot(x,mlab.normpdf(x,mean,sigma))", 
      "", 
      "plt.show()"
     ], 
     "language": "python", 
     "outputs": [
      {
       "output_type": "display_data", 
       "png": "[encoded data removed]"
      }
     ], 
     "prompt_number": 64
    }, 
    {
     "cell_type": "markdown", 
     "source": [
      "## POI Eval Score"
     ]
    }, 
    {
     "cell_type": "code", 
     "collapsed": false, 
     "input": [
      "import pandas as pd", 
      "import numpy as np", 
      "", 
      "eval_file_path = '/Users/ytjia/Downloads/Hotel/sort_data/poi_eval_score' ", 
      "", 
      "eval_score = pd.read_table(eval_file_path, sep = '\\t')", 
      "#price_file = price_file[price_file.dealid > 0]", 
      "eval_score.describe()"
     ], 
     "language": "python", 
     "outputs": [
      {
       "html": [
        "<div style=\"max-height:1000px;max-width:1500px;overflow:auto;\">", 
        "<table border=\"1\" class=\"dataframe\">", 
        "  <thead>", 
        "    <tr style=\"text-align: right;\">", 
        "      <th></th>", 
        "      <th>cityid</th>", 
        "      <th>poiid</th>", 
        "      <th>fbcount</th>", 
        "      <th>avgscore</th>", 
        "    </tr>", 
        "  </thead>", 
        "  <tbody>", 
        "    <tr>", 
        "      <th>count</th>", 
        "      <td> 99488.000000</td>", 
        "      <td>   99488.000000</td>", 
        "      <td> 99488.000000</td>", 
        "      <td> 99488.000000</td>", 
        "    </tr>", 
        "    <tr>", 
        "      <th>mean</th>", 
        "      <td>   165.663025</td>", 
        "      <td> 3725692.470449</td>", 
        "      <td>    95.944405</td>", 
        "      <td>    41.271128</td>", 
        "    </tr>", 
        "    <tr>", 
        "      <th>std</th>", 
        "      <td>   144.368349</td>", 
        "      <td> 1983072.919668</td>", 
        "      <td>   233.898864</td>", 
        "      <td>    10.240397</td>", 
        "    </tr>", 
        "    <tr>", 
        "      <th>min</th>", 
        "      <td>     0.000000</td>", 
        "      <td>    1548.000000</td>", 
        "      <td>     0.000000</td>", 
        "      <td>     0.000000</td>", 
        "    </tr>", 
        "    <tr>", 
        "      <th>25%</th>", 
        "      <td>    59.000000</td>", 
        "      <td> 2243131.250000</td>", 
        "      <td>     5.000000</td>", 
        "      <td>    40.000000</td>", 
        "    </tr>", 
        "    <tr>", 
        "      <th>50%</th>", 
        "      <td>   108.000000</td>", 
        "      <td> 4068622.000000</td>", 
        "      <td>    22.000000</td>", 
        "      <td>    44.000000</td>", 
        "    </tr>", 
        "    <tr>", 
        "      <th>75%</th>", 
        "      <td>   246.000000</td>", 
        "      <td> 5492436.500000</td>", 
        "      <td>    87.000000</td>", 
        "      <td>    46.000000</td>", 
        "    </tr>", 
        "    <tr>", 
        "      <th>max</th>", 
        "      <td>   620.000000</td>", 
        "      <td> 6999722.000000</td>", 
        "      <td> 20662.000000</td>", 
        "      <td>    50.000000</td>", 
        "    </tr>", 
        "  </tbody>", 
        "</table>", 
        "</div>"
       ], 
       "output_type": "pyout", 
       "prompt_number": 1, 
       "text": [
        "             cityid           poiid       fbcount      avgscore", 
        "count  99488.000000    99488.000000  99488.000000  99488.000000", 
        "mean     165.663025  3725692.470449     95.944405     41.271128", 
        "std      144.368349  1983072.919668    233.898864     10.240397", 
        "min        0.000000     1548.000000      0.000000      0.000000", 
        "25%       59.000000  2243131.250000      5.000000     40.000000", 
        "50%      108.000000  4068622.000000     22.000000     44.000000", 
        "75%      246.000000  5492436.500000     87.000000     46.000000", 
        "max      620.000000  6999722.000000  20662.000000     50.000000"
       ]
      }
     ], 
     "prompt_number": 1
    }, 
    {
     "cell_type": "code", 
     "collapsed": false, 
     "input": [
      "for cityid in range(1, 20):", 
      "    tpd = eval_score[eval_score[\"cityid\"] == cityid]", 
      "    tpd = tpd[tpd[\"fbcount\"] > 0] ", 
      "    tpd[\"basescore\"] = tpd[\"avgscore\"] * log10(tpd[\"fbcount\"] + 1)", 
      "    u = np.mean(tpd[\"basescore\"])", 
      "    o = np.std(tpd[\"basescore\"])", 
      "    tpd[\"mapscore\"] = (tpd[\"basescore\"] - u) / o", 
      "    norm_u = np.mean(tpd[\"mapscore\"])", 
      "    norm_o = np.std(tpd[\"mapscore\"])", 
      "    tpd = tpd[tpd[\"mapscore\"] > -2*norm_o]", 
      "    tpd = tpd[tpd[\"mapscore\"] < 2*norm_o]", 
      "    max = np.max(tpd[\"mapscore\"])", 
      "    min = np.min(tpd[\"mapscore\"])", 
      "    #tpd = tpd[tpd[\"mapscore\"]<norm_u]", 
      "    tpd[\"final\"] = (tpd[\"mapscore\"] - min) * 60 / (max - min) + 20", 
      "    ", 
      "    if np.mean(tpd[\"basescore\"]) is not nan and size(tpd) > 2:", 
      "        print(np.mean(tpd[\"mapscore\"]), np.std(tpd[\"mapscore\"]))", 
      "        (tpd.ix[:, 'final']).plot(kind='kde')"
     ], 
     "language": "python", 
     "outputs": [
      {
       "output_type": "stream", 
       "stream": "stdout", 
       "text": [
        "(-0.065755936168268483, 0.93139302917807054)", 
        "(-0.056353054480750106, 0.94210612680177985)"
       ]
      }, 
      {
       "output_type": "stream", 
       "stream": "stdout", 
       "text": [
        ""
       ]
      }, 
      {
       "output_type": "display_data", 
       "png": "[encoded data removed]"
      }
     ], 
     "prompt_number": 73
    }, 
    {
     "cell_type": "code", 
     "collapsed": false, 
     "input": [
      "for cityid in range(1, 100):", 
      "    tpd = eval_score[eval_score[\"cityid\"] == cityid]", 
      "    tpd = tpd[tpd[\"fbcount\"] > 0] ", 
      "    u = np.mean(tpd[\"avgscore\"])", 
      "    o = np.std(tpd[\"avgscore\"])", 
      "    #tpd[\"mapscore\"] = (tpd[\"avgscore\"] - u) / o", 
      "    max = np.max(tpd[\"avgscore\"])", 
      "    min = np.min(tpd[\"avgscore\"])", 
      "    #tpd = tpd[tpd[\"mapscore\"] > -()]", 
      "    #tpd = tpd[tpd[\"mapscore\"] < 0.5*o]", 
      "    #print(np.max(tpd[\"mapscore\"]))", 
      "    #print(np.min(tpd[\"mapscore\"]))", 
      "    #tpd[tpd[\"final\"] < 20][\"end\"] = (tpd[tpd[\"final\"] < 20][\"final\"] - min) * 20 / (20 - min)", 
      "    #tpd[tpd[\"final\"] > 80][\"end\"] = (tpd[tpd[\"final\"]  20][\"final\"] - min) * 20 / (20 - min)", 
      "    tpd = tpd[tpd[\"avgscore\"] <= u]", 
      "    #tpd[\"tt\"] = (tpd[\"avgscore\"] - u) * 50 / (max - u) + 50 ", 
      "    tpd[\"tt\"] = (tpd[\"avgscore\"] - min) * 50 / (u - min)", 
      "    if np.mean(tpd[\"avgscore\"]) is not nan and size(tpd) > 2:", 
      "        #print(np.max(tpd[\"mapscore\"]))", 
      "        #print(np.min(tpd[\"mapscore\"]))", 
      "        print(np.mean(tpd[\"avgscore\"]), np.std(tpd[\"avgscore\"]))", 
      "        (tpd.ix[:, 'tt']).plot(kind='kde')"
     ], 
     "language": "python", 
     "outputs": [
      {
       "output_type": "stream", 
       "stream": "stdout", 
       "text": [
        "(35.028085106382981, 6.7420606226557611)", 
        "(37.203030303030303, 6.0248803088904159)"
       ]
      }, 
      {
       "output_type": "stream", 
       "stream": "stdout", 
       "text": [
        "", 
        "(35.691289966923925, 6.5404821301453469)"
       ]
      }, 
      {
       "output_type": "stream", 
       "stream": "stdout", 
       "text": [
        "", 
        "(36.256952169076754, 6.1194672906193528)"
       ]
      }, 
      {
       "output_type": "stream", 
       "stream": "stdout", 
       "text": [
        "", 
        "(37.463529411764704, 7.274077213499897)"
       ]
      }, 
      {
       "output_type": "stream", 
       "stream": "stdout", 
       "text": [
        "", 
        "(38.049872122762146, 5.5586911497424722)", 
        "(36.261538461538464, 5.6269322782405533)"
       ]
      }, 
      {
       "output_type": "stream", 
       "stream": "stdout", 
       "text": [
        "", 
        "(36.435000000000002, 6.1945493513787273)", 
        "(37.6348167539267, 5.7512932616134753)"
       ]
      }, 
      {
       "output_type": "stream", 
       "stream": "stdout", 
       "text": [
        "", 
        "(38.971631205673759, 5.88957880276)", 
        "(38.591549295774648, 6.3761088656287335)"
       ]
      }, 
      {
       "output_type": "stream", 
       "stream": "stdout", 
       "text": [
        "", 
        "(36.88697318007663, 6.6491625690016356)", 
        "(36.869565217391305, 6.6665539074469011)", 
        "(36.116005873715125, 6.3015085176182968)"
       ]
      }, 
      {
       "output_type": "stream", 
       "stream": "stdout", 
       "text": [
        "", 
        "(36.653409090909093, 6.8113616457363566)", 
        "(36.398058252427184, 6.7980672188839302)"
       ]
      }, 
      {
       "output_type": "stream", 
       "stream": "stdout", 
       "text": [
        "", 
        "(38.20179948586118, 6.3597502700239144)", 
        "(37.607438016528924, 7.064550839240078)"
       ]
      }, 
      {
       "output_type": "stream", 
       "stream": "stdout", 
       "text": [
        "", 
        "(38.538135593220339, 6.9186118365121736)", 
        "(35.785714285714285, 6.9482916574744067)"
       ]
      }, 
      {
       "output_type": "stream", 
       "stream": "stdout", 
       "text": [
        "", 
        "(37.33925049309665, 6.0369749787340208)", 
        "(37.855018587360597, 6.954805170706063)"
       ]
      }, 
      {
       "output_type": "stream", 
       "stream": "stdout", 
       "text": [
        "", 
        "(34.798586572438161, 7.9061454458800418)", 
        "(38.678899082568805, 5.8023733422333095)", 
        "(40.580152671755727, 5.140698557208017)"
       ]
      }, 
      {
       "output_type": "stream", 
       "stream": "stdout", 
       "text": [
        "", 
        "(35.256281407035175, 7.0067912670857089)", 
        "(36.484848484848484, 8.7943549804688743)", 
        "(37.0, 5.3404119691274756)", 
        "(40.514056224899598, 5.1718269876720715)", 
        "(37.755555555555553, 7.1029119398097151)"
       ]
      }, 
      {
       "output_type": "stream", 
       "stream": "stdout", 
       "text": [
        "", 
        "(38.257053291536053, 5.1048325589425865)", 
        "(36.296774193548387, 6.5017855548014163)", 
        "(36.491999999999997, 6.3782392554685483)", 
        "(36.702702702702702, 5.3306771447466534)"
       ]
      }, 
      {
       "output_type": "stream", 
       "stream": "stdout", 
       "text": [
        "", 
        "(40.640449438202246, 6.2929373485013036)", 
        "(38.417204301075266, 6.5393864375617436)", 
        "(39.148936170212764, 5.983945625692531)"
       ]
      }, 
      {
       "output_type": "stream", 
       "stream": "stdout", 
       "text": [
        "", 
        "(39.319587628865982, 5.6084369282718747)", 
        "(39.125850340136054, 3.5110823269831828)"
       ]
      }, 
      {
       "output_type": "display_data", 
       "png": "[encoded data removed]"
      }
     ], 
     "prompt_number": 40
    }, 
    {
     "cell_type": "code", 
     "collapsed": true, 
     "input": [], 
     "language": "python", 
     "outputs": []
    }
   ]
  }
 ]
}