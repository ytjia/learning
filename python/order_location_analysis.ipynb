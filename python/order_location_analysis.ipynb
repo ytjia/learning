{
 "metadata": {
  "name": "order_location_analysis"
 }, 
 "nbformat": 2, 
 "worksheets": [
  {
   "cells": [
    {
     "cell_type": "markdown", 
     "source": [
      "#\u9152\u5e97\u7528\u6237\u4e0b\u5355\u4f4d\u7f6e\u4e0ePOI\u8ddd\u79bb\u5206\u6790"
     ]
    }, 
    {
     "cell_type": "code", 
     "collapsed": true, 
     "input": [
      "import pandas as pd"
     ], 
     "language": "python", 
     "outputs": [], 
     "prompt_number": 1
    }, 
    {
     "cell_type": "code", 
     "collapsed": false, 
     "input": [
      "file_path = '/Users/ytjia/Downloads/order_loc_total'", 
      "oloc = pd.read_table(file_path, sep = '\\t')", 
      "oloc.head(5)"
     ], 
     "language": "python", 
     "outputs": [
      {
       "html": [
        "<div style=\"max-height:1000px;max-width:1500px;overflow:auto;\">", 
        "<table border=\"1\" class=\"dataframe\">", 
        "  <thead>", 
        "    <tr style=\"text-align: right;\">", 
        "      <th></th>", 
        "      <th>coupon_id</th>", 
        "      <th>distance</th>", 
        "      <th>name</th>", 
        "    </tr>", 
        "  </thead>", 
        "  <tbody>", 
        "    <tr>", 
        "      <th>0</th>", 
        "      <td> 678841146</td>", 
        "      <td>  862.514343</td>", 
        "      <td> \u6df1\u5733</td>", 
        "    </tr>", 
        "    <tr>", 
        "      <th>1</th>", 
        "      <td> 678841146</td>", 
        "      <td>  873.874512</td>", 
        "      <td> \u6df1\u5733</td>", 
        "    </tr>", 
        "    <tr>", 
        "      <th>2</th>", 
        "      <td> 695018891</td>", 
        "      <td>  777.167908</td>", 
        "      <td> \u8944\u9633</td>", 
        "    </tr>", 
        "    <tr>", 
        "      <th>3</th>", 
        "      <td> 688379381</td>", 
        "      <td>   37.477951</td>", 
        "      <td> \u5929\u6d25</td>", 
        "    </tr>", 
        "    <tr>", 
        "      <th>4</th>", 
        "      <td> 698555161</td>", 
        "      <td> 3859.498535</td>", 
        "      <td> \u592a\u539f</td>", 
        "    </tr>", 
        "  </tbody>", 
        "</table>", 
        "</div>"
       ], 
       "output_type": "pyout", 
       "prompt_number": 2, 
       "text": [
        "   coupon_id     distance name", 
        "0  678841146   862.514343   \u6df1\u5733", 
        "1  678841146   873.874512   \u6df1\u5733", 
        "2  695018891   777.167908   \u8944\u9633", 
        "3  688379381    37.477951   \u5929\u6d25", 
        "4  698555161  3859.498535   \u592a\u539f"
       ]
      }
     ], 
     "prompt_number": 2
    }, 
    {
     "cell_type": "code", 
     "collapsed": false, 
     "input": [
      "oloc.ix[:,1].hist()"
     ], 
     "language": "python", 
     "outputs": [
      {
       "output_type": "pyout", 
       "prompt_number": 3, 
       "text": [
        "<matplotlib.axes.AxesSubplot at 0x6adcf10>"
       ]
      }, 
      {
       "output_type": "display_data", 
       "png": "[encoded data removed]"
      }
     ], 
     "prompt_number": 3
    }, 
    {
     "cell_type": "code", 
     "collapsed": false, 
     "input": [
      "oloc_filt = oloc[oloc.distance <= 1000000]", 
      "oloc_filt.ix[:,1].hist()"
     ], 
     "language": "python", 
     "outputs": [
      {
       "output_type": "pyout", 
       "prompt_number": 4, 
       "text": [
        "<matplotlib.axes.AxesSubplot at 0x6aeb330>"
       ]
      }, 
      {
       "output_type": "display_data", 
       "png": "[encoded data removed]"
      }
     ], 
     "prompt_number": 4
    }, 
    {
     "cell_type": "code", 
     "collapsed": false, 
     "input": [
      "oloc.ix[:, 1].describe()"
     ], 
     "language": "python", 
     "outputs": [
      {
       "output_type": "pyout", 
       "prompt_number": 5, 
       "text": [
        "count     225207.000000", 
        "mean       74418.486197", 
        "std       249984.794764", 
        "min            0.379741", 
        "25%          205.938370", 
        "50%          783.265015", 
        "75%         5403.328613", 
        "max      7359680.000000", 
        "dtype: float64"
       ]
      }
     ], 
     "prompt_number": 5
    }, 
    {
     "cell_type": "code", 
     "collapsed": false, 
     "input": [
      "oloc_filt_1000 = oloc[oloc.distance <= 10000]", 
      "#oloc_filt_1000.ix[:, 1].hist()", 
      "oloc_filt_1000.ix[:, 1].plot(kind='kde')", 
      "#test = oloc_filt_1000.ix[:, 1]", 
      "#test.hist(bins=10, color='b')", 
      "#test.plot(kind='kde', style = 'b--')"
     ], 
     "language": "python", 
     "outputs": [
      {
       "output_type": "pyout", 
       "prompt_number": 6, 
       "text": [
        "<matplotlib.axes.AxesSubplot at 0x69019f0>"
       ]
      }, 
      {
       "output_type": "display_data", 
       "png": "[encoded data removed]"
      }
     ], 
     "prompt_number": 6
    }, 
    {
     "cell_type": "code", 
     "collapsed": false, 
     "input": [
      "oloc_filt_city = oloc[(oloc.distance <= 2000) & (oloc.name == '\u9752\u5c9b')]", 
      "oloc_filt_city.ix[:,1].hist()", 
      "#oloc_filt_city.ix[:,1].plot(kind='kde')"
     ], 
     "language": "python", 
     "outputs": [
      {
       "output_type": "pyout", 
       "prompt_number": 16, 
       "text": [
        "<matplotlib.axes.AxesSubplot at 0x8fc8c70>"
       ]
      }, 
      {
       "output_type": "display_data", 
       "png": "[encoded data removed]"
      }
     ], 
     "prompt_number": 16
    }, 
    {
     "cell_type": "code", 
     "collapsed": false, 
     "input": [
      "#oloc_filt_city = oloc[(oloc.distance <= 10000) & (oloc.name == '\u4e09\u4e9a')]", 
      "#oloc_filt_city.ix[:,1].hist()", 
      "#oloc_filt_city.ix[:,1].plot(kind='kde')", 
      "oloc_filt_city = oloc[(oloc.name == '\u9752\u5c9b')]", 
      "oloc_filt_city.ix[:,1].describe()"
     ], 
     "language": "python", 
     "outputs": [
      {
       "output_type": "pyout", 
       "prompt_number": 15, 
       "text": [
        "count       3828.000000", 
        "mean      172779.606197", 
        "std       306004.725796", 
        "min            5.247272", 
        "25%          360.954628", 
        "50%         3132.621948", 
        "75%       261775.371094", 
        "max      1678672.125000", 
        "dtype: float64"
       ]
      }
     ], 
     "prompt_number": 15
    }, 
    {
     "cell_type": "markdown", 
     "source": [
      "###\u6d4b\u8bd5\u6839\u636e\u7ecf\u7eac\u5ea6\u8ba1\u7b97\u4e24\u70b9\u95f4\u8ddd\u79bb\u516c\u5f0f"
     ]
    }, 
    {
     "cell_type": "code", 
     "collapsed": true, 
     "input": [
      "import math"
     ], 
     "language": "python", 
     "outputs": [], 
     "prompt_number": 17
    }, 
    {
     "cell_type": "code", 
     "collapsed": true, 
     "input": [
      "marslat = 40.0087025392", 
      "marslng = 116.332807041\t", 
      "templat = 39.9576376134", 
      "templng = 116.348733548", 
      "print arccos(sin(marslat* pi / 180)*sin(templat* pi / 180) + cos(marslat* pi / 180)*cos(templat* pi / 180)*cos((marslng-templng)* pi / 180)) * 6371004"
     ], 
     "language": "python", 
     "outputs": []
    }, 
    {
     "cell_type": "markdown", 
     "source": [
      "#\u9152\u5e97\u7528\u6237\u4e0b\u5355\u548c\u652f\u4ed8\u65f6\u95f4\u5dee\u7edf\u8ba1"
     ]
    }, 
    {
     "cell_type": "code", 
     "collapsed": false, 
     "input": [
      "import pandas as pd", 
      "file_path = '/Users/ytjia/Downloads/order_pay_gap'", 
      "fgap = pd.read_table(file_path, sep = '\\t')", 
      "fgap.head(5)"
     ], 
     "language": "python", 
     "outputs": [
      {
       "html": [
        "<div style=\"max-height:1000px;max-width:1500px;overflow:auto;\">", 
        "<table border=\"1\" class=\"dataframe\">", 
        "  <thead>", 
        "    <tr style=\"text-align: right;\">", 
        "      <th></th>", 
        "      <th>orderid</th>", 
        "      <th>gap_s</th>", 
        "      <th>gap_min</th>", 
        "    </tr>", 
        "  </thead>", 
        "  <tbody>", 
        "    <tr>", 
        "      <th>0</th>", 
        "      <td> 557526063</td>", 
        "      <td>  50</td>", 
        "      <td>  0.833333</td>", 
        "    </tr>", 
        "    <tr>", 
        "      <th>1</th>", 
        "      <td> 557533475</td>", 
        "      <td> 885</td>", 
        "      <td> 14.750000</td>", 
        "    </tr>", 
        "    <tr>", 
        "      <th>2</th>", 
        "      <td> 557535655</td>", 
        "      <td> 168</td>", 
        "      <td>  2.800000</td>", 
        "    </tr>", 
        "    <tr>", 
        "      <th>3</th>", 
        "      <td> 557537617</td>", 
        "      <td>  29</td>", 
        "      <td>  0.483333</td>", 
        "    </tr>", 
        "    <tr>", 
        "      <th>4</th>", 
        "      <td> 557548299</td>", 
        "      <td>  18</td>", 
        "      <td>  0.300000</td>", 
        "    </tr>", 
        "  </tbody>", 
        "</table>", 
        "</div>"
       ], 
       "output_type": "pyout", 
       "prompt_number": 2, 
       "text": [
        "     orderid  gap_s    gap_min", 
        "0  557526063     50   0.833333", 
        "1  557533475    885  14.750000", 
        "2  557535655    168   2.800000", 
        "3  557537617     29   0.483333", 
        "4  557548299     18   0.300000"
       ]
      }
     ], 
     "prompt_number": 2
    }, 
    {
     "cell_type": "code", 
     "collapsed": false, 
     "input": [
      "fgap.ix[:,1].describe()"
     ], 
     "language": "python", 
     "outputs": [
      {
       "output_type": "pyout", 
       "prompt_number": 5, 
       "text": [
        "count    3448024.000000", 
        "mean        8351.406451", 
        "std        99960.986412", 
        "min            0.000000", 
        "25%           33.000000", 
        "50%           74.000000", 
        "75%          177.000000", 
        "max      4086113.000000", 
        "dtype: float64"
       ]
      }
     ], 
     "prompt_number": 5
    }, 
    {
     "cell_type": "code", 
     "collapsed": false, 
     "input": [
      "fgap.ix[:,2].describe()"
     ], 
     "language": "python", 
     "outputs": [
      {
       "output_type": "pyout", 
       "prompt_number": 6, 
       "text": [
        "count    3448024.000000", 
        "mean         139.190108", 
        "std         1666.016440", 
        "min            0.000000", 
        "25%            0.550000", 
        "50%            1.233333", 
        "75%            2.950000", 
        "max        68101.883333", 
        "dtype: float64"
       ]
      }
     ], 
     "prompt_number": 6
    }, 
    {
     "cell_type": "code", 
     "collapsed": false, 
     "input": [
      "float(fgap[fgap.gap_min <= 10].ix[:,2].count())/fgap.ix[:,2].count()"
     ], 
     "language": "python", 
     "outputs": [
      {
       "output_type": "pyout", 
       "prompt_number": 14, 
       "text": [
        "0.90470309951438854"
       ]
      }
     ], 
     "prompt_number": 14
    }, 
    {
     "cell_type": "code", 
     "collapsed": false, 
     "input": [
      "float(fgap[fgap.gap_min <= 30].ix[:,2].count())/fgap.ix[:,2].count()"
     ], 
     "language": "python", 
     "outputs": [
      {
       "output_type": "pyout", 
       "prompt_number": 15, 
       "text": [
        "0.94704561221151595"
       ]
      }
     ], 
     "prompt_number": 15
    }, 
    {
     "cell_type": "code", 
     "collapsed": false, 
     "input": [
      "float(fgap[fgap.gap_min <= 1440].ix[:,2].count())/fgap.ix[:,2].count()"
     ], 
     "language": "python", 
     "outputs": [
      {
       "output_type": "pyout", 
       "prompt_number": 20, 
       "text": [
        "0.98731737366097216"
       ]
      }
     ], 
     "prompt_number": 20
    }, 
    {
     "cell_type": "code", 
     "collapsed": false, 
     "input": [
      "fgap.ix[:,2].hist()"
     ], 
     "language": "python", 
     "outputs": [
      {
       "output_type": "pyout", 
       "prompt_number": 10, 
       "text": [
        "<matplotlib.axes.AxesSubplot at 0xa90ea70>"
       ]
      }
     ], 
     "prompt_number": 10
    }, 
    {
     "cell_type": "code", 
     "collapsed": false, 
     "input": [
      "fgap[fgap.gap_min <= 60].ix[:,2].hist()"
     ], 
     "language": "python", 
     "outputs": [
      {
       "output_type": "pyout", 
       "prompt_number": 6, 
       "text": [
        "<matplotlib.axes.AxesSubplot at 0x96b9350>"
       ]
      }, 
      {
       "output_type": "display_data", 
       "png": "[encoded data removed]"
      }
     ], 
     "prompt_number": 6
    }, 
    {
     "cell_type": "code", 
     "collapsed": false, 
     "input": [
      "fgap[fgap.gap_min <= 1440].ix[:,2].plot(kind='kde')"
     ], 
     "language": "python", 
     "outputs": [
      {
       "output_type": "pyout", 
       "prompt_number": 7, 
       "text": [
        "<matplotlib.axes.AxesSubplot at 0x99e7d70>"
       ]
      }, 
      {
       "output_type": "display_data", 
       "png": "[encoded data removed]"
      }
     ], 
     "prompt_number": 7
    }, 
    {
     "cell_type": "code", 
     "collapsed": false, 
     "input": [
      "file_path = '/Users/ytjia/Downloads/mobile_geo'", 
      "fgeo = pd.read_table(file_path, sep = '\\t')", 
      "fgeo.head(5)", 
      " "
     ], 
     "language": "python", 
     "outputs": [
      {
       "html": [
        "<div style=\"max-height:1000px;max-width:1500px;overflow:auto;\">", 
        "<table border=\"1\" class=\"dataframe\">", 
        "  <thead>", 
        "    <tr style=\"text-align: right;\">", 
        "      <th></th>", 
        "      <th>dt</th>", 
        "      <th>total</th>", 
        "      <th>cnt_mobiel</th>", 
        "      <th>cnt_loc</th>", 
        "    </tr>", 
        "  </thead>", 
        "  <tbody>", 
        "    <tr>", 
        "      <th>0</th>", 
        "      <td> 20140811</td>", 
        "      <td> 2891148</td>", 
        "      <td> 2138975</td>", 
        "      <td> 1864160</td>", 
        "    </tr>", 
        "    <tr>", 
        "      <th>1</th>", 
        "      <td> 20140812</td>", 
        "      <td> 2899989</td>", 
        "      <td> 2123419</td>", 
        "      <td> 1849022</td>", 
        "    </tr>", 
        "    <tr>", 
        "      <th>2</th>", 
        "      <td> 20140813</td>", 
        "      <td> 2835716</td>", 
        "      <td> 2092088</td>", 
        "      <td> 1818642</td>", 
        "    </tr>", 
        "    <tr>", 
        "      <th>3</th>", 
        "      <td> 20140814</td>", 
        "      <td> 3166861</td>", 
        "      <td> 2333685</td>", 
        "      <td> 2031768</td>", 
        "    </tr>", 
        "    <tr>", 
        "      <th>4</th>", 
        "      <td> 20140815</td>", 
        "      <td> 3357371</td>", 
        "      <td> 2428620</td>", 
        "      <td> 2106154</td>", 
        "    </tr>", 
        "  </tbody>", 
        "</table>", 
        "</div>"
       ], 
       "output_type": "pyout", 
       "prompt_number": 114, 
       "text": [
        "         dt    total  cnt_mobiel  cnt_loc", 
        "0  20140811  2891148     2138975  1864160", 
        "1  20140812  2899989     2123419  1849022", 
        "2  20140813  2835716     2092088  1818642", 
        "3  20140814  3166861     2333685  2031768", 
        "4  20140815  3357371     2428620  2106154"
       ]
      }
     ], 
     "prompt_number": 114
    }, 
    {
     "cell_type": "code", 
     "collapsed": false, 
     "input": [
      "fgeo.ix[:,0]"
     ], 
     "language": "python", 
     "outputs": [
      {
       "output_type": "pyout", 
       "prompt_number": 115, 
       "text": [
        "0    20140811", 
        "1    20140812", 
        "2    20140813", 
        "3    20140814", 
        "4    20140815", 
        "5    20140816", 
        "6    20140817", 
        "Name: dt, dtype: int64"
       ]
      }
     ], 
     "prompt_number": 115
    }, 
    {
     "cell_type": "code", 
     "collapsed": false, 
     "input": [
      "fgeo.ix[:, 3] * 1.0 / fgeo.ix[:, 2]"
     ], 
     "language": "python", 
     "outputs": [
      {
       "output_type": "pyout", 
       "prompt_number": 117, 
       "text": [
        "0    0.871520", 
        "1    0.870776", 
        "2    0.869295", 
        "3    0.870626", 
        "4    0.867223", 
        "5    0.864944", 
        "6    0.867740", 
        "dtype: float64"
       ]
      }
     ], 
     "prompt_number": 117
    }, 
    {
     "cell_type": "markdown", 
     "source": [
      "#\u9152\u5e97\u7528\u6237\u652f\u4ed8\u4f4d\u7f6e\u4e0ePOI\u8ddd\u79bb\u5206\u6790"
     ]
    }, 
    {
     "cell_type": "code", 
     "collapsed": false, 
     "input": [
      "file_path = '/Users/ytjia/Downloads/pay_loc_total'", 
      "oloc = pd.read_table(file_path, sep = '\\t')", 
      "oloc.head(5)"
     ], 
     "language": "python", 
     "outputs": [
      {
       "html": [
        "<div style=\"max-height:1000px;max-width:1500px;overflow:auto;\">", 
        "<table border=\"1\" class=\"dataframe\">", 
        "  <thead>", 
        "    <tr style=\"text-align: right;\">", 
        "      <th></th>", 
        "      <th>coupon_id</th>", 
        "      <th>distance</th>", 
        "      <th>name</th>", 
        "    </tr>", 
        "  </thead>", 
        "  <tbody>", 
        "    <tr>", 
        "      <th>0</th>", 
        "      <td> 754661967</td>", 
        "      <td> 32429.546875</td>", 
        "      <td> \u54c8\u5c14\u6ee8</td>", 
        "    </tr>", 
        "    <tr>", 
        "      <th>1</th>", 
        "      <td> 747678535</td>", 
        "      <td>    97.618431</td>", 
        "      <td>  \u6850\u4e61</td>", 
        "    </tr>", 
        "    <tr>", 
        "      <th>2</th>", 
        "      <td> 745789342</td>", 
        "      <td>    72.065315</td>", 
        "      <td>  \u6850\u4e61</td>", 
        "    </tr>", 
        "    <tr>", 
        "      <th>3</th>", 
        "      <td> 743401897</td>", 
        "      <td>     0.284806</td>", 
        "      <td>  \u6850\u4e61</td>", 
        "    </tr>", 
        "    <tr>", 
        "      <th>4</th>", 
        "      <td> 757985802</td>", 
        "      <td>  2789.207031</td>", 
        "      <td>  \u4e0a\u6d77</td>", 
        "    </tr>", 
        "  </tbody>", 
        "</table>", 
        "</div>"
       ], 
       "output_type": "pyout", 
       "prompt_number": 35, 
       "text": [
        "   coupon_id      distance name", 
        "0  754661967  32429.546875  \u54c8\u5c14\u6ee8", 
        "1  747678535     97.618431   \u6850\u4e61", 
        "2  745789342     72.065315   \u6850\u4e61", 
        "3  743401897      0.284806   \u6850\u4e61", 
        "4  757985802   2789.207031   \u4e0a\u6d77"
       ]
      }
     ], 
     "prompt_number": 35
    }, 
    {
     "cell_type": "code", 
     "collapsed": false, 
     "input": [
      "oloc.ix[:,1].hist(bins=50)", 
      "oloc.ix[:,1].describe()"
     ], 
     "language": "python", 
     "outputs": [
      {
       "output_type": "pyout", 
       "prompt_number": 227, 
       "text": [
        "count      578196.000000", 
        "mean        72793.653071", 
        "std        288713.948306", 
        "min             0.134259", 
        "25%           145.978279", 
        "50%           884.123230", 
        "75%          7439.986694", 
        "max      13442523.000000", 
        "dtype: float64"
       ]
      }, 
      {
       "output_type": "display_data", 
       "png": "[encoded data removed]"
      }
     ], 
     "prompt_number": 227
    }, 
    {
     "cell_type": "code", 
     "collapsed": false, 
     "input": [
      "oloc_filt_1000 = oloc[(oloc.distance <= 60) & (oloc.distance >= 20)]", 
      "oloc_filt_1000.count() * 1.0 / oloc.count()", 
      "#oloc_filt_1000.ix[:, 1].hist(bins=50)", 
      "#oloc_filt_1000.ix[:, 1].plot(kind='kde')", 
      "#test = oloc_filt_1000.ix[:, 1]", 
      "#test.hist(bins=10, color='b')", 
      "#test.plot(kind='kde', style = 'b--')"
     ], 
     "language": "python", 
     "outputs": [
      {
       "output_type": "pyout", 
       "prompt_number": 232, 
       "text": [
        "coupon_id    0.11311", 
        "distance     0.11311", 
        "name         0.11311", 
        "dtype: float64"
       ]
      }
     ], 
     "prompt_number": 232
    }, 
    {
     "cell_type": "code", 
     "collapsed": false, 
     "input": [
      "oloc_filt_city = oloc[(oloc.distance <= 1000) & (oloc.name == '\u4e0a\u6d77')]", 
      "oloc_filt_city.ix[:,1].hist(bins=50)", 
      "#oloc_filt_city.ix[:,1].plot(kind='kde')"
     ], 
     "language": "python", 
     "outputs": [
      {
       "output_type": "pyout", 
       "prompt_number": 136, 
       "text": [
        "<matplotlib.axes.AxesSubplot at 0x17f962d0>"
       ]
      }, 
      {
       "output_type": "display_data", 
       "png": "[encoded data removed]"
      }
     ], 
     "prompt_number": 136
    }, 
    {
     "cell_type": "code", 
     "collapsed": false, 
     "input": [
      "oloc_filt_city = oloc[(oloc.distance <= 100000000) & (oloc.name == '\u53a6\u95e8')]", 
      "oloc_filt_city.ix[:,1].hist(bins=50)", 
      "#oloc_filt_city.ix[:,1].plot(kind='kde')"
     ], 
     "language": "python", 
     "outputs": [
      {
       "output_type": "pyout", 
       "prompt_number": 224, 
       "text": [
        "<matplotlib.axes.AxesSubplot at 0x1d49ab90>"
       ]
      }, 
      {
       "output_type": "display_data", 
       "png": "[encoded data removed]"
      }
     ], 
     "prompt_number": 224
    }, 
    {
     "cell_type": "code", 
     "collapsed": true, 
     "input": [
      "import pandas as pd", 
      "import numpy as np"
     ], 
     "language": "python", 
     "outputs": [], 
     "prompt_number": 172
    }, 
    {
     "cell_type": "code", 
     "collapsed": false, 
     "input": [
      "city_sh = pd.DataFrame(oloc[(oloc.name == '\u4e0a\u6d77')].ix[:,1].describe(), columns = ['\u4e0a\u6d77'])", 
      "city_bj = pd.DataFrame(oloc[(oloc.name == '\u5317\u4eac')].ix[:,1].describe(), columns = ['\u5317\u4eac'])", 
      "city_xa = pd.DataFrame(oloc[(oloc.name == '\u897f\u5b89')].ix[:,1].describe(), columns = ['\u897f\u5b89'])", 
      "city_hh = pd.DataFrame(oloc[(oloc.name == '\u547c\u548c\u6d69\u7279')].ix[:,1].describe(), columns = ['\u547c\u548c\u6d69\u7279'])", 
      "city_qd = pd.DataFrame(oloc[(oloc.name == '\u9752\u5c9b')].ix[:,1].describe(), columns = ['\u9752\u5c9b'])", 
      "city_xm = pd.DataFrame(oloc[(oloc.name == '\u53a6\u95e8')].ix[:,1].describe(), columns = ['\u53a6\u95e8'])", 
      "city_sy = pd.DataFrame(oloc[(oloc.name == '\u4e09\u4e9a')].ix[:,1].describe(), columns = ['\u4e09\u4e9a'])", 
      "city_lj = pd.DataFrame(oloc[(oloc.name == '\u4e3d\u6c5f')].ix[:,1].describe(), columns = ['\u4e3d\u6c5f'])"
     ], 
     "language": "python", 
     "outputs": [], 
     "prompt_number": 203
    }, 
    {
     "cell_type": "code", 
     "collapsed": false, 
     "input": [
      "bj_sh = pd.merge(city_bj, city_sh, left_index=True, right_index=True)", 
      "sh_xa = pd.merge(bj_sh, city_xa, left_index=True, right_index=True)", 
      "xa_hh = pd.merge(sh_xa, city_hh, left_index=True, right_index=True)", 
      "hh_qd = pd.merge(xa_hh, city_qd, left_index=True, right_index=True)", 
      "qd_xm = pd.merge(hh_qd, city_xm, left_index=True, right_index=True)"
     ], 
     "language": "python", 
     "outputs": [], 
     "prompt_number": 206
    }, 
    {
     "cell_type": "code", 
     "collapsed": false, 
     "input": [
      "tmp = pd.merge(qd_xm, city_sy, left_index=True, right_index=True)", 
      "tmp = pd.merge(tmp, city_lj, left_index=True, right_index=True)"
     ], 
     "language": "python", 
     "outputs": [
      {
       "html": [
        "<div style=\"max-height:1000px;max-width:1500px;overflow:auto;\">", 
        "<table border=\"1\" class=\"dataframe\">", 
        "  <thead>", 
        "    <tr style=\"text-align: right;\">", 
        "      <th></th>", 
        "      <th>\u5317\u4eac</th>", 
        "      <th>\u4e0a\u6d77</th>", 
        "      <th>\u897f\u5b89</th>", 
        "      <th>\u547c\u548c\u6d69\u7279</th>", 
        "      <th>\u9752\u5c9b</th>", 
        "      <th>\u53a6\u95e8</th>", 
        "      <th>\u4e09\u4e9a</th>", 
        "      <th>\u4e3d\u6c5f</th>", 
        "    </tr>", 
        "  </thead>", 
        "  <tbody>", 
        "    <tr>", 
        "      <th>count</th>", 
        "      <td>    14250.000000</td>", 
        "      <td>    12043.000000</td>", 
        "      <td>   18458.000000</td>", 
        "      <td>    9152.000000</td>", 
        "      <td>    7088.000000</td>", 
        "      <td>    7575.000000</td>", 
        "      <td>    4087.000000</td>", 
        "      <td>    2364.000000</td>", 
        "    </tr>", 
        "    <tr>", 
        "      <th>mean</th>", 
        "      <td>   161909.837730</td>", 
        "      <td>   101941.474774</td>", 
        "      <td>   93780.070548</td>", 
        "      <td>   32918.068166</td>", 
        "      <td>  162737.616434</td>", 
        "      <td>  443053.228295</td>", 
        "      <td>  347303.609289</td>", 
        "      <td>  333342.034209</td>", 
        "    </tr>", 
        "    <tr>", 
        "      <th>std</th>", 
        "      <td>   375150.946900</td>", 
        "      <td>   345625.232256</td>", 
        "      <td>  286441.955641</td>", 
        "      <td>  149619.307362</td>", 
        "      <td>  283730.096669</td>", 
        "      <td>  444202.808590</td>", 
        "      <td>  692310.553480</td>", 
        "      <td>  824181.889798</td>", 
        "    </tr>", 
        "    <tr>", 
        "      <th>min</th>", 
        "      <td>        0.615251</td>", 
        "      <td>        0.968154</td>", 
        "      <td>       1.013632</td>", 
        "      <td>       0.977419</td>", 
        "      <td>       0.569612</td>", 
        "      <td>       1.013632</td>", 
        "      <td>       2.909114</td>", 
        "      <td>       2.282401</td>", 
        "    </tr>", 
        "    <tr>", 
        "      <th>25%</th>", 
        "      <td>      148.955780</td>", 
        "      <td>      215.263649</td>", 
        "      <td>     116.430355</td>", 
        "      <td>     114.362829</td>", 
        "      <td>     439.845169</td>", 
        "      <td>    5434.346436</td>", 
        "      <td>     244.507782</td>", 
        "      <td>     336.060272</td>", 
        "    </tr>", 
        "    <tr>", 
        "      <th>50%</th>", 
        "      <td>     1450.318176</td>", 
        "      <td>     1650.145630</td>", 
        "      <td>     694.037567</td>", 
        "      <td>     546.093567</td>", 
        "      <td>    7057.458008</td>", 
        "      <td>  458379.843750</td>", 
        "      <td>    6008.586914</td>", 
        "      <td>   93766.031250</td>", 
        "    </tr>", 
        "    <tr>", 
        "      <th>75%</th>", 
        "      <td>    53904.668945</td>", 
        "      <td>    28890.088867</td>", 
        "      <td>    7296.383423</td>", 
        "      <td>    2593.778015</td>", 
        "      <td>  227962.996094</td>", 
        "      <td>  693240.875000</td>", 
        "      <td>  215059.257812</td>", 
        "      <td>  319993.843750</td>", 
        "    </tr>", 
        "    <tr>", 
        "      <th>max</th>", 
        "      <td> 12072577.000000</td>", 
        "      <td> 12787635.000000</td>", 
        "      <td> 6391147.500000</td>", 
        "      <td> 5370324.000000</td>", 
        "      <td> 3349810.750000</td>", 
        "      <td> 2992056.500000</td>", 
        "      <td> 3873792.750000</td>", 
        "      <td> 7387196.500000</td>", 
        "    </tr>", 
        "  </tbody>", 
        "</table>", 
        "</div>"
       ], 
       "output_type": "pyout", 
       "prompt_number": 208, 
       "text": [
        "                    \u5317\u4eac               \u4e0a\u6d77              \u897f\u5b89            \u547c\u548c\u6d69\u7279              \u9752\u5c9b              \u53a6\u95e8              \u4e09\u4e9a              \u4e3d\u6c5f", 
        "count     14250.000000     12043.000000    18458.000000     9152.000000     7088.000000     7575.000000     4087.000000     2364.000000", 
        "mean     161909.837730    101941.474774    93780.070548    32918.068166   162737.616434   443053.228295   347303.609289   333342.034209", 
        "std      375150.946900    345625.232256   286441.955641   149619.307362   283730.096669   444202.808590   692310.553480   824181.889798", 
        "min           0.615251         0.968154        1.013632        0.977419        0.569612        1.013632        2.909114        2.282401", 
        "25%         148.955780       215.263649      116.430355      114.362829      439.845169     5434.346436      244.507782      336.060272", 
        "50%        1450.318176      1650.145630      694.037567      546.093567     7057.458008   458379.843750     6008.586914    93766.031250", 
        "75%       53904.668945     28890.088867     7296.383423     2593.778015   227962.996094   693240.875000   215059.257812   319993.843750", 
        "max    12072577.000000  12787635.000000  6391147.500000  5370324.000000  3349810.750000  2992056.500000  3873792.750000  7387196.500000"
       ]
      }
     ], 
     "prompt_number": 208
    }, 
    {
     "cell_type": "code", 
     "collapsed": false, 
     "input": [
      "tmp.T"
     ], 
     "language": "python", 
     "outputs": [
      {
       "html": [
        "<div style=\"max-height:1000px;max-width:1500px;overflow:auto;\">", 
        "<table border=\"1\" class=\"dataframe\">", 
        "  <thead>", 
        "    <tr style=\"text-align: right;\">", 
        "      <th></th>", 
        "      <th>count</th>", 
        "      <th>mean</th>", 
        "      <th>std</th>", 
        "      <th>min</th>", 
        "      <th>25%</th>", 
        "      <th>50%</th>", 
        "      <th>75%</th>", 
        "      <th>max</th>", 
        "    </tr>", 
        "  </thead>", 
        "  <tbody>", 
        "    <tr>", 
        "      <th>\u5317\u4eac</th>", 
        "      <td> 14250</td>", 
        "      <td> 161909.837730</td>", 
        "      <td> 375150.946900</td>", 
        "      <td> 0.615251</td>", 
        "      <td>  148.955780</td>", 
        "      <td>   1450.318176</td>", 
        "      <td>  53904.668945</td>", 
        "      <td> 12072577.00</td>", 
        "    </tr>", 
        "    <tr>", 
        "      <th>\u4e0a\u6d77</th>", 
        "      <td> 12043</td>", 
        "      <td> 101941.474774</td>", 
        "      <td> 345625.232256</td>", 
        "      <td> 0.968154</td>", 
        "      <td>  215.263649</td>", 
        "      <td>   1650.145630</td>", 
        "      <td>  28890.088867</td>", 
        "      <td> 12787635.00</td>", 
        "    </tr>", 
        "    <tr>", 
        "      <th>\u897f\u5b89</th>", 
        "      <td> 18458</td>", 
        "      <td>  93780.070548</td>", 
        "      <td> 286441.955641</td>", 
        "      <td> 1.013632</td>", 
        "      <td>  116.430355</td>", 
        "      <td>    694.037567</td>", 
        "      <td>   7296.383423</td>", 
        "      <td>  6391147.50</td>", 
        "    </tr>", 
        "    <tr>", 
        "      <th>\u547c\u548c\u6d69\u7279</th>", 
        "      <td>  9152</td>", 
        "      <td>  32918.068166</td>", 
        "      <td> 149619.307362</td>", 
        "      <td> 0.977419</td>", 
        "      <td>  114.362829</td>", 
        "      <td>    546.093567</td>", 
        "      <td>   2593.778015</td>", 
        "      <td>  5370324.00</td>", 
        "    </tr>", 
        "    <tr>", 
        "      <th>\u9752\u5c9b</th>", 
        "      <td>  7088</td>", 
        "      <td> 162737.616434</td>", 
        "      <td> 283730.096669</td>", 
        "      <td> 0.569612</td>", 
        "      <td>  439.845169</td>", 
        "      <td>   7057.458008</td>", 
        "      <td> 227962.996094</td>", 
        "      <td>  3349810.75</td>", 
        "    </tr>", 
        "    <tr>", 
        "      <th>\u53a6\u95e8</th>", 
        "      <td>  7575</td>", 
        "      <td> 443053.228295</td>", 
        "      <td> 444202.808590</td>", 
        "      <td> 1.013632</td>", 
        "      <td> 5434.346436</td>", 
        "      <td> 458379.843750</td>", 
        "      <td> 693240.875000</td>", 
        "      <td>  2992056.50</td>", 
        "    </tr>", 
        "    <tr>", 
        "      <th>\u4e09\u4e9a</th>", 
        "      <td>  4087</td>", 
        "      <td> 347303.609289</td>", 
        "      <td> 692310.553480</td>", 
        "      <td> 2.909114</td>", 
        "      <td>  244.507782</td>", 
        "      <td>   6008.586914</td>", 
        "      <td> 215059.257812</td>", 
        "      <td>  3873792.75</td>", 
        "    </tr>", 
        "    <tr>", 
        "      <th>\u4e3d\u6c5f</th>", 
        "      <td>  2364</td>", 
        "      <td> 333342.034209</td>", 
        "      <td> 824181.889798</td>", 
        "      <td> 2.282401</td>", 
        "      <td>  336.060272</td>", 
        "      <td>  93766.031250</td>", 
        "      <td> 319993.843750</td>", 
        "      <td>  7387196.50</td>", 
        "    </tr>", 
        "  </tbody>", 
        "</table>", 
        "</div>"
       ], 
       "output_type": "pyout", 
       "prompt_number": 209, 
       "text": [
        "      count           mean            std       min          25%  \\", 
        "\u5317\u4eac    14250  161909.837730  375150.946900  0.615251   148.955780   ", 
        "\u4e0a\u6d77    12043  101941.474774  345625.232256  0.968154   215.263649   ", 
        "\u897f\u5b89    18458   93780.070548  286441.955641  1.013632   116.430355   ", 
        "\u547c\u548c\u6d69\u7279   9152   32918.068166  149619.307362  0.977419   114.362829   ", 
        "\u9752\u5c9b     7088  162737.616434  283730.096669  0.569612   439.845169   ", 
        "\u53a6\u95e8     7575  443053.228295  444202.808590  1.013632  5434.346436   ", 
        "\u4e09\u4e9a     4087  347303.609289  692310.553480  2.909114   244.507782   ", 
        "\u4e3d\u6c5f     2364  333342.034209  824181.889798  2.282401   336.060272   ", 
        "", 
        "                50%            75%          max  ", 
        "\u5317\u4eac      1450.318176   53904.668945  12072577.00  ", 
        "\u4e0a\u6d77      1650.145630   28890.088867  12787635.00  ", 
        "\u897f\u5b89       694.037567    7296.383423   6391147.50  ", 
        "\u547c\u548c\u6d69\u7279     546.093567    2593.778015   5370324.00  ", 
        "\u9752\u5c9b      7057.458008  227962.996094   3349810.75  ", 
        "\u53a6\u95e8    458379.843750  693240.875000   2992056.50  ", 
        "\u4e09\u4e9a      6008.586914  215059.257812   3873792.75  ", 
        "\u4e3d\u6c5f     93766.031250  319993.843750   7387196.50  "
       ]
      }
     ], 
     "prompt_number": 209
    }, 
    {
     "cell_type": "code", 
     "collapsed": false, 
     "input": [
      "oloc[(oloc.name == '\u53a6\u95e8')].ix[:,1].describe()"
     ], 
     "language": "python", 
     "outputs": [
      {
       "output_type": "pyout", 
       "prompt_number": 211, 
       "text": [
        "count       7575.000000", 
        "mean      443053.228295", 
        "std       444202.808590", 
        "min            1.013632", 
        "25%         5434.346436", 
        "50%       458379.843750", 
        "75%       693240.875000", 
        "max      2992056.500000", 
        "dtype: float64"
       ]
      }
     ], 
     "prompt_number": 211
    }, 
    {
     "cell_type": "code", 
     "collapsed": false, 
     "input": [
      "oloc[(oloc.distance <= 5000) & (oloc.name == '\u53a6\u95e8')].count()"
     ], 
     "language": "python", 
     "outputs": [
      {
       "output_type": "pyout", 
       "prompt_number": 220, 
       "text": [
        "coupon_id    1851", 
        "distance     1851", 
        "name         1851", 
        "dtype: int64"
       ]
      }
     ], 
     "prompt_number": 220
    }, 
    {
     "cell_type": "markdown", 
     "source": [
      "#\u652f\u4ed8\u5230\u6d88\u8d39\u65f6\u95f4\u95f4\u9694"
     ]
    }, 
    {
     "cell_type": "code", 
     "collapsed": false, 
     "input": [
      "file_path = '/Users/ytjia/Downloads/pay_use_gap'", 
      "fgap = pd.read_table(file_path, sep = '\\t')", 
      "fgap.head(5)"
     ], 
     "language": "python", 
     "outputs": [
      {
       "html": [
        "<div style=\"max-height:1000px;max-width:1500px;overflow:auto;\">", 
        "<table border=\"1\" class=\"dataframe\">", 
        "  <thead>", 
        "    <tr style=\"text-align: right;\">", 
        "      <th></th>", 
        "      <th>coupon_id</th>", 
        "      <th>gap_s</th>", 
        "      <th>gap_m</th>", 
        "    </tr>", 
        "  </thead>", 
        "  <tbody>", 
        "    <tr>", 
        "      <th>0</th>", 
        "      <td> 650140207</td>", 
        "      <td>   646</td>", 
        "      <td>  10.766667</td>", 
        "    </tr>", 
        "    <tr>", 
        "      <th>1</th>", 
        "      <td> 650142187</td>", 
        "      <td> 43431</td>", 
        "      <td> 723.850000</td>", 
        "    </tr>", 
        "    <tr>", 
        "      <th>2</th>", 
        "      <td> 650142188</td>", 
        "      <td> 43431</td>", 
        "      <td> 723.850000</td>", 
        "    </tr>", 
        "    <tr>", 
        "      <th>3</th>", 
        "      <td> 650142189</td>", 
        "      <td> 43431</td>", 
        "      <td> 723.850000</td>", 
        "    </tr>", 
        "    <tr>", 
        "      <th>4</th>", 
        "      <td> 650145772</td>", 
        "      <td> 37665</td>", 
        "      <td> 627.750000</td>", 
        "    </tr>", 
        "  </tbody>", 
        "</table>", 
        "</div>"
       ], 
       "output_type": "pyout", 
       "prompt_number": 240, 
       "text": [
        "   coupon_id  gap_s       gap_m", 
        "0  650140207    646   10.766667", 
        "1  650142187  43431  723.850000", 
        "2  650142188  43431  723.850000", 
        "3  650142189  43431  723.850000", 
        "4  650145772  37665  627.750000"
       ]
      }
     ], 
     "prompt_number": 240
    }, 
    {
     "cell_type": "code", 
     "collapsed": false, 
     "input": [
      "fgap.ix[:, 2].describe()"
     ], 
     "language": "python", 
     "outputs": [
      {
       "output_type": "pyout", 
       "prompt_number": 241, 
       "text": [
        "count    3365671.000000", 
        "mean        1190.593172", 
        "std         3555.449067", 
        "min            0.100000", 
        "25%            8.683333", 
        "50%           61.983333", 
        "75%          809.366667", 
        "max        70405.716667", 
        "dtype: float64"
       ]
      }
     ], 
     "prompt_number": 241
    }, 
    {
     "cell_type": "code", 
     "collapsed": false, 
     "input": [
      "fgap_filt = fgap[fgap.gap_m <= 7200]", 
      "fgap_filt.ix[:, 2].hist(bins=50)"
     ], 
     "language": "python", 
     "outputs": [
      {
       "output_type": "pyout", 
       "prompt_number": 242, 
       "text": [
        "<matplotlib.axes.AxesSubplot at 0x1ce3d8d0>"
       ]
      }, 
      {
       "output_type": "display_data", 
       "png": "[encoded data removed]"
      }
     ], 
     "prompt_number": 242
    }, 
    {
     "cell_type": "code", 
     "collapsed": true, 
     "input": [], 
     "language": "python", 
     "outputs": []
    }
   ]
  }
 ]
}